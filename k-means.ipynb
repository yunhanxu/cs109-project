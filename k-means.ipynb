{
 "cells": [
  {
   "cell_type": "code",
   "execution_count": 1,
   "metadata": {
    "collapsed": true
   },
   "outputs": [],
   "source": [
    "%matplotlib inline\n",
    "import numpy as np\n",
    "import sklearn.cluster\n",
    "import sklearn.feature_extraction\n",
    "import matplotlib as mpl\n",
    "import matplotlib.cm as cm\n",
    "import matplotlib.pyplot as plt"
   ]
  },
  {
   "cell_type": "code",
   "execution_count": 2,
   "metadata": {
    "collapsed": true
   },
   "outputs": [],
   "source": [
    "# Generate a random data matrix. n = number of data points; m = length of each data point; num_types = number of types\n",
    "def gen_data(n, m, num_types):\n",
    "    # type for each data point (each from 0 to n-1)\n",
    "    types = np.trunc(np.random.random_sample(n)*num_types)\n",
    "    # list of random vectors of m integers between 20 and 40, to serve as the mean for each type\n",
    "    means = [np.random.randint(20,40,m) for t in range(num_types)]\n",
    "    # list of vectors of standard deviations for each type\n",
    "    stddevs = 2 * np.ones([num_types,m])\n",
    "    # generate a data matrix and round to the nearest thousandth\n",
    "    return np.round(map(lambda t : list(np.random.randn(len(means[t])) * stddevs[t] + means[t]), map(int, types)),3)"
   ]
  },
  {
   "cell_type": "code",
   "execution_count": 3,
   "metadata": {
    "collapsed": true
   },
   "outputs": [],
   "source": [
    "# run k-means clustering on M, for each k values in k_vals\n",
    "def k_mean_test(M, k_vals):\n",
    "    results = []\n",
    "    # sum of squared Euclidean distances from mean\n",
    "    var = sum(np.var(M,0))*len(M)\n",
    "    # loop through all k values provided\n",
    "    for k in k_vals:\n",
    "        # fit k-means clusterer\n",
    "        fit = sklearn.cluster.KMeans(n_clusters=k).fit(M)\n",
    "        # sum of squared Euclidean distance from cluster center\n",
    "        within_var = sum(map(lambda r : min(r)**2, fit.transform(M)))\n",
    "        results.append((fit, k, within_var/var))\n",
    "    return results"
   ]
  },
  {
   "cell_type": "code",
   "execution_count": 7,
   "metadata": {
    "collapsed": false
   },
   "outputs": [
    {
     "name": "stdout",
     "output_type": "stream",
     "text": [
      "[[1, 2, 3, 4, 5, 6, 7, 8, 9, 10], [0.99999999999999956, 0.50108324493184819, 0.16819114649030564, 0.12933941580081831, 0.10025777876088444, 0.09394033720861053, 0.089096087550106229, 0.083069258147858885, 0.078501181076039039, 0.07564579107754206]]\n",
      "Wall time: 350 ms\n"
     ]
    },
    {
     "data": {
      "image/png": "[encoded data removed]",
      "text/plain": [
       "<matplotlib.figure.Figure at 0x1b8570f0>"
      ]
     },
     "metadata": {},
     "output_type": "display_data"
    }
   ],
   "source": [
    "%%time\n",
    "# generate 200 data points in R^4, with 5 topics\n",
    "M = gen_data(200, 4, 5)\n",
    "# plot results for k=1 to 10\n",
    "results = k_mean_test(M, range(1,11))\n",
    "plot_results = map(list, zip(*[(b,c) for a,b,c in results]))\n",
    "print plot_results\n",
    "plt.plot(plot_results[0], plot_results[1], 'p-')"
   ]
  },
  {
   "cell_type": "code",
   "execution_count": 11,
   "metadata": {
    "collapsed": false
   },
   "outputs": [
    {
     "name": "stdout",
     "output_type": "stream",
     "text": [
      "Wall time: 32.7 s\n"
     ]
    }
   ],
   "source": [
    "%%time\n",
    "# read in data from csv\n",
    "noun_train_mat = np.loadtxt(\"noun_train_mat.csv\", delimiter = \",\")\n",
    "# use TF-IDF to scale each document's vector to have norm 1 and place a lower weight on very common words\n",
    "tf_idf_fit = sklearn.feature_extraction.text.TfidfTransformer().fit(noun_train_mat)\n",
    "noun_train_mat = tf_idf_fit.transform(noun_train_mat).toarray()"
   ]
  },
  {
   "cell_type": "code",
   "execution_count": 25,
   "metadata": {
    "collapsed": false
   },
   "outputs": [
    {
     "name": "stdout",
     "output_type": "stream",
     "text": [
      "Wall time: 20.5 s\n"
     ]
    }
   ],
   "source": [
    "%%time\n",
    "var = sum(np.var(noun_train_mat,0))*len(noun_train_mat)\n",
    "kmeans_fit = sklearn.cluster.KMeans(n_clusters=14).fit(noun_train_mat)\n",
    "within_var = sum(map(lambda r : min(r)**2, kmeans_fit.transform(noun_train_mat)))\n",
    "#results.append((k, within_var/var))\n",
    "\n",
    "#plot_results = map(list, zip(*k_mean_test(M, range(1,21))))\n",
    "#print plot_results\n",
    "#plt.plot(plot_results[0], plot_results[1], 'p-')"
   ]
  },
  {
   "cell_type": "code",
   "execution_count": 36,
   "metadata": {
    "collapsed": false,
    "scrolled": false
   },
   "outputs": [
    {
     "name": "stdout",
     "output_type": "stream",
     "text": [
      "Number of documents per cluster: [43, 289, 111, 115, 24, 37, 77, 12, 49, 188, 88, 42, 19, 57]\n",
      "Wall time: 91 ms\n"
     ]
    }
   ],
   "source": [
    "%%time\n",
    "# use the fit above to cluster the data\n",
    "clusters = kmeans_fit.predict(noun_train_mat)\n",
    "cluster_lists = [[i for i,j in enumerate(clusters) if j==cluster] for cluster in range(14)]\n",
    "print 'Number of documents per cluster:', [len(clusters[clusters==i]) for i in range(14)]\n",
    "# uncomment this loop to see a list of documents by cluster\n",
    "#for cluster in range(14):\n",
    "#    print\n",
    "#    print 'Documents in category %s:' % cluster, cluster_lists[cluster]"
   ]
  },
  {
   "cell_type": "code",
   "execution_count": 42,
   "metadata": {
    "collapsed": false
   },
   "outputs": [
    {
     "name": "stdout",
     "output_type": "stream",
     "text": [
      "Wall time: 11.5 s\n"
     ]
    }
   ],
   "source": [
    "%%time\n",
    "# read in test data from csv\n",
    "noun_test_mat = np.loadtxt(\"noun_test_mat.csv\", delimiter = \",\")\n",
    "# use TF-IDF to scale each document's vector to have norm 1 and place a lower weight on very common words\n",
    "noun_test_mat = tf_idf_fit.transform(noun_test_mat).toarray()"
   ]
  },
  {
   "cell_type": "code",
   "execution_count": 63,
   "metadata": {
    "collapsed": false
   },
   "outputs": [
    {
     "name": "stdout",
     "output_type": "stream",
     "text": [
      "Number of documents per cluster: [16, 141, 41, 39, 8, 15, 21, 5, 17, 82, 32, 9, 3, 15]\n",
      "Wall time: 44 ms\n"
     ]
    }
   ],
   "source": [
    "%%time\n",
    "# use NMF fit from training data to cluster test observations\n",
    "clusters_test = kmeans_fit.predict(noun_test_mat)\n",
    "cluster_lists_test = [[i for i,j in enumerate(clusters_test) if j==cluster] for cluster in range(14)]\n",
    "print 'Number of documents per cluster:', [len(clusters_test[clusters_test==i]) for i in range(14)]\n",
    "# uncomment this loop to see a list of documents by cluster\n",
    "#for cluster in range(14):\n",
    "#    print\n",
    "#    print 'Documents in category %s:' % cluster, cluster_lists_test[cluster]"
   ]
  },
  {
   "cell_type": "code",
   "execution_count": null,
   "metadata": {
    "collapsed": true
   },
   "outputs": [],
   "source": []
  }
 ],
 "metadata": {
  "kernelspec": {
   "display_name": "Python 2",
   "language": "python",
   "name": "python2"
  },
  "language_info": {
   "codemirror_mode": {
    "name": "ipython",
    "version": 2
   },
   "file_extension": ".py",
   "mimetype": "text/x-python",
   "name": "python",
   "nbconvert_exporter": "python",
   "pygments_lexer": "ipython2",
   "version": "2.7.10"
  }
 },
 "nbformat": 4,
 "nbformat_minor": 0
}
