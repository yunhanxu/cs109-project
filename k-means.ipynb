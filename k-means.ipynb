{
 "cells": [
  {
   "cell_type": "code",
   "execution_count": 1,
   "metadata": {
    "collapsed": true
   },
   "outputs": [],
   "source": [
    "%matplotlib inline\n",
    "import numpy as np\n",
    "import sklearn.cluster\n",
    "import matplotlib as mpl\n",
    "import matplotlib.cm as cm\n",
    "import matplotlib.pyplot as plt"
   ]
  },
  {
   "cell_type": "code",
   "execution_count": 2,
   "metadata": {
    "collapsed": true
   },
   "outputs": [],
   "source": [
    "# Generate a random data matrix. n = number of data points; m = length of each data point; num_types = number of types\n",
    "def gen_data(n, m, num_types):\n",
    "    # type for each data point (each from 0 to n-1)\n",
    "    types = np.trunc(np.random.random_sample(n)*num_types)\n",
    "    # list of random vectors of m integers between 20 and 40, to serve as the mean for each type\n",
    "    means = [np.random.randint(20,40,m) for t in range(num_types)]\n",
    "    # list of vectors of standard deviations for each type\n",
    "    stddevs = 2 * np.ones([num_types,m])\n",
    "    # generate a data matrix and round to the nearest thousandth\n",
    "    return np.round(map(lambda t : list(np.random.randn(len(means[t])) * stddevs[t] + means[t]), map(int, types)),3)"
   ]
  },
  {
   "cell_type": "code",
   "execution_count": 3,
   "metadata": {
    "collapsed": true
   },
   "outputs": [],
   "source": [
    "# run k-means clustering on M, for each k values in k_vals\n",
    "def k_mean_test(M, k_vals):\n",
    "    results = []\n",
    "    for k in k_vals:\n",
    "        fit = sklearn.cluster.KMeans(n_clusters=k).fit(M)\n",
    "        var = sum(np.var(M,0))*len(M)\n",
    "        within_var = sum(map(lambda r : min(r)**2, fit.transform(M)))\n",
    "        results.append((k, within_var/var))\n",
    "    return results"
   ]
  },
  {
   "cell_type": "code",
   "execution_count": 4,
   "metadata": {
    "collapsed": false
   },
   "outputs": [
    {
     "name": "stdout",
     "output_type": "stream",
     "text": [
      "[[1, 2, 3, 4, 5, 6, 7, 8, 9, 10, 11, 12, 13, 14, 15, 16, 17, 18, 19, 20, 21, 22, 23, 24, 25, 26, 27, 28, 29, 30, 31, 32, 33, 34, 35, 36, 37, 38, 39, 40, 41, 42, 43, 44, 45, 46, 47, 48, 49, 50], [1.0000000000000011, 0.51154732813979809, 0.19408891355529098, 0.15619756541756322, 0.11971759502286615, 0.11174017859031837, 0.10529108565221205, 0.097598830588982055, 0.092503441497220479, 0.089055187194338553, 0.084778478511307265, 0.079611540202044168, 0.075923013382734425, 0.070361137334617366, 0.068324068842415986, 0.065801434523493602, 0.06415863981112957, 0.061751950923499124, 0.059854068396731831, 0.057416355763832687, 0.055035108398676334, 0.05320508957721936, 0.052604354583503737, 0.050227007802491751, 0.04907326826272216, 0.047563134870563996, 0.046424748455049687, 0.045055648748482224, 0.043962609904476098, 0.041829751795093691, 0.042222723297754228, 0.040015300434596758, 0.03998271884643198, 0.038219180856371299, 0.037842346898096027, 0.036427334713343099, 0.036288263059235361, 0.034971918897946687, 0.034463420279131934, 0.032726091292680837, 0.033021617476761064, 0.031121687367774261, 0.030999994492237615, 0.029935426887505903, 0.029619096631128591, 0.029511809524142264, 0.028002115574035816, 0.027238833629400921, 0.027183804521268, 0.026993315285941538]]\n"
     ]
    },
    {
     "data": {
      "text/plain": [
       "[<matplotlib.lines.Line2D at 0x1b114e10>]"
      ]
     },
     "execution_count": 4,
     "metadata": {},
     "output_type": "execute_result"
    },
    {
     "data": {
      "image/png": "[encoded data removed]",
      "text/plain": [
       "<matplotlib.figure.Figure at 0x4294eb8>"
      ]
     },
     "metadata": {},
     "output_type": "display_data"
    }
   ],
   "source": [
    "# generate 200 data points in R^4, with 5 topics\n",
    "M = gen_data(200, 4, 5)\n",
    "# plot results for k=1 to 10\n",
    "plot_results = map(list, zip(*k_mean_test(M, range(1,51))))\n",
    "print plot_results\n",
    "plt.plot(plot_results[0], plot_results[1], 'p-')"
   ]
  },
  {
   "cell_type": "code",
   "execution_count": null,
   "metadata": {
    "collapsed": true
   },
   "outputs": [],
   "source": []
  }
 ],
 "metadata": {
  "kernelspec": {
   "display_name": "Python 2",
   "language": "python",
   "name": "python2"
  },
  "language_info": {
   "codemirror_mode": {
    "name": "ipython",
    "version": 2
   },
   "file_extension": ".py",
   "mimetype": "text/x-python",
   "name": "python",
   "nbconvert_exporter": "python",
   "pygments_lexer": "ipython2",
   "version": "2.7.10"
  }
 },
 "nbformat": 4,
 "nbformat_minor": 0
}
