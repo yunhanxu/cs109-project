{
 "cells": [
  {
   "cell_type": "code",
   "execution_count": 1,
   "metadata": {
    "collapsed": true
   },
   "outputs": [],
   "source": [
    "%matplotlib inline\n",
    "import numpy as np\n",
    "import sklearn.cluster\n",
    "import sklearn.feature_extraction\n",
    "import matplotlib as mpl\n",
    "import matplotlib.cm as cm\n",
    "import matplotlib.pyplot as plt"
   ]
  },
  {
   "cell_type": "markdown",
   "metadata": {},
   "source": [
    "###Fake Testing"
   ]
  },
  {
   "cell_type": "code",
   "execution_count": 2,
   "metadata": {
    "collapsed": true
   },
   "outputs": [],
   "source": [
    "# Generate a random data matrix. n = number of data points; m = length of each data point; num_types = number of types\n",
    "def gen_data(n, m, num_types):\n",
    "    # type for each data point (each from 0 to n-1)\n",
    "    types = np.trunc(np.random.random_sample(n)*num_types)\n",
    "    # list of random vectors of m integers between 20 and 40, to serve as the mean for each type\n",
    "    means = [np.random.randint(20,40,m) for t in range(num_types)]\n",
    "    # list of vectors of standard deviations for each type\n",
    "    stddevs = 2 * np.ones([num_types,m])\n",
    "    # generate a data matrix and round to the nearest thousandth\n",
    "    return np.round(map(lambda t : list(np.random.randn(len(means[t])) * stddevs[t] + means[t]), map(int, types)),3)"
   ]
  },
  {
   "cell_type": "code",
   "execution_count": 3,
   "metadata": {
    "collapsed": true
   },
   "outputs": [],
   "source": [
    "# run k-means clustering on M, for each k values in k_vals\n",
    "def k_mean_test(M, k_vals):\n",
    "    results = []\n",
    "    # sum of squared Euclidean distances from mean\n",
    "    var = sum(np.var(M,0))*len(M)\n",
    "    # loop through all k values provided\n",
    "    for k in k_vals:\n",
    "        # fit k-means clusterer\n",
    "        fit = sklearn.cluster.KMeans(n_clusters=k).fit(M)\n",
    "        # sum of squared Euclidean distance from cluster center\n",
    "        within_var = sum(map(lambda r : min(r)**2, fit.transform(M)))\n",
    "        results.append((fit, k, within_var/var))\n",
    "    return results"
   ]
  },
  {
   "cell_type": "code",
   "execution_count": 4,
   "metadata": {
    "collapsed": false
   },
   "outputs": [
    {
     "name": "stdout",
     "output_type": "stream",
     "text": [
      "[[1, 2, 3, 4, 5, 6, 7, 8, 9, 10], [1.0000000000000002, 0.49175369268131686, 0.29979510248375152, 0.18873235427460394, 0.11449355774614466, 0.10654844124835618, 0.10095424060738399, 0.096028884321546867, 0.089155610597879215, 0.085966536440738914]]\n",
      "Wall time: 318 ms\n"
     ]
    },
    {
     "data": {
      "image/png": "[encoded data removed]",
      "text/plain": [
       "<matplotlib.figure.Figure at 0x43390b8>"
      ]
     },
     "metadata": {},
     "output_type": "display_data"
    }
   ],
   "source": [
    "%%time\n",
    "# generate 200 data points in R^4, with 5 topics\n",
    "M = gen_data(200, 4, 5)\n",
    "# plot results for k=1 to 10\n",
    "results = k_mean_test(M, range(1,11))\n",
    "plot_results = map(list, zip(*[(b,c) for a,b,c in results]))\n",
    "print plot_results\n",
    "plt.plot(plot_results[0], plot_results[1], 'p-')"
   ]
  },
  {
   "cell_type": "markdown",
   "metadata": {},
   "source": [
    "###Fitting Model with Training Data"
   ]
  },
  {
   "cell_type": "code",
   "execution_count": 5,
   "metadata": {
    "collapsed": false
   },
   "outputs": [
    {
     "name": "stdout",
     "output_type": "stream",
     "text": [
      "Wall time: 49.1 s\n"
     ]
    }
   ],
   "source": [
    "%%time\n",
    "# read in data from csv\n",
    "noun_train_mat = np.loadtxt(\"noun_train_mat.csv\", delimiter = \",\")\n",
    "# use TF-IDF to scale each document's vector to have norm 1 and place a lower weight on very common words\n",
    "tf_idf_fit = sklearn.feature_extraction.text.TfidfTransformer().fit(noun_train_mat)\n",
    "noun_train_mat = tf_idf_fit.transform(noun_train_mat).toarray()"
   ]
  },
  {
   "cell_type": "code",
   "execution_count": 6,
   "metadata": {
    "collapsed": false
   },
   "outputs": [
    {
     "name": "stdout",
     "output_type": "stream",
     "text": [
      "Wall time: 37.2 s\n"
     ]
    }
   ],
   "source": [
    "%%time\n",
    "var = sum(np.var(noun_train_mat,0))*len(noun_train_mat)\n",
    "kmeans_fit = sklearn.cluster.KMeans(n_clusters=14).fit(noun_train_mat)\n",
    "within_var = sum(map(lambda r : min(r)**2, kmeans_fit.transform(noun_train_mat)))\n",
    "#results.append((k, within_var/var))\n",
    "\n",
    "#plot_results = map(list, zip(*k_mean_test(M, range(1,21))))\n",
    "#print plot_results\n",
    "#plt.plot(plot_results[0], plot_results[1], 'p-')"
   ]
  },
  {
   "cell_type": "code",
   "execution_count": 7,
   "metadata": {
    "collapsed": false,
    "scrolled": false
   },
   "outputs": [
    {
     "name": "stdout",
     "output_type": "stream",
     "text": [
      "Number of documents per cluster: [67, 89, 171, 11, 80, 36, 110, 71, 114, 15, 38, 145, 37, 126]\n",
      "Wall time: 170 ms\n"
     ]
    }
   ],
   "source": [
    "%%time\n",
    "# use the fit above to cluster the data\n",
    "clusters = kmeans_fit.predict(noun_train_mat)\n",
    "cluster_lists = [[i for i,j in enumerate(clusters) if j==cluster] for cluster in range(14)]\n",
    "print 'Number of documents per cluster:', [len(clusters[clusters==i]) for i in range(14)]\n",
    "# uncomment this loop to see a list of documents by cluster\n",
    "#for cluster in range(14):\n",
    "#    print\n",
    "#    print 'Documents in category %s:' % cluster, cluster_lists[cluster]"
   ]
  },
  {
   "cell_type": "markdown",
   "metadata": {},
   "source": [
    "###Comparing with Supreme Court Database's Topic Areas"
   ]
  },
  {
   "cell_type": "code",
   "execution_count": 8,
   "metadata": {
    "collapsed": false
   },
   "outputs": [
    {
     "name": "stdout",
     "output_type": "stream",
     "text": [
      "Number of documents per category: [238, 188, 96, 36, 10, 8, 64, 242, 131, 56, 10, 30, 1, 0]\n"
     ]
    }
   ],
   "source": [
    "# read in SC Database's issue areas from csv\n",
    "noun_train_issue_areas = np.loadtxt(\"noun_train_issue_areas.csv\", delimiter = \",\", dtype=\"int\")\n",
    "# zero-index the array\n",
    "noun_train_issue_areas = noun_train_issue_areas - 1\n",
    "print 'Number of documents per category:', [sum([x==i for x in noun_train_issue_areas]) for i in range(14)]"
   ]
  },
  {
   "cell_type": "code",
   "execution_count": 9,
   "metadata": {
    "collapsed": false
   },
   "outputs": [
    {
     "name": "stdout",
     "output_type": "stream",
     "text": [
      "[7, 0, 2, 7, 7, 1, 7, 6, 0, 10, 1, 8, 1, 8]\n",
      "[7, 0, 2, 7, 7, 1, 7, 6, 0, 10, 1, 8, 1, 8]\n",
      "[8, 5, 2, 12, 2, 11, 7, 3, 13, 9, 9, 0, 0, 0]\n",
      "[[ 0.14925373  0.04477612  0.          0.          0.          0.01492537\n",
      "   0.          0.37313433  0.04477612  0.04477612  0.          0.31343284\n",
      "   0.01492537  0.        ]\n",
      " [ 0.71910112  0.13483146  0.02247191  0.02247191  0.          0.          0.\n",
      "   0.05617978  0.04494382  0.          0.          0.          0.          0.        ]\n",
      " [ 0.29824561  0.19298246  0.31578947  0.00584795  0.03508772  0.01169591\n",
      "   0.00584795  0.07017544  0.03508772  0.02339181  0.          0.00584795\n",
      "   0.          0.        ]\n",
      " [ 0.09090909  0.          0.          0.          0.          0.          0.\n",
      "   0.72727273  0.09090909  0.09090909  0.          0.          0.          0.        ]\n",
      " [ 0.025       0.25        0.0375      0.025       0.          0.          0.05\n",
      "   0.5625      0.025       0.0125      0.          0.0125      0.          0.        ]\n",
      " [ 0.05555556  0.63888889  0.19444444  0.02777778  0.          0.\n",
      "   0.02777778  0.          0.02777778  0.          0.          0.02777778\n",
      "   0.          0.        ]\n",
      " [ 0.01818182  0.00909091  0.02727273  0.00909091  0.00909091  0.\n",
      "   0.07272727  0.66363636  0.1         0.07272727  0.          0.01818182\n",
      "   0.          0.        ]\n",
      " [ 0.01408451  0.01408451  0.02816901  0.          0.          0.\n",
      "   0.67605634  0.04225352  0.09859155  0.12676056  0.          0.          0.\n",
      "   0.        ]\n",
      " [ 0.71929825  0.11403509  0.03508772  0.05263158  0.00877193  0.          0.\n",
      "   0.01754386  0.05263158  0.          0.          0.          0.          0.        ]\n",
      " [ 0.          0.          0.          0.          0.          0.          0.\n",
      "   0.          0.          0.46666667  0.53333333  0.          0.          0.        ]\n",
      " [ 0.          0.39473684  0.21052632  0.02631579  0.          0.          0.\n",
      "   0.02631579  0.34210526  0.          0.          0.          0.          0.        ]\n",
      " [ 0.11724138  0.2         0.06206897  0.06896552  0.0137931   0.02758621\n",
      "   0.          0.15862069  0.2137931   0.12413793  0.          0.0137931\n",
      "   0.          0.        ]\n",
      " [ 0.          0.45945946  0.          0.16216216  0.          0.          0.\n",
      "   0.24324324  0.02702703  0.08108108  0.          0.02702703  0.          0.        ]\n",
      " [ 0.04761905  0.16666667  0.03174603  0.04761905  0.          0.00793651\n",
      "   0.01587302  0.28571429  0.35714286  0.01587302  0.01587302  0.00793651\n",
      "   0.          0.        ]]\n"
     ]
    }
   ],
   "source": [
    "compare_mat = map(lambda r : map(int, r), np.zeros((14,14)))\n",
    "for i,j in zip(clusters, noun_train_issue_areas):\n",
    "    compare_mat[i][j] += 1\n",
    "compare_mat = map(lambda row : map(float,row) / sum(row), np.array(compare_mat))\n",
    "\n",
    "assignments = -1 * np.ones(14)\n",
    "compare_mat_flat = [x for lst in compare_mat for x in lst]\n",
    "while min(assignments) == -1:\n",
    "    max_ind = np.argmax(compare_mat_flat)\n",
    "    row = max_ind / 14\n",
    "    if assignments[row] == -1:\n",
    "        column = max_ind - 14 * row\n",
    "        assignments[row] = column\n",
    "    else:\n",
    "        compare_mat_flat[max_ind] = -1\n",
    "#5 / 2\n",
    "assignments = map(int, assignments)\n",
    "print assignments\n",
    "print map(np.argmax, compare_mat)\n",
    "print map(np.argmax, np.array(compare_mat).T)\n",
    "\n",
    "print np.array(compare_mat)"
   ]
  },
  {
   "cell_type": "code",
   "execution_count": 10,
   "metadata": {
    "collapsed": false
   },
   "outputs": [
    {
     "name": "stdout",
     "output_type": "stream",
     "text": [
      "0.484684684685\n"
     ]
    }
   ],
   "source": [
    "new_clusters = map(lambda cluster : assignments[cluster], clusters)\n",
    "correct = map(lambda (c1,c2) : c1==c2, zip(new_clusters, noun_train_issue_areas))\n",
    "print float(sum(correct)) / len(correct)"
   ]
  },
  {
   "cell_type": "markdown",
   "metadata": {},
   "source": [
    "###Applying Model to Test Data"
   ]
  },
  {
   "cell_type": "code",
   "execution_count": 11,
   "metadata": {
    "collapsed": false
   },
   "outputs": [
    {
     "name": "stdout",
     "output_type": "stream",
     "text": [
      "Wall time: 29 s\n"
     ]
    }
   ],
   "source": [
    "%%time\n",
    "# read in test data from csv\n",
    "noun_test_mat = np.loadtxt(\"noun_test_mat.csv\", delimiter = \",\")\n",
    "# use TF-IDF to scale each document's vector to have norm 1 and place a lower weight on very common words\n",
    "noun_test_mat = tf_idf_fit.transform(noun_test_mat).toarray()"
   ]
  },
  {
   "cell_type": "code",
   "execution_count": 12,
   "metadata": {
    "collapsed": false
   },
   "outputs": [
    {
     "name": "stdout",
     "output_type": "stream",
     "text": [
      "Number of documents per cluster: [31, 36, 105, 6, 31, 5, 42, 24, 47, 6, 15, 53, 15, 69]\n",
      "Wall time: 82 ms\n"
     ]
    }
   ],
   "source": [
    "%%time\n",
    "# use NMF fit from training data to cluster test observations\n",
    "clusters_test = kmeans_fit.predict(noun_test_mat)\n",
    "cluster_lists_test = [[i for i,j in enumerate(clusters_test) if j==cluster] for cluster in range(14)]\n",
    "print 'Number of documents per cluster:', [len(clusters_test[clusters_test==i]) for i in range(14)]\n",
    "# uncomment this loop to see a list of documents by cluster\n",
    "#for cluster in range(14):\n",
    "#    print\n",
    "#    print 'Documents in category %s:' % cluster, cluster_lists_test[cluster]"
   ]
  },
  {
   "cell_type": "markdown",
   "metadata": {},
   "source": [
    "###Compare Test Data Results to SC Database Categories"
   ]
  },
  {
   "cell_type": "code",
   "execution_count": 13,
   "metadata": {
    "collapsed": false
   },
   "outputs": [
    {
     "name": "stdout",
     "output_type": "stream",
     "text": [
      "Number of documents per category: [104, 95, 26, 22, 3, 7, 18, 96, 63, 25, 5, 17, 4, 0]\n"
     ]
    }
   ],
   "source": [
    "# read in SC Database's issue areas from csv\n",
    "noun_test_issue_areas = np.loadtxt(\"noun_test_issue_areas.csv\", delimiter = \",\", dtype=\"int\")\n",
    "# zero-index the array\n",
    "noun_test_issue_areas = noun_test_issue_areas - 1\n",
    "print 'Number of documents per category:', [sum([x==i for x in noun_test_issue_areas]) for i in range(14)]"
   ]
  },
  {
   "cell_type": "code",
   "execution_count": 14,
   "metadata": {
    "collapsed": false
   },
   "outputs": [
    {
     "name": "stdout",
     "output_type": "stream",
     "text": [
      "0.424742268041\n"
     ]
    }
   ],
   "source": [
    "new_clusters_test = map(lambda cluster : assignments[cluster], clusters_test)\n",
    "correct_test = map(lambda (c1,c2) : c1==c2, zip(new_clusters_test, noun_test_issue_areas))\n",
    "print float(sum(correct_test)) / len(correct_test)"
   ]
  }
 ],
 "metadata": {
  "kernelspec": {
   "display_name": "Python 2",
   "language": "python",
   "name": "python2"
  },
  "language_info": {
   "codemirror_mode": {
    "name": "ipython",
    "version": 2
   },
   "file_extension": ".py",
   "mimetype": "text/x-python",
   "name": "python",
   "nbconvert_exporter": "python",
   "pygments_lexer": "ipython2",
   "version": "2.7.10"
  }
 },
 "nbformat": 4,
 "nbformat_minor": 0
}
