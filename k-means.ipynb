{
 "cells": [
  {
   "cell_type": "code",
   "execution_count": 1,
   "metadata": {
    "collapsed": true
   },
   "outputs": [],
   "source": [
    "%matplotlib inline\n",
    "import numpy as np\n",
    "import sklearn.cluster\n",
    "import sklearn.feature_extraction\n",
    "import matplotlib as mpl\n",
    "import matplotlib.cm as cm\n",
    "import matplotlib.pyplot as plt"
   ]
  },
  {
   "cell_type": "code",
   "execution_count": 2,
   "metadata": {
    "collapsed": true
   },
   "outputs": [],
   "source": [
    "# Generate a random data matrix. n = number of data points; m = length of each data point; num_types = number of types\n",
    "def gen_data(n, m, num_types):\n",
    "    # type for each data point (each from 0 to n-1)\n",
    "    types = np.trunc(np.random.random_sample(n)*num_types)\n",
    "    # list of random vectors of m integers between 20 and 40, to serve as the mean for each type\n",
    "    means = [np.random.randint(20,40,m) for t in range(num_types)]\n",
    "    # list of vectors of standard deviations for each type\n",
    "    stddevs = 2 * np.ones([num_types,m])\n",
    "    # generate a data matrix and round to the nearest thousandth\n",
    "    return np.round(map(lambda t : list(np.random.randn(len(means[t])) * stddevs[t] + means[t]), map(int, types)),3)"
   ]
  },
  {
   "cell_type": "code",
   "execution_count": 6,
   "metadata": {
    "collapsed": true
   },
   "outputs": [],
   "source": [
    "# run k-means clustering on M, for each k values in k_vals\n",
    "def k_mean_test(M, k_vals):\n",
    "    results = []\n",
    "    # sum of squared Euclidean distances from mean\n",
    "    var = sum(np.var(M,0))*len(M)\n",
    "    # loop through all k values provided\n",
    "    for k in k_vals:\n",
    "        # fit k-means clusterer\n",
    "        fit = sklearn.cluster.KMeans(n_clusters=k).fit(M)\n",
    "        # sum of squared Euclidean distance from cluster center\n",
    "        within_var = sum(map(lambda r : min(r)**2, fit.transform(M)))\n",
    "        results.append((fit, k, within_var/var))\n",
    "    return results"
   ]
  },
  {
   "cell_type": "code",
   "execution_count": 4,
   "metadata": {
    "collapsed": false
   },
   "outputs": [
    {
     "name": "stdout",
     "output_type": "stream",
     "text": [
      "[[1, 2, 3, 4, 5, 6, 7, 8, 9, 10], [1.0000000000000007, 0.60831520295650698, 0.34585464424386914, 0.14743993837553054, 0.11585334343282153, 0.10660674330456738, 0.099577639159663278, 0.092789101060629223, 0.088881680146391556, 0.083475320504014627]]\n",
      "Wall time: 513 ms\n"
     ]
    },
    {
     "data": {
      "image/png": "[encoded data removed]",
      "text/plain": [
       "<matplotlib.figure.Figure at 0xa33cda0>"
      ]
     },
     "metadata": {},
     "output_type": "display_data"
    }
   ],
   "source": [
    "%%time\n",
    "# generate 200 data points in R^4, with 5 topics\n",
    "M = gen_data(200, 4, 5)\n",
    "# plot results for k=1 to 10\n",
    "plot_results = map(list, zip(*k_mean_test(M, range(1,11))))\n",
    "print plot_results\n",
    "plt.plot(plot_results[0], plot_results[1], 'p-')"
   ]
  },
  {
   "cell_type": "code",
   "execution_count": 5,
   "metadata": {
    "collapsed": false
   },
   "outputs": [
    {
     "name": "stdout",
     "output_type": "stream",
     "text": [
      "Wall time: 1min 18s\n"
     ]
    }
   ],
   "source": [
    "%%time\n",
    "M = np.loadtxt(\"mat.csv\", delimiter = \",\")"
   ]
  },
  {
   "cell_type": "code",
   "execution_count": 8,
   "metadata": {
    "collapsed": false
   },
   "outputs": [
    {
     "name": "stdout",
     "output_type": "stream",
     "text": [
      "Wall time: 775 ms\n"
     ]
    }
   ],
   "source": [
    "%%time\n",
    "M_tfidf = sklearn.feature_extraction.text.TfidfTransformer().fit_transform(M).toarray()"
   ]
  },
  {
   "cell_type": "code",
   "execution_count": 9,
   "metadata": {
    "collapsed": false
   },
   "outputs": [
    {
     "name": "stdout",
     "output_type": "stream",
     "text": [
      "Wall time: 1min 6s\n"
     ]
    }
   ],
   "source": [
    "%%time\n",
    "var = sum(np.var(M_tfidf,0))*len(M_tfidf)\n",
    "fit = sklearn.cluster.KMeans(n_clusters=14).fit(M_tfidf)\n",
    "within_var = sum(map(lambda r : min(r)**2, fit.transform(M_tfidf)))\n",
    "#results.append((k, within_var/var))\n",
    "\n",
    "#plot_results = map(list, zip(*k_mean_test(M, range(1,21))))\n",
    "#print plot_results\n",
    "#plt.plot(plot_results[0], plot_results[1], 'p-')"
   ]
  },
  {
   "cell_type": "code",
   "execution_count": 21,
   "metadata": {
    "collapsed": false,
    "scrolled": false
   },
   "outputs": [
    {
     "name": "stdout",
     "output_type": "stream",
     "text": [
      "Number of documents per cluster: [64, 69, 204, 60, 54, 39, 64, 148, 105, 311, 69, 41, 280, 196]\n",
      "\n",
      "Documents in category 0: [31, 36, 64, 70, 78, 102, 152, 193, 226, 227, 235, 256, 277, 278, 301, 340, 352, 361, 482, 486, 496, 519, 559, 595, 611, 624, 636, 692, 705, 708, 719, 743, 813, 840, 847, 924, 943, 959, 968, 1038, 1040, 1074, 1133, 1186, 1208, 1259, 1263, 1311, 1357, 1374, 1387, 1417, 1431, 1445, 1453, 1454, 1457, 1541, 1578, 1591, 1626, 1646, 1659, 1698]\n",
      "\n",
      "Documents in category 1: [6, 7, 67, 75, 79, 109, 143, 177, 186, 190, 212, 238, 279, 314, 333, 412, 445, 452, 464, 476, 483, 520, 538, 579, 580, 613, 617, 625, 654, 698, 707, 722, 728, 895, 928, 939, 953, 1025, 1030, 1033, 1090, 1112, 1136, 1151, 1168, 1177, 1187, 1213, 1215, 1232, 1234, 1244, 1262, 1289, 1291, 1354, 1382, 1383, 1388, 1460, 1480, 1483, 1574, 1579, 1589, 1595, 1651, 1664, 1678]\n",
      "\n",
      "Documents in category 2: [0, 1, 17, 34, 35, 86, 112, 117, 121, 123, 128, 130, 134, 145, 146, 153, 154, 155, 167, 178, 180, 204, 213, 223, 231, 243, 245, 251, 253, 261, 263, 267, 270, 283, 284, 302, 305, 308, 312, 343, 347, 354, 358, 362, 376, 380, 381, 385, 389, 403, 410, 414, 418, 431, 446, 447, 455, 463, 472, 480, 484, 511, 514, 515, 521, 522, 528, 534, 536, 550, 551, 560, 563, 568, 574, 599, 603, 609, 619, 630, 662, 664, 671, 690, 695, 703, 717, 746, 750, 756, 765, 766, 773, 780, 794, 798, 804, 817, 831, 833, 834, 841, 848, 850, 856, 857, 878, 891, 900, 905, 907, 916, 927, 942, 966, 970, 977, 978, 995, 997, 1010, 1016, 1026, 1029, 1034, 1036, 1037, 1045, 1049, 1054, 1056, 1061, 1071, 1072, 1088, 1101, 1107, 1110, 1126, 1137, 1147, 1149, 1158, 1169, 1173, 1179, 1197, 1199, 1202, 1210, 1226, 1237, 1240, 1246, 1248, 1279, 1282, 1295, 1307, 1326, 1327, 1342, 1347, 1351, 1359, 1367, 1371, 1396, 1400, 1402, 1408, 1416, 1436, 1449, 1455, 1459, 1461, 1462, 1464, 1468, 1471, 1479, 1500, 1520, 1521, 1525, 1526, 1561, 1576, 1588, 1603, 1610, 1613, 1616, 1617, 1623, 1632, 1648, 1670, 1672, 1676, 1690, 1692, 1696]\n",
      "\n",
      "Documents in category 3: [23, 96, 107, 125, 144, 164, 196, 207, 242, 254, 293, 303, 310, 382, 393, 435, 454, 473, 481, 532, 541, 543, 610, 641, 693, 735, 744, 764, 770, 844, 869, 870, 883, 887, 897, 917, 944, 960, 969, 1008, 1021, 1022, 1042, 1097, 1119, 1139, 1140, 1148, 1163, 1195, 1254, 1283, 1286, 1410, 1442, 1489, 1543, 1611, 1653, 1677]\n",
      "\n",
      "Documents in category 4: [32, 80, 88, 126, 211, 249, 259, 316, 321, 401, 458, 487, 497, 530, 539, 570, 573, 640, 650, 651, 676, 681, 762, 802, 803, 830, 862, 866, 904, 949, 989, 1004, 1103, 1134, 1146, 1204, 1211, 1249, 1281, 1325, 1331, 1341, 1381, 1407, 1415, 1465, 1469, 1488, 1494, 1599, 1606, 1607, 1622, 1636]\n",
      "\n",
      "Documents in category 5: [18, 68, 81, 149, 159, 297, 324, 399, 413, 433, 527, 582, 602, 608, 637, 677, 731, 788, 822, 837, 863, 934, 992, 1095, 1099, 1100, 1228, 1257, 1293, 1303, 1358, 1419, 1433, 1527, 1545, 1549, 1638, 1682, 1687]\n",
      "\n",
      "Documents in category 6: [3, 4, 5, 59, 105, 110, 141, 162, 181, 200, 205, 208, 241, 306, 315, 341, 363, 406, 416, 420, 421, 424, 436, 439, 442, 448, 461, 491, 499, 503, 544, 586, 606, 658, 679, 687, 737, 742, 776, 787, 825, 832, 871, 880, 903, 937, 965, 1000, 1002, 1055, 1129, 1135, 1235, 1241, 1297, 1349, 1399, 1422, 1423, 1427, 1487, 1492, 1580, 1662]\n",
      "\n",
      "Documents in category 7: [30, 41, 50, 54, 58, 63, 84, 103, 127, 131, 135, 139, 140, 169, 179, 185, 199, 210, 216, 240, 252, 265, 272, 276, 282, 292, 311, 323, 329, 334, 345, 369, 388, 400, 422, 428, 434, 437, 444, 453, 456, 457, 460, 471, 474, 492, 509, 512, 529, 535, 545, 552, 564, 566, 569, 578, 585, 587, 600, 607, 621, 629, 631, 634, 639, 642, 652, 655, 659, 667, 691, 696, 697, 711, 724, 730, 733, 740, 745, 749, 763, 778, 793, 799, 808, 814, 821, 836, 849, 851, 864, 872, 876, 884, 893, 894, 906, 910, 920, 936, 972, 983, 1003, 1032, 1039, 1046, 1050, 1059, 1064, 1070, 1083, 1086, 1114, 1183, 1200, 1238, 1242, 1251, 1261, 1269, 1271, 1294, 1328, 1335, 1340, 1350, 1379, 1394, 1403, 1405, 1450, 1476, 1485, 1508, 1514, 1515, 1529, 1567, 1583, 1584, 1586, 1605, 1609, 1624, 1650, 1668, 1673, 1694]\n",
      "\n",
      "Documents in category 8: [39, 60, 62, 94, 115, 150, 221, 230, 255, 281, 299, 319, 338, 344, 355, 386, 390, 394, 409, 411, 415, 477, 489, 493, 495, 517, 546, 556, 571, 584, 589, 591, 623, 635, 645, 666, 685, 686, 712, 720, 739, 792, 829, 855, 858, 859, 868, 882, 885, 889, 923, 932, 933, 946, 957, 958, 973, 974, 1013, 1018, 1020, 1043, 1051, 1060, 1087, 1094, 1102, 1106, 1109, 1120, 1128, 1154, 1192, 1233, 1236, 1250, 1253, 1264, 1272, 1292, 1300, 1317, 1369, 1373, 1421, 1452, 1496, 1517, 1533, 1535, 1539, 1548, 1572, 1590, 1594, 1634, 1635, 1637, 1645, 1652, 1654, 1656, 1658, 1684, 1702]\n",
      "\n",
      "Documents in category 9: [9, 10, 12, 13, 14, 15, 19, 21, 22, 24, 27, 28, 37, 44, 45, 46, 48, 53, 55, 56, 61, 66, 72, 74, 76, 93, 95, 97, 100, 111, 122, 124, 132, 133, 137, 147, 151, 158, 163, 166, 174, 182, 189, 192, 201, 215, 219, 228, 229, 232, 247, 248, 260, 262, 264, 266, 271, 287, 290, 296, 300, 307, 313, 322, 328, 336, 339, 348, 350, 365, 366, 371, 372, 374, 378, 405, 419, 430, 438, 440, 449, 451, 465, 467, 469, 475, 494, 500, 504, 506, 510, 513, 516, 523, 525, 531, 533, 537, 548, 553, 554, 555, 557, 581, 583, 598, 601, 604, 605, 615, 616, 620, 626, 643, 646, 648, 657, 663, 669, 670, 680, 699, 704, 710, 713, 714, 715, 723, 725, 729, 736, 738, 748, 753, 761, 768, 771, 774, 777, 781, 783, 785, 786, 796, 800, 801, 805, 828, 838, 839, 852, 854, 860, 875, 879, 886, 892, 899, 902, 908, 915, 918, 919, 952, 954, 962, 963, 967, 976, 979, 986, 991, 994, 1012, 1014, 1015, 1019, 1023, 1028, 1044, 1053, 1065, 1066, 1069, 1076, 1080, 1082, 1084, 1093, 1104, 1111, 1117, 1118, 1123, 1124, 1130, 1131, 1132, 1138, 1141, 1142, 1150, 1156, 1157, 1161, 1162, 1171, 1172, 1174, 1176, 1181, 1184, 1190, 1194, 1196, 1198, 1221, 1222, 1224, 1225, 1227, 1229, 1247, 1252, 1255, 1265, 1273, 1274, 1290, 1296, 1305, 1306, 1315, 1333, 1334, 1336, 1338, 1345, 1355, 1356, 1362, 1363, 1364, 1366, 1370, 1372, 1376, 1378, 1380, 1384, 1385, 1389, 1390, 1401, 1418, 1424, 1426, 1430, 1434, 1440, 1441, 1444, 1446, 1458, 1470, 1473, 1475, 1477, 1482, 1484, 1486, 1491, 1495, 1502, 1505, 1510, 1511, 1518, 1523, 1530, 1532, 1534, 1538, 1544, 1551, 1555, 1557, 1560, 1564, 1565, 1566, 1569, 1573, 1582, 1587, 1593, 1598, 1600, 1608, 1614, 1615, 1627, 1629, 1661, 1665, 1666, 1671, 1686, 1688, 1691, 1699]\n",
      "\n",
      "Documents in category 10: [16, 25, 82, 85, 108, 195, 209, 309, 317, 318, 337, 349, 357, 367, 383, 396, 407, 417, 441, 459, 468, 562, 572, 588, 593, 627, 632, 701, 702, 760, 795, 812, 874, 911, 912, 935, 975, 1005, 1007, 1155, 1159, 1160, 1201, 1245, 1276, 1280, 1285, 1298, 1316, 1323, 1324, 1339, 1344, 1346, 1397, 1413, 1443, 1463, 1481, 1493, 1499, 1513, 1524, 1556, 1669, 1674, 1675, 1693, 1703]\n",
      "\n",
      "Documents in category 11: [29, 65, 92, 120, 187, 246, 258, 295, 359, 377, 426, 479, 485, 501, 526, 540, 565, 597, 647, 649, 665, 734, 741, 843, 873, 988, 999, 1011, 1052, 1091, 1299, 1313, 1320, 1352, 1437, 1438, 1540, 1558, 1571, 1657, 1700]\n",
      "\n",
      "Documents in category 12: [2, 20, 33, 38, 42, 43, 47, 52, 57, 69, 71, 87, 89, 91, 98, 99, 101, 104, 106, 113, 116, 118, 119, 129, 138, 142, 148, 156, 157, 161, 165, 168, 170, 171, 183, 184, 191, 197, 198, 206, 217, 218, 222, 224, 233, 234, 237, 244, 250, 257, 269, 273, 275, 280, 286, 289, 294, 298, 320, 326, 327, 330, 332, 342, 346, 351, 356, 360, 364, 368, 373, 375, 379, 387, 391, 392, 395, 397, 398, 404, 423, 427, 429, 432, 443, 450, 462, 466, 488, 505, 507, 508, 518, 524, 558, 561, 567, 576, 577, 590, 592, 614, 644, 653, 660, 668, 672, 674, 675, 682, 683, 684, 688, 689, 700, 709, 718, 721, 727, 732, 751, 752, 754, 755, 757, 758, 767, 769, 775, 779, 790, 791, 807, 809, 811, 815, 816, 818, 819, 820, 823, 824, 826, 827, 835, 842, 845, 846, 853, 861, 867, 877, 881, 890, 898, 909, 914, 929, 931, 938, 945, 950, 951, 980, 982, 984, 985, 987, 993, 1017, 1047, 1048, 1057, 1062, 1063, 1067, 1073, 1075, 1077, 1079, 1081, 1085, 1092, 1096, 1108, 1116, 1127, 1143, 1145, 1153, 1165, 1167, 1178, 1180, 1185, 1191, 1193, 1203, 1205, 1206, 1212, 1216, 1218, 1219, 1220, 1223, 1256, 1266, 1267, 1268, 1278, 1288, 1302, 1304, 1308, 1312, 1314, 1318, 1319, 1321, 1322, 1330, 1332, 1353, 1361, 1368, 1375, 1386, 1392, 1393, 1395, 1398, 1404, 1406, 1409, 1412, 1420, 1425, 1428, 1432, 1439, 1448, 1451, 1466, 1478, 1497, 1501, 1504, 1506, 1507, 1512, 1516, 1522, 1537, 1542, 1546, 1552, 1553, 1554, 1559, 1585, 1597, 1602, 1604, 1618, 1620, 1621, 1630, 1631, 1633, 1639, 1641, 1643, 1644, 1647, 1660, 1663, 1679, 1681, 1701]\n",
      "\n",
      "Documents in category 13: [8, 11, 26, 40, 49, 51, 73, 77, 83, 90, 114, 136, 160, 172, 173, 175, 176, 188, 194, 202, 203, 214, 220, 225, 236, 239, 268, 274, 285, 288, 291, 304, 325, 331, 335, 353, 370, 384, 402, 408, 425, 470, 478, 490, 498, 502, 542, 547, 549, 575, 594, 596, 612, 618, 622, 628, 633, 638, 656, 661, 673, 678, 694, 706, 716, 726, 747, 759, 772, 782, 784, 789, 797, 806, 810, 865, 888, 896, 901, 913, 921, 922, 925, 926, 930, 940, 941, 947, 948, 955, 956, 961, 964, 971, 981, 990, 996, 998, 1001, 1006, 1009, 1024, 1027, 1031, 1035, 1041, 1058, 1068, 1078, 1089, 1098, 1105, 1113, 1115, 1121, 1122, 1125, 1144, 1152, 1164, 1166, 1170, 1175, 1182, 1188, 1189, 1207, 1209, 1214, 1217, 1230, 1231, 1239, 1243, 1258, 1260, 1270, 1275, 1277, 1284, 1287, 1301, 1309, 1310, 1329, 1337, 1343, 1348, 1360, 1365, 1377, 1391, 1411, 1414, 1429, 1435, 1447, 1456, 1467, 1472, 1474, 1490, 1498, 1503, 1509, 1519, 1528, 1531, 1536, 1547, 1550, 1562, 1563, 1568, 1570, 1575, 1577, 1581, 1592, 1596, 1601, 1612, 1619, 1625, 1628, 1640, 1642, 1649, 1655, 1667, 1680, 1683, 1685, 1689, 1695, 1697]\n"
     ]
    }
   ],
   "source": [
    "pred = fit.predict(M_tfidf)\n",
    "print 'Number of documents per cluster:', [len(pred[pred==i]) for i in range(14)]\n",
    "for cluster in range(14):\n",
    "    print\n",
    "    print 'Documents in category %s:' % cluster, [i for i,j in enumerate(pred) if j==cluster]"
   ]
  }
 ],
 "metadata": {
  "kernelspec": {
   "display_name": "Python 2",
   "language": "python",
   "name": "python2"
  },
  "language_info": {
   "codemirror_mode": {
    "name": "ipython",
    "version": 2
   },
   "file_extension": ".py",
   "mimetype": "text/x-python",
   "name": "python",
   "nbconvert_exporter": "python",
   "pygments_lexer": "ipython2",
   "version": "2.7.10"
  }
 },
 "nbformat": 4,
 "nbformat_minor": 0
}
