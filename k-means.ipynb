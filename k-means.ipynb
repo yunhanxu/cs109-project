{
 "cells": [
  {
   "cell_type": "code",
   "execution_count": 1,
   "metadata": {
    "collapsed": true
   },
   "outputs": [],
   "source": [
    "%matplotlib inline\n",
    "import numpy as np\n",
    "import sklearn.cluster\n",
    "import sklearn.feature_extraction\n",
    "import matplotlib as mpl\n",
    "import matplotlib.cm as cm\n",
    "import matplotlib.pyplot as plt\n",
    "import itertools"
   ]
  },
  {
   "cell_type": "markdown",
   "metadata": {},
   "source": [
    "###Fake Testing"
   ]
  },
  {
   "cell_type": "code",
   "execution_count": 2,
   "metadata": {
    "collapsed": true
   },
   "outputs": [],
   "source": [
    "# Generate a random data matrix. n = number of data points; m = length of each data point; num_types = number of types\n",
    "def gen_data(n, m, num_types):\n",
    "    # type for each data point (each from 0 to n-1)\n",
    "    types = np.trunc(np.random.random_sample(n)*num_types)\n",
    "    # list of random vectors of m integers between 20 and 40, to serve as the mean for each type\n",
    "    means = [np.random.randint(20,40,m) for t in range(num_types)]\n",
    "    # list of vectors of standard deviations for each type\n",
    "    stddevs = 2 * np.ones([num_types,m])\n",
    "    # generate a data matrix and round to the nearest thousandth\n",
    "    return np.round(map(lambda t : list(np.random.randn(len(means[t])) * stddevs[t] + means[t]), map(int, types)),3)"
   ]
  },
  {
   "cell_type": "code",
   "execution_count": 3,
   "metadata": {
    "collapsed": true
   },
   "outputs": [],
   "source": [
    "# run k-means clustering on M, for each k values in k_vals\n",
    "def k_mean_test(M, k_vals):\n",
    "    results = []\n",
    "    # sum of squared Euclidean distances from mean\n",
    "    var = sum(np.var(M,0))*len(M)\n",
    "    # loop through all k values provided\n",
    "    for k in k_vals:\n",
    "        # fit k-means clusterer\n",
    "        fit = sklearn.cluster.KMeans(n_clusters=k).fit(M)\n",
    "        # sum of squared Euclidean distance from cluster center\n",
    "        within_var = sum(map(lambda r : min(r)**2, fit.transform(M)))\n",
    "        results.append((fit, k, within_var/var))\n",
    "    return results"
   ]
  },
  {
   "cell_type": "code",
   "execution_count": 4,
   "metadata": {
    "collapsed": false,
    "scrolled": false
   },
   "outputs": [
    {
     "name": "stdout",
     "output_type": "stream",
     "text": [
      "[[1, 2, 3, 4, 5, 6, 7, 8, 9, 10], [0.99999999999999789, 0.32180735035231189, 0.22184753936708182, 0.12823005165355578, 0.10790842602421241, 0.10052724510247388, 0.094423861859703362, 0.089569673420604817, 0.084372002818723257, 0.080268705645093683]]\n",
      "Wall time: 435 ms\n"
     ]
    },
    {
     "data": {
      "image/png": "[encoded data removed]",
      "text/plain": [
       "<matplotlib.figure.Figure at 0x1af947f0>"
      ]
     },
     "metadata": {},
     "output_type": "display_data"
    }
   ],
   "source": [
    "%%time\n",
    "# generate 200 data points in R^4, with 5 topics\n",
    "M = gen_data(200, 4, 5)\n",
    "# plot results for k=1 to 10\n",
    "results = k_mean_test(M, range(1,11))\n",
    "plot_results = map(list, zip(*[(b,c) for a,b,c in results]))\n",
    "print plot_results\n",
    "plt.plot(plot_results[0], plot_results[1], 'p-')"
   ]
  },
  {
   "cell_type": "markdown",
   "metadata": {},
   "source": [
    "###Fitting Model with Training Data"
   ]
  },
  {
   "cell_type": "code",
   "execution_count": 5,
   "metadata": {
    "collapsed": false
   },
   "outputs": [
    {
     "name": "stdout",
     "output_type": "stream",
     "text": [
      "Wall time: 40.3 s\n"
     ]
    }
   ],
   "source": [
    "%%time\n",
    "# read in data from csv\n",
    "noun_train_mat = np.loadtxt(\"noun_train_mat.csv\", delimiter = \",\")\n",
    "# use TF-IDF to scale each document's vector to have norm 1 and place a lower weight on very common words\n",
    "tf_idf_fit = sklearn.feature_extraction.text.TfidfTransformer().fit(noun_train_mat)\n",
    "noun_train_mat = tf_idf_fit.transform(noun_train_mat).toarray()"
   ]
  },
  {
   "cell_type": "code",
   "execution_count": 6,
   "metadata": {
    "collapsed": false
   },
   "outputs": [
    {
     "name": "stdout",
     "output_type": "stream",
     "text": [
      "Wall time: 33.6 s\n"
     ]
    }
   ],
   "source": [
    "%%time\n",
    "kmeans_fit = sklearn.cluster.KMeans(n_clusters=14).fit(noun_train_mat)\n",
    "# compute the ratio of within-group sum of squared distances to cluster mean to total sum of squared distances to overall mean\n",
    "ssq = sum(np.var(noun_train_mat,0))*len(noun_train_mat)\n",
    "within_ssq = sum(map(lambda r : min(r)**2, kmeans_fit.transform(noun_train_mat)))\n",
    "print within_var / var\n",
    "#results.append((k, within_var/var))\n",
    "\n",
    "#plot_results = map(list, zip(*k_mean_test(M, range(1,21))))\n",
    "#print plot_results\n",
    "#plt.plot(plot_results[0], plot_results[1], 'p-')"
   ]
  },
  {
   "cell_type": "code",
   "execution_count": 7,
   "metadata": {
    "collapsed": false,
    "scrolled": false
   },
   "outputs": [
    {
     "name": "stdout",
     "output_type": "stream",
     "text": [
      "Number of documents per cluster: [36, 97, 51, 157, 96, 96, 66, 27, 68, 78, 27, 24, 269, 18]\n",
      "Wall time: 113 ms\n"
     ]
    }
   ],
   "source": [
    "%%time\n",
    "# use the fit above to cluster the data\n",
    "clusters = kmeans_fit.predict(noun_train_mat)\n",
    "cluster_lists = [[i for i,j in enumerate(clusters) if j==cluster] for cluster in range(14)]\n",
    "print 'Number of documents per cluster:', [len(clusters[clusters==i]) for i in range(14)]\n",
    "# uncomment this loop to see a list of documents by cluster\n",
    "#for cluster in range(14):\n",
    "#    print\n",
    "#    print 'Documents in category %s:' % cluster, cluster_lists[cluster]"
   ]
  },
  {
   "cell_type": "markdown",
   "metadata": {},
   "source": [
    "###Comparing with Supreme Court Database's Topic Areas"
   ]
  },
  {
   "cell_type": "code",
   "execution_count": 8,
   "metadata": {
    "collapsed": false
   },
   "outputs": [
    {
     "name": "stdout",
     "output_type": "stream",
     "text": [
      "Number of documents per category: [238, 188, 96, 36, 10, 8, 64, 242, 131, 56, 10, 30, 1, 0]\n"
     ]
    }
   ],
   "source": [
    "# read in SC Database's issue areas from csv\n",
    "noun_train_issue_areas = np.loadtxt(\"noun_train_issue_areas.csv\", delimiter = \",\", dtype=\"int\")\n",
    "# zero-index the array\n",
    "noun_train_issue_areas = noun_train_issue_areas - 1\n",
    "print 'Number of documents per category:', [sum([x==i for x in noun_train_issue_areas]) for i in range(14)]"
   ]
  },
  {
   "cell_type": "code",
   "execution_count": 9,
   "metadata": {
    "collapsed": false
   },
   "outputs": [
    {
     "name": "stdout",
     "output_type": "stream",
     "text": [
      "[1, 1, 0, 8, 0, 0, 7, 7, 6, 7, 7, 1, 7, 10]\n",
      "[1, 1, 0, 8, 0, 0, 7, 7, 6, 7, 7, 1, 7, 10]\n",
      "[2, 11, 0, 11, 1, 1, 8, 7, 3, 13, 13, 6, 10, 0]\n",
      "[[ 0.02777778  0.52777778  0.33333333  0.02777778  0.02777778  0.          0.\n",
      "   0.          0.02777778  0.          0.          0.02777778  0.          0.        ]\n",
      " [ 0.1443299   0.35051546  0.1443299   0.04123711  0.04123711  0.02061856\n",
      "   0.          0.13402062  0.11340206  0.01030928  0.          0.          0.\n",
      "   0.        ]\n",
      " [ 0.92156863  0.03921569  0.          0.03921569  0.          0.          0.\n",
      "   0.          0.          0.          0.          0.          0.          0.        ]\n",
      " [ 0.07006369  0.22929936  0.05095541  0.01910828  0.00636943  0.\n",
      "   0.00636943  0.17834395  0.41401274  0.02547771  0.          0.          0.\n",
      "   0.        ]\n",
      " [ 0.77083333  0.10416667  0.04166667  0.01041667  0.          0.          0.\n",
      "   0.04166667  0.03125     0.          0.          0.          0.          0.        ]\n",
      " [ 0.60416667  0.14583333  0.02083333  0.0625      0.01041667  0.01041667\n",
      "   0.          0.01041667  0.125       0.01041667  0.          0.          0.\n",
      "   0.        ]\n",
      " [ 0.09090909  0.07575758  0.          0.          0.          0.01515152\n",
      "   0.          0.42424242  0.04545455  0.03030303  0.          0.31818182\n",
      "   0.          0.        ]\n",
      " [ 0.          0.03703704  0.03703704  0.          0.          0.          0.\n",
      "   0.88888889  0.03703704  0.          0.          0.          0.          0.        ]\n",
      " [ 0.01470588  0.          0.02941176  0.          0.          0.\n",
      "   0.69117647  0.04411765  0.10294118  0.11764706  0.          0.          0.\n",
      "   0.        ]\n",
      " [ 0.          0.01282051  0.          0.02564103  0.          0.\n",
      "   0.07692308  0.69230769  0.07692308  0.1025641   0.          0.01282051\n",
      "   0.          0.        ]\n",
      " [ 0.18518519  0.03703704  0.          0.          0.          0.\n",
      "   0.03703704  0.48148148  0.11111111  0.          0.          0.11111111\n",
      "   0.03703704  0.        ]\n",
      " [ 0.          0.66666667  0.          0.08333333  0.          0.          0.\n",
      "   0.20833333  0.          0.04166667  0.          0.          0.          0.        ]\n",
      " [ 0.07806691  0.17843866  0.19702602  0.05576208  0.01115242  0.01486989\n",
      "   0.03345725  0.25650558  0.07063197  0.08550186  0.00371747  0.01486989\n",
      "   0.          0.        ]\n",
      " [ 0.          0.05555556  0.          0.          0.          0.          0.\n",
      "   0.          0.          0.44444444  0.5         0.          0.          0.        ]]\n"
     ]
    }
   ],
   "source": [
    "# create a 14x14 matrix (where each row is a k-means cluster and each column is an SCDB cluster) measuring the degree of\n",
    "# related-ness between each cluster pair\n",
    "compare_mat = map(lambda r : map(int, r), np.zeros((14,14)))\n",
    "# first, assign the (i,j) element in the matrix to the number of cases in k-means cluster i and SCDB cluster j, for each (i,j)\n",
    "for i,j in zip(clusters, noun_train_issue_areas):\n",
    "    compare_mat[i][j] += 1\n",
    "# normalize each row to have a sum of 1\n",
    "compare_mat = map(lambda row : map(float,row) / sum(row), np.array(compare_mat))\n",
    "\n",
    "### commented out because I realized this method of assignment does the same thing as the one-line assignment below\n",
    "#assignments = -1 * np.ones(14)\n",
    "#compare_mat_flat = [x for lst in compare_mat for x in lst]\n",
    "#while min(assignments) == -1:\n",
    "#    max_ind = np.argmax(compare_mat_flat)\n",
    "#    row = max_ind / 14\n",
    "#    if assignments[row] == -1:\n",
    "#        column = max_ind - 14 * row\n",
    "#        assignments[row] = column\n",
    "#    else:\n",
    "#        compare_mat_flat[max_ind] = -1\n",
    "#assignments = map(int, assignments)\n",
    "#print assignments\n",
    "\n",
    "# assign each k-means cluster to a (not necessarily unique) SCDB cluster by picking the highest element of each row of compare_mat\n",
    "assignments = map(np.argmax, compare_mat)\n",
    "print assignments\n",
    "# this would be the equivalent way of assigning each SCDB cluster to an k-means cluster; this is printed here but not used anywhere\n",
    "print map(np.argmax, np.array(compare_mat).T)"
   ]
  },
  {
   "cell_type": "code",
   "execution_count": 10,
   "metadata": {
    "collapsed": false
   },
   "outputs": [
    {
     "name": "stdout",
     "output_type": "stream",
     "text": [
      "0.501801801802\n"
     ]
    }
   ],
   "source": [
    "# use the assignments above to convert the clusters into equivalent SCDB categories for each document\n",
    "new_clusters = map(lambda cluster : assignments[cluster], clusters)\n",
    "# compute and output accuracy rate\n",
    "correct = map(lambda (c1,c2) : c1==c2, zip(new_clusters, noun_train_issue_areas))\n",
    "print float(sum(correct)) / len(correct)"
   ]
  },
  {
   "cell_type": "markdown",
   "metadata": {},
   "source": [
    "###Use Rand Index to Compute Accuracy on Training Data"
   ]
  },
  {
   "cell_type": "markdown",
   "metadata": {},
   "source": [
    "Each pair of documents is called a true positive ($tp$) if the two documents end up in the same cluster correctly, a true negative ($tn$) if the documents end up in different clusters correctly, a false positive ($fp$) if the documents are placed in the same cluster but should have been in different clusters, and a false negative ($fn$) if the documents are placed in different clusters but should have been in the same cluster.\n",
    "\n",
    "The Rand index (measuring the similarity between the k-means clustering and the SCDB categories) is defined as $\\frac{tp+tn}{tp+tn+fp+fn}$."
   ]
  },
  {
   "cell_type": "code",
   "execution_count": 11,
   "metadata": {
    "collapsed": false
   },
   "outputs": [
    {
     "name": "stdout",
     "output_type": "stream",
     "text": [
      "39958 939266 106212 146664\n",
      "0.794760165571\n",
      "Wall time: 2.07 s\n"
     ]
    }
   ],
   "source": [
    "%%time\n",
    "if 'cluster_pairs_model' in globals():\n",
    "    del cluster_pairs_model\n",
    "if 'cluster_pairs_actual' in globals():\n",
    "    del cluster_pairs_actual\n",
    "\n",
    "# use itertools to create pairs of documents, using the k-means clusters and SCDB categories\n",
    "cluster_pairs_model = itertools.product(clusters, clusters)\n",
    "cluster_pairs_actual = itertools.product(noun_train_issue_areas, noun_train_issue_areas)\n",
    "# loop through all document pairs to compute tp, tn, fp, and fn\n",
    "(tp,tn,fp,fn) = 0, 0, 0, 0\n",
    "for pair1,pair2 in zip(cluster_pairs_model, cluster_pairs_actual):\n",
    "    if (pair1[0]==pair1[1]):\n",
    "        if (pair2[0]==pair2[1]):\n",
    "            tp += 1\n",
    "        else:\n",
    "            fp += 1\n",
    "    else:\n",
    "        if (pair2[0]==pair2[1]):\n",
    "            fn += 1\n",
    "        else:\n",
    "            tn += 1\n",
    "\n",
    "# output tp, tn, fp, and fn\n",
    "print tp,tn,fp,fn\n",
    "# compute and output Rand index using formula from above\n",
    "rand_index_train = float(tp+tn)/(tp+tn+fp+fn)\n",
    "print rand_index_train"
   ]
  },
  {
   "cell_type": "markdown",
   "metadata": {},
   "source": [
    "###Applying Model to Test Data"
   ]
  },
  {
   "cell_type": "code",
   "execution_count": 12,
   "metadata": {
    "collapsed": false
   },
   "outputs": [
    {
     "name": "stdout",
     "output_type": "stream",
     "text": [
      "Wall time: 16.5 s\n"
     ]
    }
   ],
   "source": [
    "%%time\n",
    "# read in test data from csv\n",
    "noun_test_mat = np.loadtxt(\"noun_test_mat.csv\", delimiter = \",\")\n",
    "# use TF-IDF fit from training data to scale each document's vector to have norm 1 and place a lower weight on very common words\n",
    "noun_test_mat = tf_idf_fit.transform(noun_test_mat).toarray()"
   ]
  },
  {
   "cell_type": "code",
   "execution_count": 13,
   "metadata": {
    "collapsed": false
   },
   "outputs": [
    {
     "name": "stdout",
     "output_type": "stream",
     "text": [
      "Number of documents per cluster: [6, 36, 10, 68, 47, 26, 29, 5, 21, 26, 10, 7, 185, 9]\n",
      "Wall time: 59 ms\n"
     ]
    }
   ],
   "source": [
    "%%time\n",
    "# use k-means fit from training data to cluster test observations\n",
    "clusters_test = kmeans_fit.predict(noun_test_mat)\n",
    "cluster_lists_test = [[i for i,j in enumerate(clusters_test) if j==cluster] for cluster in range(14)]\n",
    "print 'Number of documents per cluster:', [len(clusters_test[clusters_test==i]) for i in range(14)]\n",
    "# uncomment this loop to see a list of documents by cluster\n",
    "#for cluster in range(14):\n",
    "#    print\n",
    "#    print 'Documents in category %s:' % cluster, cluster_lists_test[cluster]"
   ]
  },
  {
   "cell_type": "markdown",
   "metadata": {},
   "source": [
    "###Compare Test Data Results to SC Database Categories"
   ]
  },
  {
   "cell_type": "code",
   "execution_count": 14,
   "metadata": {
    "collapsed": false
   },
   "outputs": [
    {
     "name": "stdout",
     "output_type": "stream",
     "text": [
      "Number of documents per category: [104, 95, 26, 22, 3, 7, 18, 96, 63, 25, 5, 17, 4, 0]\n"
     ]
    }
   ],
   "source": [
    "# read in SC Database's issue areas from csv\n",
    "noun_test_issue_areas = np.loadtxt(\"noun_test_issue_areas.csv\", delimiter = \",\", dtype=\"int\")\n",
    "# zero-index the array\n",
    "noun_test_issue_areas = noun_test_issue_areas - 1\n",
    "print 'Number of documents per category:', [sum([x==i for x in noun_test_issue_areas]) for i in range(14)]"
   ]
  },
  {
   "cell_type": "code",
   "execution_count": 15,
   "metadata": {
    "collapsed": false
   },
   "outputs": [
    {
     "name": "stdout",
     "output_type": "stream",
     "text": [
      "0.468041237113\n"
     ]
    }
   ],
   "source": [
    "# use the assignments above to convert the clusters into equivalent SCDB categories for each document\n",
    "new_clusters_test = map(lambda cluster : assignments[cluster], clusters_test)\n",
    "# compute and output accuracy rate\n",
    "correct_test = map(lambda (c1,c2) : c1==c2, zip(new_clusters_test, noun_test_issue_areas))\n",
    "print float(sum(correct_test)) / len(correct_test)"
   ]
  },
  {
   "cell_type": "markdown",
   "metadata": {},
   "source": [
    "###Use Rand Index to Compute Accuracy on Test Data"
   ]
  },
  {
   "cell_type": "code",
   "execution_count": 16,
   "metadata": {
    "collapsed": false
   },
   "outputs": [
    {
     "name": "stdout",
     "output_type": "stream",
     "text": [
      "10137 164460 35242 25386\n",
      "0.742255287491\n",
      "Wall time: 385 ms\n"
     ]
    }
   ],
   "source": [
    "%%time\n",
    "if 'cluster_test_pairs_model' in globals():\n",
    "    del cluster_test_pairs_model\n",
    "if 'cluster_test_pairs_actual' in globals():\n",
    "    del cluster_test_pairs_actual\n",
    "\n",
    "# use itertools to create pairs of documents, using the k-means clusters and SCDB categories\n",
    "cluster_test_pairs_model = itertools.product(clusters_test, clusters_test)\n",
    "cluster_test_pairs_actual = itertools.product(noun_test_issue_areas, noun_test_issue_areas)\n",
    "# loop through all document pairs to compute tp, tn, fp, and fn\n",
    "(tp,tn,fp,fn) = 0, 0, 0, 0\n",
    "for pair1,pair2 in zip(cluster_test_pairs_model, cluster_test_pairs_actual):\n",
    "    if (pair1[0]==pair1[1]):\n",
    "        if (pair2[0]==pair2[1]):\n",
    "            tp += 1\n",
    "        else:\n",
    "            fp += 1\n",
    "    else:\n",
    "        if (pair2[0]==pair2[1]):\n",
    "            fn += 1\n",
    "        else:\n",
    "            tn += 1\n",
    "\n",
    "# output tp, tn, fp, and fn\n",
    "print tp,tn,fp,fn\n",
    "# compute and output Rand index using formula from above\n",
    "rand_index_test = float(tp+tn)/(tp+tn+fp+fn)\n",
    "print rand_index_test"
   ]
  }
 ],
 "metadata": {
  "kernelspec": {
   "display_name": "Python 2",
   "language": "python",
   "name": "python2"
  },
  "language_info": {
   "codemirror_mode": {
    "name": "ipython",
    "version": 2
   },
   "file_extension": ".py",
   "mimetype": "text/x-python",
   "name": "python",
   "nbconvert_exporter": "python",
   "pygments_lexer": "ipython2",
   "version": "2.7.10"
  }
 },
 "nbformat": 4,
 "nbformat_minor": 0
}
