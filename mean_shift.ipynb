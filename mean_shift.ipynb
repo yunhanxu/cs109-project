{
 "cells": [
  {
   "cell_type": "code",
   "execution_count": 1,
   "metadata": {
    "collapsed": false
   },
   "outputs": [],
   "source": [
    "import numpy as np\n",
    "import sklearn.cluster\n",
    "import sklearn.feature_extraction"
   ]
  },
  {
   "cell_type": "code",
   "execution_count": 2,
   "metadata": {
    "collapsed": true
   },
   "outputs": [],
   "source": [
    "# Generate a random data matrix. n = number of data points; m = length of each data point; num_types = number of types\n",
    "def gen_data(n, m, num_types):\n",
    "    # compute and print type for each data point (each from 0 to n-1)\n",
    "    types = np.trunc(np.random.random_sample(n)*num_types)\n",
    "    print np.array(map(int, types))\n",
    "    # list of random vectors of m integers between 20 and 40, to serve as the mean for each type\n",
    "    means = [np.random.randint(20,40,m) for t in range(num_types)]\n",
    "    # list of vectors of standard deviations for each type\n",
    "    stddevs = 1 * np.ones([num_types,m])\n",
    "    # generate a data matrix and round to the nearest thousandth\n",
    "    return np.round(map(lambda t : list(np.random.randn(len(means[t])) * stddevs[t] + means[t]), map(int, types)),3)"
   ]
  },
  {
   "cell_type": "code",
   "execution_count": 3,
   "metadata": {
    "collapsed": false
   },
   "outputs": [
    {
     "name": "stdout",
     "output_type": "stream",
     "text": [
      "[4 1 4 0 3 2 2 2 1 3 0 2 1 2 0 0 1 2 2 3 2 4 2 1 2 2 4 2 4 2 3 3 0 0 1 4 0\n",
      " 0 4 1]\n",
      "[0 1 0 0 2 0 0 0 1 2 0 0 1 0 0 0 1 0 0 2 0 0 0 1 0 0 0 0 0 0 2 2 0 0 1 0 0\n",
      " 0 0 1]\n"
     ]
    }
   ],
   "source": [
    "M = gen_data(40, 4, 5)\n",
    "fit = sklearn.cluster.MeanShift().fit(M)\n",
    "print fit.predict(M)"
   ]
  },
  {
   "cell_type": "code",
   "execution_count": 4,
   "metadata": {
    "collapsed": false
   },
   "outputs": [
    {
     "name": "stdout",
     "output_type": "stream",
     "text": [
      "Wall time: 1min 16s\n"
     ]
    }
   ],
   "source": [
    "%%time\n",
    "M = np.loadtxt(\"mat.csv\", delimiter = \",\")"
   ]
  },
  {
   "cell_type": "code",
   "execution_count": 5,
   "metadata": {
    "collapsed": false
   },
   "outputs": [
    {
     "name": "stdout",
     "output_type": "stream",
     "text": [
      "Wall time: 1.39 s\n"
     ]
    }
   ],
   "source": [
    "%%time\n",
    "M_tfidf = sklearn.feature_extraction.text.TfidfTransformer().fit_transform(M).toarray()"
   ]
  },
  {
   "cell_type": "code",
   "execution_count": 6,
   "metadata": {
    "collapsed": true
   },
   "outputs": [],
   "source": [
    "%%time\n",
    "# WARNING: runs for a long time (0.5-1 hour for me)\n",
    "fit = sklearn.cluster.MeanShift().fit(M_tfidf)"
   ]
  },
  {
   "cell_type": "code",
   "execution_count": 15,
   "metadata": {
    "collapsed": false
   },
   "outputs": [
    {
     "name": "stdout",
     "output_type": "stream",
     "text": [
      "Number of clusters: 1\n",
      "Number of documents per cluster: [1704]\n"
     ]
    }
   ],
   "source": [
    "num_clusters = max(fit.predict(M_tfidf)) + 1\n",
    "print 'Number of clusters:', num_clusters\n",
    "print 'Number of documents per cluster:', [sum([x==cluster for x in fit.predict(M_tfidf)]) for cluster in range(num_clusters)]"
   ]
  }
 ],
 "metadata": {
  "kernelspec": {
   "display_name": "Python 2",
   "language": "python",
   "name": "python2"
  },
  "language_info": {
   "codemirror_mode": {
    "name": "ipython",
    "version": 2
   },
   "file_extension": ".py",
   "mimetype": "text/x-python",
   "name": "python",
   "nbconvert_exporter": "python",
   "pygments_lexer": "ipython2",
   "version": "2.7.10"
  }
 },
 "nbformat": 4,
 "nbformat_minor": 0
}
