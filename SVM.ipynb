{
 "cells": [
  {
   "cell_type": "markdown",
   "metadata": {},
   "source": [
    "#Support Vector Machines\n",
    "This notebook runs a number of support vector machine (SVM) models on our dataset. The SVM is a *supervised* model: as input, we give it a matrix of size num_cases\\*num_words_in_vocab, and a vector of length num_cases, which has the issue area of each case. We try both linear and non-linear SVMs on various combinations of words."
   ]
  },
  {
   "cell_type": "code",
   "execution_count": 141,
   "metadata": {
    "collapsed": true
   },
   "outputs": [],
   "source": [
    "%matplotlib inline\n",
    "import numpy as np\n",
    "import scipy as sp\n",
    "import matplotlib as mpl\n",
    "import matplotlib.cm as cm\n",
    "import matplotlib.pyplot as plt\n",
    "import pandas as pd\n",
    "import time\n",
    "pd.set_option(\"display.width\", 500)\n",
    "pd.set_option(\"display.max_columns\", 100)\n",
    "pd.set_option(\"display.notebook_repr_html\", True)\n",
    "import seaborn as sns\n",
    "sns.set_style(\"darkgrid\")\n",
    "sns.set_context(\"poster\")"
   ]
  },
  {
   "cell_type": "markdown",
   "metadata": {},
   "source": [
    "##TF-IDF term weighting \n",
    "TF-IDF (term-frequency inverse document-frequency) is a method for extracting the usefulness of words and terms for classification. TF-IDF weighting increases the weight on words that appear many times in a document, as these words are likely more relevant to the document's classification. However, it also weights down for the number of documents a term appears in, since a term that appears in many documents is unlikely to be good at *distinguishing* between topic areas. The TF-IDF matrix also normalizes to 1 the length of each row. This mean, for example, that if we compare the sentence \"The dog ran\" with the (ungrammatical) sentence \"The dog ran the dog ran,\" the two sentences would have the same normalized row vector. Without normalization, the latter sentence would be twice the length of the former.\n",
    "\n",
    "The formula for the (non-normalized) TF-IDF frequency of a given word in a given document is:  \n",
    "\n",
    "$$\\boxed{\\text{TF-IDF frequency} = tf * (idf + 1)}$$\n",
    "\n",
    "$$tf = \\frac{\\text{number of times word appears in document}}{\\text{total number of words in document}}$$\n",
    "\n",
    "$$idf = \\frac{\\text{total number of documents}}{\\text{number of documents in which word appears}}$$\n",
    "\n",
    "To implement TF-IDF weighting, we follow the sklearn documentation: http://scikit-learn.org/stable/modules/feature_extraction.html#tfidf-term-weighting, http://scikit-learn.org/stable/modules/generated/sklearn.feature_extraction.text.TfidfTransformer.html\n",
    "\n",
    "The below function takes a bag-of-words matrix (size n_documents\\*vocab_size), and outputs the corresponding tfidf matrix. We show an example below. "
   ]
  },
  {
   "cell_type": "code",
   "execution_count": 167,
   "metadata": {
    "collapsed": false
   },
   "outputs": [],
   "source": [
    "from sklearn.feature_extraction.text import TfidfTransformer\n",
    "#this function takes a training matrix of size n_documents_training*vocab_size and a test matrix\n",
    "#of size n_documents_test*vocab_size. The function outputs the corresponding tfidf matrices.\n",
    "#Note that we fit on the training data, and then apply that fit to the test data.\n",
    "def tfidf_mat_creator(trainmatrix,testmatrix):\n",
    "    tf_idf_transformer=TfidfTransformer()\n",
    "    tfidf_fit = tf_idf_transformer.fit(trainmatrix)\n",
    "    tfidf_train = tfidf_fit.transform(trainmatrix).toarray()\n",
    "    tfidf_test = tfidf_fit.transform(testmatrix).toarray()\n",
    "    return(tfidf_train,tfidf_test)"
   ]
  },
  {
   "cell_type": "code",
   "execution_count": 163,
   "metadata": {
    "collapsed": false
   },
   "outputs": [
    {
     "name": "stdout",
     "output_type": "stream",
     "text": [
      "Sample bag-of-words matrix of 3 documents, vocab size 4 words: \n",
      "[[1 2 4 4]\n",
      " [1 2 0 1]\n",
      " [3 0 2 2]]\n",
      "tfidf transformation of above matrix: \n",
      "[[ 0.1411921   0.36362108  0.72724215  0.56476841]\n",
      " [ 0.34035465  0.87653717  0.          0.34035465]\n",
      " [ 0.67706981  0.          0.58123377  0.45137987]]\n"
     ]
    }
   ],
   "source": [
    "#Example TF-IDF matrix\n",
    "samplematrix = np.random.randint(0, high=5, size=(3,4))\n",
    "print \"Sample bag-of-words matrix of 3 documents, vocab size 4 words: \"\n",
    "print samplematrix\n",
    "print \"tfidf transformation of above matrix: \" \n",
    "print TfidfTransformer().fit_transform(samplematrix).toarray()"
   ]
  },
  {
   "cell_type": "code",
   "execution_count": 145,
   "metadata": {
    "collapsed": false
   },
   "outputs": [
    {
     "name": "stdout",
     "output_type": "stream",
     "text": [
      "CPU times: user 13.3 s, sys: 946 ms, total: 14.2 s\n",
      "Wall time: 32.5 s\n"
     ]
    }
   ],
   "source": [
    "%%time\n",
    "#GET TRAINING AND TEST MATRICES FOR NOUNS\n",
    "noun_train_df = pd.read_csv('noun_train_mat.csv',sep=',',header=None)\n",
    "noun_train_mat = noun_train_df.values\n",
    "noun_test_df = pd.read_csv('noun_test_mat.csv',sep=',',header=None)\n",
    "noun_test_mat = noun_test_df.values\n",
    "train_issue_areas_df = pd.read_csv('train_issue_areas.csv',sep=',',header=None)\n",
    "train_issue_areas = train_issue_areas_df.values.ravel()\n",
    "test_issue_areas_df = pd.read_csv('test_issue_areas.csv',sep=',',header=None)\n",
    "test_issue_areas = test_issue_areas_df.values.ravel()"
   ]
  },
  {
   "cell_type": "markdown",
   "metadata": {},
   "source": [
    "###Simple practice SVM [ELIMINATE THIS SECTION]\n",
    "We train and run a simple linear SVM. We follow https://www.quantstart.com/articles/Supervised-Learning-for-Document-Classification-with-Scikit-Learn."
   ]
  },
  {
   "cell_type": "code",
   "execution_count": 146,
   "metadata": {
    "collapsed": true
   },
   "outputs": [],
   "source": [
    "#convert the matrices to tfidf matrices \n",
    "noun_train_tfidf = tfidf_mat_creator(noun_train_mat)\n",
    "noun_test_tfidf = tfidf_mat_creator(noun_test_mat)"
   ]
  },
  {
   "cell_type": "code",
   "execution_count": 25,
   "metadata": {
    "collapsed": false
   },
   "outputs": [
    {
     "name": "stdout",
     "output_type": "stream",
     "text": [
      "CPU times: user 37.5 s, sys: 165 ms, total: 37.6 s\n",
      "Wall time: 37.7 s\n"
     ]
    }
   ],
   "source": [
    "%%time\n",
    "from sklearn.svm import SVC\n",
    "def train_svm(X, y):\n",
    "    #this creates and trains the SVM\n",
    "    svm = SVC(C=1000000.0, gamma=0.0, kernel='rbf')\n",
    "    svm.fit(X, y)\n",
    "    return svm\n",
    "svm1 = train_svm(noun_train_tfidf,train_issue_areas)"
   ]
  },
  {
   "cell_type": "code",
   "execution_count": 115,
   "metadata": {
    "collapsed": false
   },
   "outputs": [
    {
     "data": {
      "text/plain": [
       "1044"
      ]
     },
     "execution_count": 115,
     "metadata": {},
     "output_type": "execute_result"
    }
   ],
   "source": [
    "len(svm1.dual_coef_[1])"
   ]
  },
  {
   "cell_type": "code",
   "execution_count": 26,
   "metadata": {
    "collapsed": false
   },
   "outputs": [
    {
     "name": "stdout",
     "output_type": "stream",
     "text": [
      "0.663385826772\n"
     ]
    }
   ],
   "source": [
    "pred = svm1.predict(noun_test_tfidf)\n",
    "#accuracy rate on test set \n",
    "print(svm1.score(noun_test_tfidf, test_issue_areas))"
   ]
  },
  {
   "cell_type": "code",
   "execution_count": 27,
   "metadata": {
    "collapsed": false
   },
   "outputs": [
    {
     "name": "stdout",
     "output_type": "stream",
     "text": [
      "[[89 13  3  3  1  1  0  2  6  0  0  0  1]\n",
      " [ 8 63  6  3  1  1  0 14 12  2  1  2  0]\n",
      " [ 0  3 23  0  0  0  0  1  1  0  0  0  0]\n",
      " [ 1  0  0  3  0  0  0  0  0  0  0  0  0]\n",
      " [ 0  0  0  0  0  0  0  0  0  0  0  0  0]\n",
      " [ 0  0  0  0  0  2  0  0  0  0  0  0  0]\n",
      " [ 0  0  0  0  0  0 23  0  2  4  0  0  0]\n",
      " [ 2  7  0  5  0  1  2 78 10  7  0  6  0]\n",
      " [ 4 10  6  1  1  0  1  7 36  1  0  0  0]\n",
      " [ 0  1  0  0  0  0  0  2  1  9  2  0  0]\n",
      " [ 0  0  0  0  0  0  0  0  0  1  2  0  0]\n",
      " [ 0  0  0  0  0  1  0  0  0  0  0  9  0]\n",
      " [ 0  0  0  0  0  0  0  0  0  0  0  0  0]]\n"
     ]
    }
   ],
   "source": [
    "from sklearn.metrics import confusion_matrix\n",
    "print(confusion_matrix(pred, test_issue_areas))"
   ]
  },
  {
   "cell_type": "markdown",
   "metadata": {},
   "source": [
    "##Running SVMs"
   ]
  },
  {
   "cell_type": "markdown",
   "metadata": {},
   "source": [
    "To begin, we create a dictionary that will keep track of the accuracy scores of each model that we test. This will allow us to easily determine which is the best SVM model at the end of this notebook. "
   ]
  },
  {
   "cell_type": "code",
   "execution_count": 147,
   "metadata": {
    "collapsed": true
   },
   "outputs": [],
   "source": [
    "SVM_resultsdict = {}\n",
    "\n",
    "#entries to this dictionary will be of the form: \n",
    "# key = model_name (model_name is a string, such as \"noun_linear_svm\")\n",
    "# value = (model, accuracy_score). model is a fit sklearn model instance, and accuracy_score is the \n",
    "# accuracy of the model in the (0,1) range."
   ]
  },
  {
   "cell_type": "markdown",
   "metadata": {},
   "source": [
    "###Training multiple SVMs on nouns\n",
    "We initially try running SVMs with only nouns, since nouns have the largest vocabulary and seem the most likely to distinguish topics. (Later, we will consider other types of words as well.) Also, please note that we loosely followed the following site for constructing SVMs (though we run many more SVM models than it does): https://www.quantstart.com/articles/Supervised-Learning-for-Document-Classification-with-Scikit-Learn.\n",
    "\n",
    "To begin, we import the nouns data in the following cell."
   ]
  },
  {
   "cell_type": "code",
   "execution_count": 149,
   "metadata": {
    "collapsed": false
   },
   "outputs": [
    {
     "name": "stdout",
     "output_type": "stream",
     "text": [
      "CPU times: user 13.9 s, sys: 903 ms, total: 14.8 s\n",
      "Wall time: 30.6 s\n"
     ]
    }
   ],
   "source": [
    "%%time\n",
    "#GET TRAINING AND TEST MATRICES FOR NOUNS\n",
    "noun_train_df = pd.read_csv('noun_train_mat.csv',sep=',',header=None)\n",
    "noun_train_mat = noun_train_df.values\n",
    "noun_test_df = pd.read_csv('noun_test_mat.csv',sep=',',header=None)\n",
    "noun_test_mat = noun_test_df.values\n",
    "train_issue_areas_df = pd.read_csv('train_issue_areas.csv',sep=',',header=None)\n",
    "train_issue_areas = train_issue_areas_df.values.ravel()\n",
    "test_issue_areas_df = pd.read_csv('test_issue_areas.csv',sep=',',header=None)\n",
    "test_issue_areas = test_issue_areas_df.values.ravel()\n",
    "\n",
    "#CONVERT MATRICES TO TF-IDF FORM"
   ]
  },
  {
   "cell_type": "markdown",
   "metadata": {},
   "source": [
    "We write functions cv_optimize and do_classify. These functions allow us to run SVMs with a variety of parameters, and enable cross-validation to further optimize the SVMs. The functions are similar to the equivalently named functions in problem set 3 (and the code for these functions is modified from the code in problem set 3). We also write a function to create a confusion matrix, as the sklearn function was not working well. "
   ]
  },
  {
   "cell_type": "code",
   "execution_count": 234,
   "metadata": {
    "collapsed": true
   },
   "outputs": [],
   "source": [
    "\"\"\"\n",
    "Function\n",
    "--------\n",
    "confusion_mat_creator\n",
    "\n",
    "Inputs\n",
    "------\n",
    "predictions: a list of length n_documents. Each value in the list is the predicted\n",
    "             issue area of the corresponding document. (\"Predicted\" as predicted by the SVM.)\n",
    "actuals: a list of length n_documents. Each value is the actual issue area of the corresponding document.\n",
    "\n",
    "Returns\n",
    "-------\n",
    "A 14*14 confusion matrix. Cell i,j is the number of cases with actual issue area j \n",
    "that were predicted as issue area i. Thus, the diagonal represents correct predictions.\n",
    "\n",
    "Notes\n",
    "-----\n",
    "see do_classify below for an example of how this is used\n",
    "\"\"\"\n",
    "\n",
    "def confusion_mat_creator(predictions,actuals): \n",
    "    confusion_mat = np.zeros((14,14))\n",
    "    for i in range(len(predictions)):\n",
    "        #get predicted and actual issue ares; subtract by 1 since matrix is 0-indexed\n",
    "        p_val = predictions[i]-1\n",
    "        a_val = actuals[i]-1\n",
    "        confusion_mat[p_val,a_val]+=1 #Matrix is thus predicted values*actual values \n",
    "    return(confusion_mat)"
   ]
  },
  {
   "cell_type": "code",
   "execution_count": 235,
   "metadata": {
    "collapsed": true
   },
   "outputs": [],
   "source": [
    "\"\"\"\n",
    "Function\n",
    "--------\n",
    "cv_optimize\n",
    "\n",
    "Inputs\n",
    "------\n",
    "clf : an instance of a scikit-learn classifier\n",
    "parameters: a parameter grid dictionary thats passed to GridSearchCV\n",
    "X: a document-word matrix (e.g., noun_train_tfidf). Should be training data.\n",
    "y: the response vector (train_issue_areas)\n",
    "n_folds: the number of cross-validation folds (default 5)\n",
    "score_func: a score function we might want to pass (default python None)\n",
    "   \n",
    "Returns\n",
    "-------\n",
    "Two things: (1) The best estimator from the GridSearchCV, after the GridSearchCV has been used to\n",
    "fit the model; and (2) the best parameter. \n",
    "     \n",
    "Notes\n",
    "-----\n",
    "see do_classify below for an example of how this is used\n",
    "\"\"\"\n",
    "from sklearn.grid_search import GridSearchCV\n",
    "#note: this code comes directly from lab 6\n",
    "def cv_optimize(clf, parameters, X, y, n_folds=5, score_func=None):\n",
    "    if score_func:\n",
    "        gs = GridSearchCV(clf, param_grid=parameters, cv=n_folds, scoring=score_func)\n",
    "    else:\n",
    "        gs = GridSearchCV(clf, param_grid=parameters, cv=n_folds)\n",
    "    gs.fit(X, y)\n",
    "    best_estimator = gs.best_estimator_\n",
    "    best_param = gs.best_params_\n",
    "    return (best_estimator,best_param)"
   ]
  },
  {
   "cell_type": "code",
   "execution_count": 348,
   "metadata": {
    "collapsed": true
   },
   "outputs": [],
   "source": [
    "\"\"\"\n",
    "Function\n",
    "--------\n",
    "do_classify\n",
    "\n",
    "Inputs\n",
    "------\n",
    "clf : an instance of a scikit-learn classifier\n",
    "parameters: a parameter grid dictionary thats passed to GridSearchCV\n",
    "Xtrain: a training matrix document-word matrix (e.g., noun_train_tfidf)\n",
    "ytrain: the corresponding training response vector (train_issue_areas)\n",
    "Xtest: a test matrix document-word matrix (e.g., noun_test_tfidf)\n",
    "ytest: the corresponding test resonse vector (e.g., noun)\n",
    "n_folds: the number of cross-validation folds (default 5)\n",
    "score_func: a score function we might want to pass (default python None)\n",
    "   \n",
    "Returns\n",
    "-------\n",
    "4 things, in the following order: (1) an array of predicted y values (ie, topic areas) for the test data; \n",
    "                                  (2) the accuracy score; (3) the confusion matrix of the test data predictions;\n",
    "                                  (4) the best parameter from the gridsearch.\n",
    "\n",
    "\"\"\"\n",
    "\n",
    "##from sklearn.metrics import confusion_matrix\n",
    "def do_classify(clf, parameters, Xtrain, ytrain, Xtest, ytest, score_func=None, n_folds=5):\n",
    "    if parameters:\n",
    "        clf,best_param = cv_optimize(clf, parameters, Xtrain, ytrain, n_folds=n_folds, score_func=score_func)\n",
    "    clf=clf.fit(Xtrain, ytrain)\n",
    "    training_accuracy = clf.score(Xtrain, ytrain)\n",
    "    test_accuracy = clf.score(Xtest, ytest)\n",
    "    print \"############# based on standard predict ################\"\n",
    "    print \"Accuracy on training data: %0.2f\" % (training_accuracy)\n",
    "    print \"Accuracy on test data:     %0.2f\" % (test_accuracy)\n",
    "    print \"Best parameter: \", best_param\n",
    "    pred = clf.predict(Xtest)\n",
    "    print \"########################################################\"\n",
    "    print confusion_mat_creator(pred, ytest)\n",
    "    return(pred,test_accuracy,confusion_mat_creator(pred,ytest),best_param,clf)"
   ]
  },
  {
   "cell_type": "markdown",
   "metadata": {},
   "source": [
    "####Linear SVMs\n",
    "We optimize linear SVMs on nouns across six parameter values."
   ]
  },
  {
   "cell_type": "code",
   "execution_count": 156,
   "metadata": {
    "collapsed": false
   },
   "outputs": [
    {
     "name": "stdout",
     "output_type": "stream",
     "text": [
      "############# based on standard predict ################\n",
      "Accuracy on training data: 0.96\n",
      "Accuracy on test data:     0.68\n",
      "Best parameter:  {'C': 1.0}\n",
      "[[91  4  1  1  0  0  0  5  2  0  0  0  0]\n",
      " [15 64  2  0  0  0  0  5 11  0  0  0  0]\n",
      " [ 6  4 21  0  0  0  1  2  4  0  0  0  0]\n",
      " [ 4  3  0  2  0  0  1  3  2  0  0  0  0]\n",
      " [ 1  0  0  0  0  0  0  1  1  0  0  0  0]\n",
      " [ 1  0  0  0  0  2  0  1  1  0  0  1  0]\n",
      " [ 0  0  0  0  0  0 23  2  1  0  0  0  0]\n",
      " [ 6  4  3  0  0  0  1 88  2  0  0  0  0]\n",
      " [ 8  5  1  0  0  0  3 14 37  0  0  0  0]\n",
      " [ 0  2  0  0  0  0  6  9  1  6  0  0  0]\n",
      " [ 0  0  0  0  0  0  0  0  0  1  4  0  0]\n",
      " [ 0  1  0  0  0  0  0  7  0  0  0  9  0]\n",
      " [ 1  0  0  0  0  0  0  0  0  0  0  0  0]]\n",
      "########################################################\n",
      "CPU times: user 7.75 s, sys: 624 ms, total: 8.37 s\n",
      "Wall time: 8.17 s\n"
     ]
    }
   ],
   "source": [
    "%%time\n",
    "from sklearn.svm import LinearSVC\n",
    "#Try do_classify on best 6 parameters\n",
    "parameters1 = {\"C\": [0.0001, 0.01, 1.0, 100.0, 1000.0, 100000.0]}\n",
    "predictions1,accuracy1,confusion_matrix1,best_param1,clf1=do_classify(LinearSVC(loss='hinge'), parameters1, \n",
    "                                                                 noun_train_tfidf,train_issue_areas,\n",
    "                                                                 noun_test_tfidf,test_issue_areas)"
   ]
  },
  {
   "cell_type": "markdown",
   "metadata": {},
   "source": [
    "In the next cell, we further optimize the linear SVM based on the optimal parameter above. This means re-optimizing over a smaller range of parameters. "
   ]
  },
  {
   "cell_type": "code",
   "execution_count": 157,
   "metadata": {
    "collapsed": false
   },
   "outputs": [
    {
     "name": "stdout",
     "output_type": "stream",
     "text": [
      "############# based on standard predict ################\n",
      "Accuracy on training data: 0.96\n",
      "Accuracy on test data:     0.68\n",
      "Best parameter:  {'C': 1.0}\n",
      "[[91  4  1  1  0  0  0  5  2  0  0  0  0]\n",
      " [15 64  2  0  0  0  0  5 11  0  0  0  0]\n",
      " [ 6  4 21  0  0  0  1  2  4  0  0  0  0]\n",
      " [ 4  3  0  2  0  0  1  3  2  0  0  0  0]\n",
      " [ 1  0  0  0  0  0  0  1  1  0  0  0  0]\n",
      " [ 1  0  0  0  0  2  0  1  1  0  0  1  0]\n",
      " [ 0  0  0  0  0  0 23  2  1  0  0  0  0]\n",
      " [ 6  4  3  0  0  0  1 88  2  0  0  0  0]\n",
      " [ 8  5  1  0  0  0  3 14 37  0  0  0  0]\n",
      " [ 0  2  0  0  0  0  6  9  1  6  0  0  0]\n",
      " [ 0  0  0  0  0  0  0  0  0  1  4  0  0]\n",
      " [ 0  1  0  0  0  0  0  7  0  0  0  9  0]\n",
      " [ 1  0  0  0  0  0  0  0  0  0  0  0  0]]\n",
      "########################################################\n"
     ]
    }
   ],
   "source": [
    "#Rerun do_classify based on the best parameter above\n",
    "paramvalue = best_param1.values()[0]\n",
    "parameters2 = {\"C\": [paramvalue/10.,paramvalue,paramvalue*10]}\n",
    "predictions2,accuracy2,confusion_matrix2,best_param2,clf2=do_classify(LinearSVC(loss='hinge'), parameters2, \n",
    "                                                             noun_train_tfidf,train_issue_areas,\n",
    "                                                             noun_test_tfidf,test_issue_areas)"
   ]
  },
  {
   "cell_type": "markdown",
   "metadata": {},
   "source": [
    "The best SVM is the one with parameter C=1.0. We save this SVM in our dictionary of best SVMs."
   ]
  },
  {
   "cell_type": "code",
   "execution_count": 158,
   "metadata": {
    "collapsed": true
   },
   "outputs": [],
   "source": [
    "SVM_resultsdict['linear_nouns'] = (clf2,accuracy2)"
   ]
  },
  {
   "cell_type": "markdown",
   "metadata": {},
   "source": [
    "####Non-linear SVCs"
   ]
  },
  {
   "cell_type": "markdown",
   "metadata": {},
   "source": [
    "The next cell optimizes a kernelized SVM across a 5\\*4 array of parameters. Because it takes a long time to run on 20 parameters, we only run it once. (We've included an image of the initial output below, as we lost that output when we ran the commented out cell by accident.) "
   ]
  },
  {
   "cell_type": "code",
   "execution_count": 32,
   "metadata": {
    "collapsed": false
   },
   "outputs": [],
   "source": [
    "from sklearn.svm import SVC\n",
    "##%time\n",
    "#parameters grid\n",
    "##parameters3 = {\"C\": [1e-5,1e-3,1,1e3,1e5],\"gamma\":[0,1e-3,1e-5,1e-7]}\n",
    "#test non-linear (kernelized) SVMs\n",
    "##predictions3,accuracy3,confusion_matrix3,best_param3,clf3=do_classify(SVC(), parameters3, \n",
    "##                                                             noun_train_tfidf,train_issue_areas,\n",
    "##                                                             noun_test_tfidf,test_issue_areas)"
   ]
  },
  {
   "cell_type": "markdown",
   "metadata": {},
   "source": [
    "<img src=\"kernelized_svm_output.png\" width=600 height=400/>"
   ]
  },
  {
   "cell_type": "markdown",
   "metadata": {},
   "source": [
    "We further optimize based on the best parameters from the above cell. The result shows that in fact, the best parameters were the ones in the above cell ($C=1e^5$, gamma=$1e^{-5}$). We save this model in our dictionary. (I have commented out the below cell to avoid rerunning it by accident, since it takes so long!)"
   ]
  },
  {
   "cell_type": "code",
   "execution_count": 161,
   "metadata": {
    "collapsed": false
   },
   "outputs": [
    {
     "name": "stdout",
     "output_type": "stream",
     "text": [
      "############# based on standard predict ################\n",
      "Accuracy on training data: 1.00\n",
      "Accuracy on test data:     0.68\n",
      "Best parameter:  {'C': 10000.0, 'gamma': 0.0001}\n",
      "[[87  6  1  2  0  0  0  4  4  0  0  0  0]\n",
      " [14 63  2  1  0  0  0  6 10  1  0  0  0]\n",
      " [ 4  8 21  0  0  0  0  1  4  0  0  0  0]\n",
      " [ 3  3  0  3  0  0  0  5  1  0  0  0  0]\n",
      " [ 1  1  0  0  0  0  0  0  1  0  0  0  0]\n",
      " [ 2  0  0  0  0  2  0  1  0  0  0  1  0]\n",
      " [ 0  1  0  0  0  0 22  2  1  0  0  0  0]\n",
      " [ 3  4  1  0  0  0  1 87  6  2  0  0  0]\n",
      " [ 6  7  1  0  0  0  2 13 39  0  0  0  0]\n",
      " [ 0  2  0  0  0  0  6  8  0  8  0  0  0]\n",
      " [ 0  0  0  0  0  0  0  1  0  2  2  0  0]\n",
      " [ 0  0  0  0  0  0  0  8  0  0  0  9  0]\n",
      " [ 1  0  0  0  0  0  0  0  0  0  0  0  0]]\n",
      "########################################################\n",
      "CPU times: user 22min 24s, sys: 4.75 s, total: 22min 29s\n",
      "Wall time: 22min 36s\n"
     ]
    }
   ],
   "source": [
    "'''\n",
    "%%time\n",
    "#parameters grid\n",
    "parameters4 = {\"C\": [1e4,1e5,1e6],\"gamma\":[1e-4,1e-5,1e-6]}\n",
    "#test non-linear (kernelized) SVMs\n",
    "predictions4,accuracy4,confusion_matrix4,best_param4,clf4=do_classify(SVC(), parameters4,\n",
    "                                                                 noun_train_tfidf,train_issue_areas,\n",
    "                                                                 noun_test_tfidf,test_issue_areas)\n",
    "'''"
   ]
  },
  {
   "cell_type": "code",
   "execution_count": 162,
   "metadata": {
    "collapsed": true
   },
   "outputs": [],
   "source": [
    "SVM_resultsdict['kernelized_nouns'] = (clf4,accuracy4)"
   ]
  },
  {
   "cell_type": "markdown",
   "metadata": {},
   "source": [
    "###SVMs on other types of words\n",
    "So far, we have only tried running SVMs on nouns. We got equally good output (accuracy score = .68) for both the linear SVM and the kernelized SVM, using their respective optimized parameters. However, we may be able to get better ouput by running the SVM on other types of words (eg, verbs, precedents, etc.), or by running it on multiple types of words (e.g., nouns and precedents together).\n",
    "\n",
    "Note that we only train linear SVMs for the remainder of this notebook. This is because, in the nouns section above, the linear and nonlinear SVMs returned the same accuracy, but the non-linear SVM takes *much* longer to run."
   ]
  },
  {
   "cell_type": "code",
   "execution_count": 168,
   "metadata": {
    "collapsed": false
   },
   "outputs": [
    {
     "name": "stdout",
     "output_type": "stream",
     "text": [
      "CPU times: user 8.18 s, sys: 503 ms, total: 8.68 s\n",
      "Wall time: 16.8 s\n"
     ]
    }
   ],
   "source": [
    "%%time\n",
    "#first, we import the different types of words \n",
    "prec_train_df = pd.read_csv('prec_train_mat.csv',sep=',',header=None)\n",
    "prec_train_mat = prec_train_df.values\n",
    "prec_test_df = pd.read_csv('prec_test_mat.csv',sep=',',header=None)\n",
    "prec_test_mat = prec_test_df.values\n",
    "\n",
    "verb_train_df = pd.read_csv('verb_train_mat.csv',sep=',',header=None)\n",
    "verb_train_mat = verb_train_df.values\n",
    "verb_test_df = pd.read_csv('verb_test_mat.csv',sep=',',header=None)\n",
    "verb_test_mat = verb_test_df.values\n",
    "\n",
    "adj_train_df = pd.read_csv('adj_train_mat.csv',sep=',',header=None)\n",
    "adj_train_mat = adj_train_df.values\n",
    "adj_test_df = pd.read_csv('adj_test_mat.csv',sep=',',header=None)\n",
    "adj_test_mat = adj_test_df.values\n",
    "\n",
    "for_train_df = pd.read_csv('for_train_mat.csv',sep=',',header=None)\n",
    "for_train_mat = for_train_df.values\n",
    "for_test_df = pd.read_csv('for_test_mat.csv',sep=',',header=None)\n",
    "for_test_mat = for_test_df.values"
   ]
  },
  {
   "cell_type": "markdown",
   "metadata": {},
   "source": [
    "We define a function `matrix_combine`, which takes a list of matrix tuples as inputs. Each tuple has two elements, which must be the training and test matrices of the same word type. For example, an input could be: `[(for_train_mat,for_test_mat),(adj_train_mat,adj_test_mat)]`. The function outputs the concatenated test and training matrices. "
   ]
  },
  {
   "cell_type": "code",
   "execution_count": 169,
   "metadata": {
    "collapsed": false
   },
   "outputs": [],
   "source": [
    "def matrix_combine(matrix_list):    \n",
    "    train_mat = np.concatenate(([element[0] for element in matrix_list]),axis=1)\n",
    "    test_mat = np.concatenate(([element[1] for element in matrix_list]),axis=1)\n",
    "    return(train_mat,test_mat)"
   ]
  },
  {
   "cell_type": "markdown",
   "metadata": {},
   "source": [
    "#### Verbs, adjectives, precedents, foreign\n",
    "We try running the linear SVM on each of the four types of words, similar to what we did with nouns earlier."
   ]
  },
  {
   "cell_type": "code",
   "execution_count": 262,
   "metadata": {
    "collapsed": false
   },
   "outputs": [
    {
     "name": "stdout",
     "output_type": "stream",
     "text": [
      "############# based on standard predict ################\n",
      "Accuracy on training data: 0.99\n",
      "Accuracy on test data:     0.29\n",
      "Best parameter:  {'C': 1.0}\n",
      "[[ 95.   3.   0.   1.   0.   0.   0.   4.   1.   0.   0.   0.   0.   0.]\n",
      " [ 73.  10.   1.   0.   0.   0.   0.   9.   3.   1.   0.   0.   0.   0.]\n",
      " [ 22.   0.  12.   1.   0.   0.   0.   2.   1.   0.   0.   0.   0.   0.]\n",
      " [  9.   1.   0.   2.   0.   1.   0.   1.   1.   0.   0.   0.   0.   0.]\n",
      " [  2.   0.   0.   0.   0.   0.   0.   0.   1.   0.   0.   0.   0.   0.]\n",
      " [  6.   0.   0.   0.   0.   0.   0.   0.   0.   0.   0.   0.   0.   0.]\n",
      " [ 15.   0.   0.   0.   0.   0.   6.   5.   0.   0.   0.   0.   0.   0.]\n",
      " [ 81.   1.   1.   0.   0.   0.   1.  13.   4.   3.   0.   0.   0.   0.]\n",
      " [ 52.   3.   0.   0.   0.   0.   0.   6.   6.   1.   0.   0.   0.   0.]\n",
      " [ 16.   2.   0.   0.   0.   0.   0.   3.   1.   2.   0.   0.   0.   0.]\n",
      " [  4.   0.   0.   0.   0.   0.   0.   0.   0.   0.   1.   0.   0.   0.]\n",
      " [ 15.   0.   0.   0.   0.   0.   0.   2.   0.   0.   0.   0.   0.   0.]\n",
      " [  1.   0.   0.   0.   0.   0.   0.   0.   0.   0.   0.   0.   0.   0.]\n",
      " [  0.   0.   0.   0.   0.   0.   0.   0.   0.   0.   0.   0.   0.   0.]]\n",
      "########################################################\n",
      "############# based on standard predict ################\n",
      "Accuracy on training data: 0.89\n",
      "Accuracy on test data:     0.41\n",
      "Best parameter:  {'C': 1.0}\n",
      "[[ 63.   9.   3.   4.   0.   0.   1.  17.   3.   0.   1.   3.   0.   0.]\n",
      " [ 18.  41.   7.   0.   0.   0.   1.  20.   7.   3.   0.   0.   0.   0.]\n",
      " [  8.   8.   8.   0.   0.   0.   1.   7.   5.   0.   0.   1.   0.   0.]\n",
      " [  5.   0.   0.   1.   0.   0.   2.   5.   1.   1.   0.   0.   0.   0.]\n",
      " [  1.   1.   0.   0.   0.   0.   1.   0.   0.   0.   0.   0.   0.   0.]\n",
      " [  2.   1.   0.   0.   0.   0.   0.   2.   0.   0.   0.   1.   0.   0.]\n",
      " [  1.   1.   0.   0.   0.   0.  13.  10.   1.   0.   0.   0.   0.   0.]\n",
      " [ 20.   9.   2.   1.   0.   0.   5.  59.   7.   1.   0.   0.   0.   0.]\n",
      " [ 17.   9.   2.   2.   0.   0.   2.  15.  14.   2.   1.   4.   0.   0.]\n",
      " [  3.   5.   0.   0.   0.   0.   5.   6.   1.   4.   0.   0.   0.   0.]\n",
      " [  1.   0.   0.   0.   0.   0.   0.   3.   1.   0.   0.   0.   0.   0.]\n",
      " [  2.   1.   0.   0.   0.   0.   1.   5.   2.   0.   0.   6.   0.   0.]\n",
      " [  0.   0.   0.   0.   0.   0.   1.   0.   0.   0.   0.   0.   0.   0.]\n",
      " [  0.   0.   0.   0.   0.   0.   0.   0.   0.   0.   0.   0.   0.   0.]]\n",
      "########################################################\n",
      "############# based on standard predict ################\n",
      "Accuracy on training data: 0.94\n",
      "Accuracy on test data:     0.48\n",
      "Best parameter:  {'C': 1.0}\n",
      "[[ 86.   4.   2.   0.   0.   0.   1.   6.   4.   1.   0.   0.   0.   0.]\n",
      " [ 22.  26.   4.   0.   0.   0.   2.  19.  22.   1.   0.   1.   0.   0.]\n",
      " [ 12.   4.  14.   0.   0.   0.   1.   3.   4.   0.   0.   0.   0.   0.]\n",
      " [  7.   1.   0.   0.   0.   0.   0.   6.   0.   0.   0.   1.   0.   0.]\n",
      " [  1.   0.   0.   0.   0.   0.   0.   1.   1.   0.   0.   0.   0.   0.]\n",
      " [  1.   2.   0.   0.   0.   0.   1.   2.   0.   0.   0.   0.   0.   0.]\n",
      " [  2.   6.   3.   0.   0.   0.   4.   8.   3.   0.   0.   0.   0.   0.]\n",
      " [ 10.   8.   2.   0.   0.   0.   1.  66.  12.   3.   0.   2.   0.   0.]\n",
      " [ 15.   6.   2.   1.   0.   0.   1.   7.  33.   2.   0.   1.   0.   0.]\n",
      " [  1.   1.   0.   0.   0.   0.   3.   8.   1.  10.   0.   0.   0.   0.]\n",
      " [  1.   0.   0.   0.   0.   0.   0.   1.   0.   1.   2.   0.   0.   0.]\n",
      " [  0.   5.   1.   1.   0.   0.   0.   4.   2.   2.   0.   2.   0.   0.]\n",
      " [  1.   0.   0.   0.   0.   0.   0.   0.   0.   0.   0.   0.   0.   0.]\n",
      " [  0.   0.   0.   0.   0.   0.   0.   0.   0.   0.   0.   0.   0.   0.]]\n",
      "########################################################\n",
      "############# based on standard predict ################\n",
      "Accuracy on training data: 0.22\n",
      "Accuracy on test data:     0.17\n",
      "Best parameter:  {'C': 1.0}\n",
      "[[ 76.   4.   1.   1.   0.   0.   1.   1.   1.   0.   0.  19.   0.   0.]\n",
      " [ 60.   7.   0.  10.   0.   0.   3.   1.   0.   1.   1.  14.   0.   0.]\n",
      " [ 24.   0.   0.   7.   0.   0.   0.   0.   0.   0.   0.   7.   0.   0.]\n",
      " [ 10.   0.   1.   1.   0.   0.   0.   0.   0.   0.   0.   3.   0.   0.]\n",
      " [  1.   0.   0.   0.   0.   0.   0.   0.   0.   0.   0.   2.   0.   0.]\n",
      " [  6.   0.   0.   0.   0.   0.   0.   0.   0.   0.   0.   0.   0.   0.]\n",
      " [ 21.   1.   0.   0.   0.   0.   0.   0.   0.   0.   1.   3.   0.   0.]\n",
      " [ 76.   3.   1.   2.   0.   0.   3.   0.   0.   0.   0.  19.   0.   0.]\n",
      " [ 43.   0.   1.   3.   0.   0.   3.   0.   0.   0.   0.  18.   0.   0.]\n",
      " [ 15.   0.   1.   3.   0.   0.   0.   0.   0.   0.   0.   5.   0.   0.]\n",
      " [  4.   1.   0.   0.   0.   0.   0.   0.   0.   0.   0.   0.   0.   0.]\n",
      " [ 16.   0.   0.   0.   0.   0.   0.   0.   0.   0.   0.   1.   0.   0.]\n",
      " [  0.   0.   0.   0.   0.   0.   0.   0.   0.   0.   0.   1.   0.   0.]\n",
      " [  0.   0.   0.   0.   0.   0.   0.   0.   0.   0.   0.   0.   0.   0.]]\n",
      "########################################################\n",
      "CPU times: user 2.55 s, sys: 148 ms, total: 2.7 s\n",
      "Wall time: 2.84 s\n"
     ]
    }
   ],
   "source": [
    "#loop through each type of words \n",
    "for matrixpair in [(prec_train_mat,prec_test_mat,'prec'),(adj_train_mat,adj_test_mat,'adj'),\n",
    "                   (verb_train_mat,verb_test_mat,'verb'),(for_train_mat,for_test_mat,'for')]:\n",
    "    #convert to TF-IDF form \n",
    "    train_tfidf1,test_tfidf1 = tfidf_mat_creator(matrixpair[0],matrixpair[1])\n",
    "    #run do-classify\n",
    "    predictions,accuracy,confusion_matrix,best_param,clfoutput=do_classify(LinearSVC(loss='hinge'), {'C':[1.0]},\n",
    "                                                                 train_tfidf1,train_issue_areas,\n",
    "                                                                 test_tfidf1,test_issue_areas)\n",
    "    #save results  \n",
    "    SVM_resultsdict[matrixpair[2]]=(clfoutput,accuracy)"
   ]
  },
  {
   "cell_type": "markdown",
   "metadata": {},
   "source": [
    "We compare the accuracy of each word type considered so far. We see that the linear SVM on nouns performs the best. "
   ]
  },
  {
   "cell_type": "code",
   "execution_count": 264,
   "metadata": {
    "collapsed": false
   },
   "outputs": [
    {
     "name": "stdout",
     "output_type": "stream",
     "text": [
      "for :  0.167322834646\n",
      "linear_nouns :  0.683070866142\n",
      "prec :  0.28937007874\n",
      "kernelized_nouns :  0.675196850394\n",
      "verb :  0.478346456693\n",
      "adj :  0.411417322835\n"
     ]
    }
   ],
   "source": [
    "for key,value in SVM_resultsdict.iteritems(): \n",
    "    print key, ': ', value[1]"
   ]
  },
  {
   "cell_type": "markdown",
   "metadata": {},
   "source": [
    "####Combinations of word types\n",
    "Verbs and adjectives give decent results, and precedents is not terrible. Let's try combining each of these with nouns and seeing what the results are."
   ]
  },
  {
   "cell_type": "code",
   "execution_count": 268,
   "metadata": {
    "collapsed": false
   },
   "outputs": [
    {
     "name": "stdout",
     "output_type": "stream",
     "text": [
      "############# based on standard predict ################\n",
      "Accuracy on training data: 0.97\n",
      "Accuracy on test data:     0.69\n",
      "Best parameter:  {'C': 1.0}\n",
      "[[ 92.   1.   0.   0.   0.   0.   0.   6.   5.   0.   0.   0.   0.   0.]\n",
      " [ 15.  66.   2.   0.   0.   0.   0.   5.   9.   0.   0.   0.   0.   0.]\n",
      " [  6.   4.  22.   0.   0.   0.   0.   3.   3.   0.   0.   0.   0.   0.]\n",
      " [  4.   3.   0.   3.   0.   0.   1.   3.   1.   0.   0.   0.   0.   0.]\n",
      " [  1.   0.   0.   0.   0.   0.   0.   1.   1.   0.   0.   0.   0.   0.]\n",
      " [  1.   0.   0.   0.   0.   2.   0.   1.   1.   0.   0.   1.   0.   0.]\n",
      " [  0.   0.   0.   0.   0.   0.  23.   2.   1.   0.   0.   0.   0.   0.]\n",
      " [  4.   5.   3.   0.   0.   0.   1.  88.   3.   0.   0.   0.   0.   0.]\n",
      " [  8.   6.   1.   0.   0.   0.   2.  16.  35.   0.   0.   0.   0.   0.]\n",
      " [  0.   2.   0.   0.   0.   0.   6.   9.   1.   6.   0.   0.   0.   0.]\n",
      " [  0.   1.   0.   0.   0.   0.   0.   0.   0.   1.   3.   0.   0.   0.]\n",
      " [  0.   1.   0.   0.   0.   0.   0.   6.   0.   0.   0.  10.   0.   0.]\n",
      " [  1.   0.   0.   0.   0.   0.   0.   0.   0.   0.   0.   0.   0.   0.]\n",
      " [  0.   0.   0.   0.   0.   0.   0.   0.   0.   0.   0.   0.   0.   0.]]\n",
      "########################################################\n",
      "############# based on standard predict ################\n",
      "Accuracy on training data: 0.97\n",
      "Accuracy on test data:     0.68\n",
      "Best parameter:  {'C': 1.0}\n",
      "[[ 91.   4.   1.   1.   0.   0.   0.   5.   2.   0.   0.   0.   0.   0.]\n",
      " [ 15.  64.   2.   0.   0.   0.   0.   6.  10.   0.   0.   0.   0.   0.]\n",
      " [  6.   4.  21.   0.   0.   0.   1.   2.   4.   0.   0.   0.   0.   0.]\n",
      " [  4.   2.   0.   1.   0.   0.   1.   4.   3.   0.   0.   0.   0.   0.]\n",
      " [  1.   0.   0.   0.   0.   0.   0.   2.   0.   0.   0.   0.   0.   0.]\n",
      " [  1.   0.   0.   0.   0.   2.   0.   1.   1.   0.   0.   1.   0.   0.]\n",
      " [  0.   0.   0.   0.   0.   0.  22.   3.   1.   0.   0.   0.   0.   0.]\n",
      " [  5.   4.   3.   0.   0.   0.   1.  89.   2.   0.   0.   0.   0.   0.]\n",
      " [  8.   7.   1.   0.   0.   0.   3.  14.  35.   0.   0.   0.   0.   0.]\n",
      " [  0.   2.   0.   0.   0.   0.   6.   9.   1.   6.   0.   0.   0.   0.]\n",
      " [  0.   0.   0.   0.   0.   0.   0.   0.   0.   1.   4.   0.   0.   0.]\n",
      " [  0.   1.   0.   0.   0.   0.   0.   7.   0.   0.   0.   9.   0.   0.]\n",
      " [  1.   0.   0.   0.   0.   0.   0.   0.   0.   0.   0.   0.   0.   0.]\n",
      " [  0.   0.   0.   0.   0.   0.   0.   0.   0.   0.   0.   0.   0.   0.]]\n",
      "########################################################\n",
      "############# based on standard predict ################\n",
      "Accuracy on training data: 0.97\n",
      "Accuracy on test data:     0.68\n",
      "Best parameter:  {'C': 1.0}\n",
      "[[ 91.   4.   1.   1.   0.   0.   0.   5.   2.   0.   0.   0.   0.   0.]\n",
      " [ 16.  64.   2.   0.   0.   0.   0.   6.   9.   0.   0.   0.   0.   0.]\n",
      " [  6.   5.  21.   0.   0.   0.   0.   2.   4.   0.   0.   0.   0.   0.]\n",
      " [  4.   3.   0.   1.   0.   0.   1.   3.   3.   0.   0.   0.   0.   0.]\n",
      " [  1.   0.   0.   0.   0.   0.   0.   1.   1.   0.   0.   0.   0.   0.]\n",
      " [  1.   0.   0.   0.   0.   2.   0.   1.   1.   0.   0.   1.   0.   0.]\n",
      " [  0.   0.   0.   0.   0.   0.  22.   3.   1.   0.   0.   0.   0.   0.]\n",
      " [  4.   5.   3.   0.   0.   0.   1.  89.   2.   0.   0.   0.   0.   0.]\n",
      " [  8.   5.   1.   0.   0.   0.   3.  14.  37.   0.   0.   0.   0.   0.]\n",
      " [  0.   2.   0.   0.   0.   0.   6.   9.   1.   6.   0.   0.   0.   0.]\n",
      " [  0.   1.   0.   0.   0.   0.   0.   0.   0.   1.   3.   0.   0.   0.]\n",
      " [  0.   1.   0.   0.   0.   0.   0.   6.   0.   0.   0.  10.   0.   0.]\n",
      " [  1.   0.   0.   0.   0.   0.   0.   0.   0.   0.   0.   0.   0.   0.]\n",
      " [  0.   0.   0.   0.   0.   0.   0.   0.   0.   0.   0.   0.   0.   0.]]\n",
      "########################################################\n",
      "CPU times: user 9.19 s, sys: 1.58 s, total: 10.8 s\n",
      "Wall time: 16.5 s\n"
     ]
    }
   ],
   "source": [
    "%%time\n",
    "#EACH OF VERBS, PRECEDENTS, ADJ COMBINED WITH NOUNS \n",
    "nouncomboslist = [[(verb_train_mat,verb_test_mat),(noun_train_mat,noun_test_mat),'verbs-nouns'],\n",
    "                  [(prec_train_mat,prec_test_mat),(noun_train_mat,noun_test_mat),'prec-nouns'],\n",
    "                  [(adj_train_mat,adj_test_mat),(noun_train_mat,noun_test_mat),'adj-nouns']]\n",
    "combosdict={}\n",
    "for combo in nouncomboslist: \n",
    "    #concatenate the nouns matrix and the other matrix \n",
    "    train_combo,test_combo = matrix_combine([combo[0],combo[1]])\n",
    "    #convert to tfidf \n",
    "    train_tfidf,test_tfidf = tfidf_mat_creator(train_combo,test_combo)\n",
    "    #do_classify \n",
    "    predictions,accuracy,confusion_matrix,best_param,clfoutput=do_classify(LinearSVC(loss='hinge'), {'C':[1.0]},\n",
    "                                                                           train_tfidf,train_issue_areas,test_tfidf,\n",
    "                                                                           test_issue_areas)\n",
    "    #get accuracies in dict \n",
    "    combosdict[combo[2]] = (clfoutput,accuracy) "
   ]
  },
  {
   "cell_type": "markdown",
   "metadata": {},
   "source": [
    "We compare the output of each word type. Because they all have good accuracy scores, we put them in SVM_resultsdict."
   ]
  },
  {
   "cell_type": "code",
   "execution_count": 270,
   "metadata": {
    "collapsed": false
   },
   "outputs": [
    {
     "name": "stdout",
     "output_type": "stream",
     "text": [
      "verbs-nouns :  0.688976377953\n",
      "adj-nouns :  0.681102362205\n",
      "prec-nouns :  0.677165354331\n"
     ]
    }
   ],
   "source": [
    "for key,value in combosdict.iteritems():\n",
    "    print key, ': ', value[1]\n",
    "    SVM_resultsdict[key]=value"
   ]
  },
  {
   "cell_type": "code",
   "execution_count": 273,
   "metadata": {
    "collapsed": false
   },
   "outputs": [
    {
     "name": "stdout",
     "output_type": "stream",
     "text": [
      "############# based on standard predict ################\n",
      "Accuracy on training data: 0.98\n",
      "Accuracy on test data:     0.68\n",
      "Best parameter:  {'C': 1.0}\n",
      "[[ 91.   3.   0.   0.   0.   0.   0.   5.   5.   0.   0.   0.   0.   0.]\n",
      " [ 16.  66.   2.   0.   0.   0.   0.   5.   8.   0.   0.   0.   0.   0.]\n",
      " [  5.   4.  22.   0.   0.   0.   0.   3.   4.   0.   0.   0.   0.   0.]\n",
      " [  5.   3.   0.   1.   0.   0.   1.   3.   2.   0.   0.   0.   0.   0.]\n",
      " [  1.   0.   0.   0.   0.   0.   0.   1.   1.   0.   0.   0.   0.   0.]\n",
      " [  1.   0.   0.   0.   0.   2.   0.   1.   1.   0.   0.   1.   0.   0.]\n",
      " [  0.   0.   0.   0.   0.   0.  22.   3.   1.   0.   0.   0.   0.   0.]\n",
      " [  4.   4.   3.   0.   0.   0.   1.  90.   2.   0.   0.   0.   0.   0.]\n",
      " [  9.   5.   1.   0.   0.   0.   2.  19.  32.   0.   0.   0.   0.   0.]\n",
      " [  0.   2.   0.   0.   0.   0.   7.   9.   0.   6.   0.   0.   0.   0.]\n",
      " [  0.   1.   0.   0.   0.   0.   0.   0.   0.   1.   3.   0.   0.   0.]\n",
      " [  0.   1.   0.   0.   0.   0.   0.   6.   0.   0.   0.  10.   0.   0.]\n",
      " [  1.   0.   0.   0.   0.   0.   0.   0.   0.   0.   0.   0.   0.   0.]\n",
      " [  0.   0.   0.   0.   0.   0.   0.   0.   0.   0.   0.   0.   0.   0.]]\n",
      "########################################################\n",
      "CPU times: user 4.09 s, sys: 687 ms, total: 4.78 s\n",
      "Wall time: 4.73 s\n"
     ]
    }
   ],
   "source": [
    "%%time\n",
    "#VERBS, NOUNS, PRECEDENTS,ADJECTIVES COMBINED \n",
    "vnpatuples = [(verb_train_mat,verb_test_mat),(noun_train_mat,noun_test_mat),\n",
    "              (prec_train_mat,prec_test_mat),(adj_train_mat,adj_test_mat)]\n",
    "#concatenate \n",
    "vnpa_train,vnpa_test = matrix_combine(vnpatuples)\n",
    "#convert to TFIDF\n",
    "vnpa_train_tfidf, vnpa_test_tfidf = tfidf_mat_creator(vnpa_train,vnpa_test)\n",
    "#run do_classify\n",
    "predictions_vnpa,accuracy_vnpa,confusion_matrix_vnpa,best_param_vnpa,clfoutput_vnpa=do_classify(LinearSVC(loss='hinge'),\n",
    "                                                                                                {'C':[1.0]},vnpa_train_tfidf,\n",
    "                                                                                                train_issue_areas,vnpa_test_tfidf,\n",
    "                                                                                                test_issue_areas)"
   ]
  },
  {
   "cell_type": "markdown",
   "metadata": {},
   "source": [
    "Accuracy of .68 is fairly good, so we append this final model to our dictionary of SVM results."
   ]
  },
  {
   "cell_type": "code",
   "execution_count": 275,
   "metadata": {
    "collapsed": false
   },
   "outputs": [],
   "source": [
    "SVM_resultsdict['vnpa_combo'] = (clfoutput_vnpa,accuracy_vnpa)"
   ]
  },
  {
   "cell_type": "markdown",
   "metadata": {
    "collapsed": true
   },
   "source": [
    "##Evaluating SVM results \n",
    "We want to compare the results of the various SVMs in our results dictionary. This will allow us to pick a best SVM, which we will ultimately compare against the other models (naive bayes, k-means, NMF, etc.). \n",
    "\n",
    "To begin, we create a simple bar graph comparing the accuracy of the SVMs."
   ]
  },
  {
   "cell_type": "code",
   "execution_count": 366,
   "metadata": {
    "collapsed": false
   },
   "outputs": [
    {
     "data": {
      "text/plain": [
       "[]"
      ]
     },
     "execution_count": 366,
     "metadata": {},
     "output_type": "execute_result"
    },
    {
     "data": {
      "image/png": "[encoded data removed]",
      "text/plain": [
       "<matplotlib.figure.Figure at 0x10b1e3d10>"
      ]
     },
     "metadata": {},
     "output_type": "display_data"
    }
   ],
   "source": [
    "import math\n",
    "#BAR GRAPH OF ACCURACIES \n",
    "#make lists of model names and accuracies,sorted by accuracy \n",
    "names_accuracies = [(key, value[1]) for key,value in SVM_resultsdict.iteritems()]\n",
    "names_accuracies = sorted(names_accuracies,key=lambda x: x[1])\n",
    "modelnames = [element[0] for element in names_accuracies]\n",
    "modelaccuracies = [element[1] for element in names_accuracies]\n",
    "\n",
    "#print bar graph of accuracies \n",
    "#(for help with bar graph creation, I referenced: http://matplotlib.org/examples/api/barchart_demo.html)\n",
    "N = len(modelaccuracies)\n",
    "ind = np.arange(N) #x locations of bars \n",
    "width = .35 #bar width\n",
    "plt.grid(zorder=10)\n",
    "plt.gca().xaxis.grid(False)\n",
    "plt.bar(ind, modelaccuracies, width, color='r',alpha=.25)\n",
    "plt.title(\"SVM accuracy by input words\")\n",
    "plt.ylabel('Accuracy')\n",
    "plt.xticks(ind + width/2,modelnames,rotation=90,size=13)\n",
    "#show values on top of rectangles\n",
    "xloc = [location for location in ind]\n",
    "yloc = [math.ceil(height*1000)/1000 for height in modelaccuracies]\n",
    "for a,b in zip(xloc, yloc):\n",
    "    plt.text(a, b, str(b))\n",
    "\n",
    "plt.plot()"
   ]
  },
  {
   "cell_type": "markdown",
   "metadata": {},
   "source": [
    "We are most interested in the results of our best SVM, the linear SVM that uses both verbs and nouns as input. Let's rerun this SVM."
   ]
  },
  {
   "cell_type": "code",
   "execution_count": 349,
   "metadata": {
    "collapsed": false
   },
   "outputs": [
    {
     "name": "stdout",
     "output_type": "stream",
     "text": [
      "############# based on standard predict ################\n",
      "Accuracy on training data: 0.97\n",
      "Accuracy on test data:     0.69\n",
      "Best parameter:  {'C': 1.0}\n",
      "########################################################\n",
      "[[ 92.  15.   6.   4.   1.   1.   0.   4.   8.   0.   0.   0.   1.   0.]\n",
      " [  1.  66.   4.   3.   0.   0.   0.   5.   6.   2.   1.   1.   0.   0.]\n",
      " [  0.   2.  22.   0.   0.   0.   0.   3.   1.   0.   0.   0.   0.   0.]\n",
      " [  0.   0.   0.   3.   0.   0.   0.   0.   0.   0.   0.   0.   0.   0.]\n",
      " [  0.   0.   0.   0.   0.   0.   0.   0.   0.   0.   0.   0.   0.   0.]\n",
      " [  0.   0.   0.   0.   0.   2.   0.   0.   0.   0.   0.   0.   0.   0.]\n",
      " [  0.   0.   0.   1.   0.   0.  23.   1.   2.   6.   0.   0.   0.   0.]\n",
      " [  6.   5.   3.   3.   1.   1.   2.  88.  16.   9.   0.   6.   0.   0.]\n",
      " [  5.   9.   3.   1.   1.   1.   1.   3.  35.   1.   0.   0.   0.   0.]\n",
      " [  0.   0.   0.   0.   0.   0.   0.   0.   0.   6.   1.   0.   0.   0.]\n",
      " [  0.   0.   0.   0.   0.   0.   0.   0.   0.   0.   3.   0.   0.   0.]\n",
      " [  0.   0.   0.   0.   0.   1.   0.   0.   0.   0.   0.  10.   0.   0.]\n",
      " [  0.   0.   0.   0.   0.   0.   0.   0.   0.   0.   0.   0.   0.   0.]\n",
      " [  0.   0.   0.   0.   0.   0.   0.   0.   0.   0.   0.   0.   0.   0.]]\n",
      "CPU times: user 3.16 s, sys: 1.58 s, total: 4.73 s\n",
      "Wall time: 1min 17s\n"
     ]
    }
   ],
   "source": [
    "%%time\n",
    "#RERUN BEST SVM\n",
    "vn_list = [(verb_train_mat,verb_test_mat),(noun_train_mat,noun_test_mat)]\n",
    "train_vn,test_vn = matrix_combine([vn_list[0],vn_list[1]])\n",
    "#convert to tfidf \n",
    "vn_train_tfidf,vn_test_tfidf = tfidf_mat_creator(train_vn,test_vn)\n",
    "#do_classify \n",
    "best_predictions,best_accuracy,best_con_mat,best_param,best_clf=do_classify(LinearSVC(loss='hinge'), {'C':[1.0]},\n",
    "                                                                       vn_train_tfidf,train_issue_areas,vn_test_tfidf,\n",
    "                                                                       test_issue_areas)"
   ]
  },
  {
   "cell_type": "markdown",
   "metadata": {},
   "source": [
    "We now check how well the best SVM performed for each issue area. Recall that the confusion matrix (printed just above) is of the form predicted by actual. For example, cell (1,0) of the above matrix means that 15 cases that are actually in issue area 1 were placed in issue area 1. (We must add 1 to the cell indices, since the matrix is zero-indexed.) We use the confusion matrix to plot a bar graph of accuracy by issue area. Each bar measures\n",
    "\n",
    "$$\\frac{\\text{number true positives in issue area  } j}{\\text{number true positives + number false negatives in issue area  } j} = \\frac{\\text{number true positives in issue area  } j}{\\text{total number cases actually in issue area  } j}$$ "
   ]
  },
  {
   "cell_type": "code",
   "execution_count": 353,
   "metadata": {
    "collapsed": false
   },
   "outputs": [
    {
     "data": {
      "text/plain": [
       "[0.88461538461538458,\n",
       " 0.68041237113402064,\n",
       " 0.57894736842105265,\n",
       " 0.20000000000000001,\n",
       " 0.0,\n",
       " 0.33333333333333331,\n",
       " 0.88461538461538458,\n",
       " 0.84615384615384615,\n",
       " 0.51470588235294112,\n",
       " 0.25,\n",
       " 0.59999999999999998,\n",
       " 0.58823529411764708,\n",
       " 0.0,\n",
       " nan]"
      ]
     },
     "execution_count": 353,
     "metadata": {},
     "output_type": "execute_result"
    }
   ],
   "source": [
    "i=0\n",
    "accuracy_by_issue = []\n",
    "for column in best_con_mat.T:\n",
    "    accuracy_rate = float(column[i])/column.sum()\n",
    "    accuracy_by_issue.append(accuracy_rate)\n",
    "    i+=1\n",
    "accuracy_by_issue"
   ]
  },
  {
   "cell_type": "code",
   "execution_count": 365,
   "metadata": {
    "collapsed": false
   },
   "outputs": [
    {
     "data": {
      "text/plain": [
       "<matplotlib.text.Text at 0x109dcd090>"
      ]
     },
     "execution_count": 365,
     "metadata": {},
     "output_type": "execute_result"
    },
    {
     "data": {
      "image/png": "[encoded data removed]",
      "text/plain": [
       "<matplotlib.figure.Figure at 0x10ade4990>"
      ]
     },
     "metadata": {},
     "output_type": "display_data"
    }
   ],
   "source": [
    "#BAR GRAPH OF ACCURACY BY ISSUE AREA\n",
    "#calculate accuracies \n",
    "i=0\n",
    "accuracy_by_issue = []\n",
    "for column in best_con_mat.T:\n",
    "    accuracy_rate = float(column[i])/column.sum()\n",
    "    accuracy_by_issue.append(accuracy_rate)\n",
    "    i+=1\n",
    "#issue areas\n",
    "issue_areas = [\"criminal procedure\",\"civil rights\",\"first amendment\",\"due process\",\"privacy\",\"attorneys\",\n",
    "              \"unions\",\"economic activity\",\"judicial power\",\"federalism\",\"interstate  amendment\",\n",
    "              \"federal taxation\",\"miscellaneous\",\"private action\"]\n",
    "#print bar graph\n",
    "N = len(accuracy_by_issue)\n",
    "ind = np.arange(N) #x locations of bars \n",
    "width = .35 #bar width\n",
    "plt.grid(zorder=10)\n",
    "plt.gca().xaxis.grid(False)\n",
    "plt.bar(ind, accuracy_by_issue, width, color='r',alpha=.25)\n",
    "plt.title(\"Accuracy of best SVM by issue area\")\n",
    "plt.ylabel('Accuracy')\n",
    "plt.ylim((0,1))\n",
    "plt.xticks(ind + width/2,issue_areas,rotation=90,size=13)\n",
    "#note below x-axis\n",
    "note = \"Note: The privacy and miscellaneous issue areas have accuracy scores of 0. \\\n",
    "In addition, our sample includes no\\n cases in issue area 14, private action, so the private\\\n",
    "action issue area also appears to have score 0 in this graph.\"\n",
    "plt.text(0.05,-.42,note,size=15)"
   ]
  },
  {
   "cell_type": "markdown",
   "metadata": {},
   "source": [
    "Finally, we want to examine overlap between issue areas. This tells us, for instance, the most common issue area in which misclassified cases from issue area 1 were classified. We create a heat map, where darker cells mean there was more overlap. "
   ]
  },
  {
   "cell_type": "code",
   "execution_count": null,
   "metadata": {
    "collapsed": true
   },
   "outputs": [],
   "source": [
    "#HEAT MAP\n"
   ]
  },
  {
   "cell_type": "markdown",
   "metadata": {},
   "source": [
    "###Visualization ideas (for this and other parts of the project) \n",
    "- Graph of the SVM confusion matrix to show which issue areas were best predicted, and to show overlap between areas. Maybe a 12x12 (or 14x14) heat map showing overlap between columns. For instance, if issue 12 is frequently predicted as issue 10, then the 12-10 (or 10-12) box of the heat map would be dark.\n",
    "- Bar graph comparing the accuracy rating of the best iteration of each model \n",
    "- Show the words that have the greatest influence (e.g., highest absolute coefficients) in each model \n",
    "- Exporatory data analysis: show the most common words; visualize the TF-IDF matrix. Perhaps take the sum of each column (word) of the TF-IDF matrix, as this represents \"overall influence\" of a given word. Then make a plot of these values -- maybe even a visualization that represents importance with word size.  \n",
    "\n",
    "###TO DO: \n",
    "- Keep a dict of all accuracies and models, to select the best one at the end\n",
    "- Explain why we only consider linear after nouns (b/c linear performs essentially as well as kernelized)\n",
    "- Do visualizations"
   ]
  }
 ],
 "metadata": {
  "kernelspec": {
   "display_name": "Python 2",
   "language": "python",
   "name": "python2"
  },
  "language_info": {
   "codemirror_mode": {
    "name": "ipython",
    "version": 2
   },
   "file_extension": ".py",
   "mimetype": "text/x-python",
   "name": "python",
   "nbconvert_exporter": "python",
   "pygments_lexer": "ipython2",
   "version": "2.7.10"
  }
 },
 "nbformat": 4,
 "nbformat_minor": 0
}
