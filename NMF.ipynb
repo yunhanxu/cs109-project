{
 "cells": [
  {
   "cell_type": "code",
   "execution_count": 159,
   "metadata": {
    "collapsed": false
   },
   "outputs": [],
   "source": [
    "import numpy as np\n",
    "import sklearn.decomposition"
   ]
  },
  {
   "cell_type": "code",
   "execution_count": 260,
   "metadata": {
    "collapsed": false
   },
   "outputs": [
    {
     "name": "stdout",
     "output_type": "stream",
     "text": [
      "[[ 3.06656817  0.47126123  0.75606029]\n",
      " [ 0.          1.00663199  1.0455626 ]]\n",
      "\n",
      "[[ 0.32438995  0.77958337]\n",
      " [ 0.65339092  0.73084468]\n",
      " [ 0.97549315  0.63290879]\n",
      " [ 1.30867624  0.53570293]\n",
      " [ 1.62950894 -0.        ]\n",
      " [ 1.95581175  0.04756808]]\n"
     ]
    }
   ],
   "source": [
    "# arbitrary 6x3 matrix (constructed from an example at http://scikit-learn.org/stable/modules/generated/sklearn.decomposition.NMF.html with a random column concatenated)\n",
    "M = np.concatenate((np.array([[1,1], [2, 1], [3, 1.2], [4, 1], [5, 0.8], [6, 1]]),map(lambda x : [x], np.round(np.random.random_sample(6),1)+1)),1)\n",
    "M\n",
    "H = sklearn.decomposition.NMF(n_components=2).fit(M).components_\n",
    "W = sklearn.decomposition.NMF(n_components=2).fit_transform(M)\n",
    "print H\n",
    "print\n",
    "print W"
   ]
  },
  {
   "cell_type": "code",
   "execution_count": 284,
   "metadata": {
    "collapsed": false
   },
   "outputs": [
    {
     "name": "stdout",
     "output_type": "stream",
     "text": [
      "[[  2.337   6.367  16.474   0.   ]\n",
      " [  1.497   6.169  16.684   0.   ]\n",
      " [  1.404   6.821  18.967   0.   ]\n",
      " [  1.391   6.938  19.562   0.   ]\n",
      " [  1.844   6.254  18.157   0.   ]\n",
      " [  1.592   6.546  19.287   0.   ]\n",
      " [  1.307   7.324  19.336   0.   ]\n",
      " [  1.532  16.159   2.447   1.   ]\n",
      " [  1.837  16.314   2.911   1.   ]\n",
      " [  2.187  16.133   1.396   1.   ]\n",
      " [  2.175  16.651   0.291   1.   ]\n",
      " [  1.86   16.213   2.054   1.   ]\n",
      " [  2.422  17.043   0.359   1.   ]\n",
      " [ 20.18    0.806   2.447   2.   ]\n",
      " [ 21.152   0.7     0.656   2.   ]\n",
      " [ 21.048   0.      2.425   2.   ]\n",
      " [ 20.971   0.644   0.8     2.   ]\n",
      " [ 21.355   1.697   0.      2.   ]\n",
      " [ 20.577   0.313   1.801   2.   ]\n",
      " [ 20.561   0.786   1.862   2.   ]]\n",
      "[0, 0, 2, 2, 0, 0, 1, 0, 2, 2, 0, 1, 1, 1, 2, 1, 1, 0, 2, 2]\n",
      "[2, 2, 0, 0, 2, 2, 1, 2, 0, 0, 2, 1, 1, 1, 0, 1, 1, 2, 0, 0]\n"
     ]
    },
    {
     "data": {
      "text/plain": [
       "array([[ 0.19196094,  0.75860678,  2.37969049]])"
      ]
     },
     "execution_count": 284,
     "metadata": {},
     "output_type": "execute_result"
    }
   ],
   "source": [
    "# a 20x4 example in which there are explicit types (that are unknown to the algorithm)\n",
    "n = 20\n",
    "types = np.trunc(np.random.random_sample(n)*3)\n",
    "means = [[1,2,3,4],[1,5,4,1],[10,1,2,8]]\n",
    "stddevs = 0.2 * np.ones([3,4])\n",
    "def gen(t):\n",
    "    mean = means[t]\n",
    "    sd = stddevs[t]\n",
    "    sz = len(mean)\n",
    "    return list(np.random.randn(sz) * sd + mean)\n",
    "# generate a data matrix\n",
    "M = np.round(map(gen, map(int, types)),3)\n",
    "\n",
    "# run NMF\n",
    "fit = sklearn.decomposition.NMF(n_components=3).fit(M)\n",
    "H = fit.components_\n",
    "W = fit.transform(M)\n",
    "#print H\n",
    "results = list(np.concatenate((10*W,map(lambda x:[x],types)), 1))\n",
    "results.sort(key = lambda row : row[3])\n",
    "results = np.array(map(lambda row : list(np.round(row,3)), results))\n",
    "print results\n",
    "#print map(lambda row : np.argmax(np.round(list(row[0:3]),3)), results)\n",
    "# predicted clusters\n",
    "print map(lambda row : np.argmax(np.round(list(row[0:3]),3)), W)\n",
    "# true clusters\n",
    "print map(int, types)\n",
    "\n",
    "# use fit from above to classify a new point\n",
    "fit.transform([[1,2,4,5]])"
   ]
  },
  {
   "cell_type": "code",
   "execution_count": 328,
   "metadata": {
    "collapsed": false
   },
   "outputs": [
    {
     "data": {
      "text/plain": [
       "{'brown': 1,\n",
       " 'dog': 1,\n",
       " 'fox': 1,\n",
       " 'jumped': 1,\n",
       " 'lazy': 1,\n",
       " 'over': 1,\n",
       " 'quick': 1,\n",
       " 'the': 2}"
      ]
     },
     "execution_count": 328,
     "metadata": {},
     "output_type": "execute_result"
    }
   ],
   "source": [
    "def reformat(s):\n",
    "    new_s = s.lower()\n",
    "    for c in '?.!/;:':\n",
    "        new_s = new_s.replace(c,'')\n",
    "    return new_s\n",
    "\n",
    "def word_dict(doc):\n",
    "    words = doc.split()\n",
    "    words = [reformat(w) for w in words]\n",
    "    word_dict = dict()\n",
    "    for w in words:\n",
    "        if w in word_dict:\n",
    "            word_dict[w] += 1\n",
    "        else:\n",
    "            word_dict[w] = 1\n",
    "    return word_dict\n",
    "\n",
    "def word_mat(docs):\n",
    "    word_dicts = map(word_dict, docs)\n",
    "    big_dict = dict()\n",
    "    \n",
    "\n",
    "word_dict('The quick brown fox jumped over the lazy dog')"
   ]
  },
  {
   "cell_type": "code",
   "execution_count": null,
   "metadata": {
    "collapsed": true
   },
   "outputs": [],
   "source": []
  }
 ],
 "metadata": {
  "kernelspec": {
   "display_name": "Python 2",
   "language": "python",
   "name": "python2"
  },
  "language_info": {
   "codemirror_mode": {
    "name": "ipython",
    "version": 2
   },
   "file_extension": ".py",
   "mimetype": "text/x-python",
   "name": "python",
   "nbconvert_exporter": "python",
   "pygments_lexer": "ipython2",
   "version": "2.7.10"
  }
 },
 "nbformat": 4,
 "nbformat_minor": 0
}
