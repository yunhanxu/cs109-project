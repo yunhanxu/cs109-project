{
 "cells": [
  {
   "cell_type": "code",
   "execution_count": 1,
   "metadata": {
    "collapsed": false
   },
   "outputs": [],
   "source": [
    "%matplotlib inline\n",
    "import numpy as np\n",
    "import sklearn.decomposition\n",
    "import sklearn.feature_extraction\n",
    "import matplotlib as mpl\n",
    "import matplotlib.cm as cm\n",
    "import matplotlib.pyplot as plt\n",
    "import bottleneck as bn\n",
    "import itertools\n",
    "from sklearn.cross_validation import KFold\n",
    "import seaborn as sns\n",
    "sns.set_style(\"whitegrid\")\n",
    "sns.set_context(\"poster\")"
   ]
  },
  {
   "cell_type": "markdown",
   "metadata": {},
   "source": [
    "###Multi-Purpose Functions for Evaluating Models"
   ]
  },
  {
   "cell_type": "code",
   "execution_count": 2,
   "metadata": {
    "collapsed": false
   },
   "outputs": [],
   "source": [
    "# computes % accuracy rate of predictions, given a vector of predicted categories and a vector of actual categories\n",
    "def accuracy(predicted,actual):\n",
    "    # boolean array of Trues for correct predictions and Falses for incorrect predictions\n",
    "    correct = map(lambda (c1,c2) : c1==c2, zip(predicted,actual))\n",
    "    return float(sum(correct)) / len(correct)"
   ]
  },
  {
   "cell_type": "markdown",
   "metadata": {},
   "source": [
    "We refer to a pair of documents as a true positive ($tp$) if the two documents end up in the same cluster correctly, a true negative ($tn$) if the documents end up in different clusters correctly, a false positive ($fp$) if the documents are placed in the same cluster but should have been in different clusters, and a false negative ($fn$) if the documents are placed in different clusters but should have been in the same cluster.\n",
    "\n",
    "The Rand Index (measuring the similarity between the NMF clustering and the SCDB categories) is defined as $\\frac{tp+tn}{tp+tn+fp+fn}$. This is a useful measure of the quality of an unsupervised algorithm like NMF or k-means; accuracy is harder to interpret exactly because unsupervised algorithm does not use the training set categories to generate clusters."
   ]
  },
  {
   "cell_type": "code",
   "execution_count": 3,
   "metadata": {
    "collapsed": true
   },
   "outputs": [],
   "source": [
    "# computes Rand Index, given a vector of predicted categories and a vector of actual categories\n",
    "def rand_index(predicted,actual):\n",
    "    # use itertools to create pairs of documents, using the NMF clusters and SCDB categories\n",
    "    cluster_pairs_pred = itertools.product(predicted,predicted)\n",
    "    cluster_pairs_actual = itertools.product(actual,actual)\n",
    "    # loop through all document pairs to compute tp, tn, fp, and fn\n",
    "    (tp,tn,fp,fn) = 0, 0, 0, 0\n",
    "    for pair1,pair2 in zip(cluster_pairs_pred, cluster_pairs_actual):\n",
    "        if (pair1[0]==pair1[1]):\n",
    "            if (pair2[0]==pair2[1]):\n",
    "                tp += 1\n",
    "            else:\n",
    "                fp += 1\n",
    "        else:\n",
    "            if (pair2[0]==pair2[1]):\n",
    "                fn += 1\n",
    "            else:\n",
    "                tn += 1\n",
    "    \n",
    "    # compute and output Rand Index using formula from above\n",
    "    rand_index_train = float(tp+tn)/(tp+tn+fp+fn)\n",
    "    return rand_index_train"
   ]
  },
  {
   "cell_type": "markdown",
   "metadata": {},
   "source": [
    "###Fitting Model with Training Data"
   ]
  },
  {
   "cell_type": "code",
   "execution_count": 4,
   "metadata": {
    "collapsed": false
   },
   "outputs": [
    {
     "name": "stdout",
     "output_type": "stream",
     "text": [
      "Wall time: 32 s\n"
     ]
    }
   ],
   "source": [
    "%%time\n",
    "# read in training data from csv\n",
    "noun_train_mat = np.loadtxt(\"noun_train_mat.csv\", delimiter = \",\")\n",
    "# use TF-IDF to scale each document's vector to have norm 1 and place a lower weight on very common words\n",
    "tf_idf_fit = sklearn.feature_extraction.text.TfidfTransformer().fit(noun_train_mat)\n",
    "noun_train_mat = tf_idf_fit.transform(noun_train_mat).toarray()"
   ]
  },
  {
   "cell_type": "code",
   "execution_count": 5,
   "metadata": {
    "collapsed": false
   },
   "outputs": [
    {
     "name": "stdout",
     "output_type": "stream",
     "text": [
      "Wall time: 1min 3s\n"
     ]
    },
    {
     "name": "stderr",
     "output_type": "stream",
     "text": [
      "C:\\Users\\Madhu\\Anaconda\\lib\\site-packages\\sklearn\\decomposition\\nmf.py:532: UserWarning: Iteration limit reached during fit. Solving for W exactly.\n",
      "  warnings.warn(\"Iteration limit reached during fit. Solving for W exactly.\")\n"
     ]
    }
   ],
   "source": [
    "%%time\n",
    "# compute NMF fit\n",
    "NMF_fit = sklearn.decomposition.NMF(n_components=14, init='nndsvda').fit(noun_train_mat)\n",
    "H = NMF_fit.components_\n",
    "W = NMF_fit.transform(noun_train_mat)\n",
    "# contains a tuple (i,j) if document i is in cluster j, for each document\n",
    "clusters = map(np.argmax, W)\n",
    "# list of the documents in each cluster\n",
    "cluster_lists = [[i for i,j in enumerate(clusters) if j==cluster] for cluster in range(14)]"
   ]
  },
  {
   "cell_type": "code",
   "execution_count": 6,
   "metadata": {
    "collapsed": false
   },
   "outputs": [
    {
     "name": "stdout",
     "output_type": "stream",
     "text": [
      "Number of documents per category: [121, 83, 72, 35, 118, 61, 93, 25, 38, 78, 76, 72, 52, 163]\n"
     ]
    }
   ],
   "source": [
    "# classify each document into the category that fits it best\n",
    "print 'Number of documents per category:', [sum([x==i for x in clusters]) for i in range(14)]"
   ]
  },
  {
   "cell_type": "markdown",
   "metadata": {},
   "source": [
    "###Key Words for Each Cluster"
   ]
  },
  {
   "cell_type": "code",
   "execution_count": 7,
   "metadata": {
    "collapsed": false
   },
   "outputs": [],
   "source": [
    "# load vocab from csv\n",
    "noun_vocab = np.loadtxt(\"noun_vocab.csv\", delimiter=\",\", dtype=\"str\")\n",
    "noun_vocab = [(int(i),j) for i,j in noun_vocab]\n",
    "id2noun = dict(noun_vocab)"
   ]
  },
  {
   "cell_type": "code",
   "execution_count": 8,
   "metadata": {
    "collapsed": false
   },
   "outputs": [
    {
     "data": {
      "text/plain": [
       "[['claim', 'appeal', 'district', 'court', 'jurisdiction'],\n",
       " ['labor', 'union', 'employee', 'board', 'employer'],\n",
       " ['tax', 'property', 'income', 'revenue', 'state'],\n",
       " ['student', 'board', 'school', 'plan', 'education'],\n",
       " ['plan', 'benefit', 'security', 'act', 'employee'],\n",
       " ['land', 'water', 'act', 'tribe', 'reservation'],\n",
       " ['trial', 'court', 'counsel', 'petitioner', 'state'],\n",
       " ['decree', 'master', 'orig ', 'u s ', 'entry'],\n",
       " ['alien', 'immigration', 'attorney', 'deportation', 'general'],\n",
       " ['gas', 'commission', 'commerce', 'carrier', 'price'],\n",
       " ['jury', 'trial', 'evidence', 'verdict', 'petitioner'],\n",
       " ['conviction', 'sentence', 'punishment', 'offense', 'crime'],\n",
       " ['search', 'warrant', 'officer', 'police', 'respondent'],\n",
       " ['state', 'opinion', 'amendment', 'law', 'post']]"
      ]
     },
     "execution_count": 8,
     "metadata": {},
     "output_type": "execute_result"
    }
   ],
   "source": [
    "# find and output the 5 most important words for each category\n",
    "num_best = 5\n",
    "best_indices = map(lambda v : list(bn.argpartsort(-v,num_best)[0:num_best]), H)\n",
    "best_words = [[id2noun[i] for i in lst] for lst in best_indices]\n",
    "best_words"
   ]
  },
  {
   "cell_type": "code",
   "execution_count": 9,
   "metadata": {
    "collapsed": false
   },
   "outputs": [
    {
     "name": "stdout",
     "output_type": "stream",
     "text": [
      "['narcotic', 'fdca', 'middleman', 'narcotic', 'city the', 'middleman', 'city the', 'middleman', 'fdca', 'narcotic', 'city the', 'fdca', 'city the', 'city the']\n"
     ]
    }
   ],
   "source": [
    "# can probably ignore this stuff -- it's a different way to figure out the best words in each category, but it's not working\n",
    "# and produces nonsense\n",
    "width = len(M[0])\n",
    "best_words = np.zeros(14)\n",
    "for i in range(14):\n",
    "    # arbitrary high initial value\n",
    "    w = np.ones(width) * 5000\n",
    "    #w_val = np.ones(width)\n",
    "    for j in range(width):\n",
    "        for k in range(14):\n",
    "            if i <> k and H[k][j] > 0:\n",
    "                if w[j] >= float(H[i][j])/H[k][j]:\n",
    "                    w[j] = float(H[i][j])/H[k][j]\n",
    "    best_words[i] = np.argmax(w)\n",
    "print map(lambda x : id2noun[int(x)], best_words)"
   ]
  },
  {
   "cell_type": "markdown",
   "metadata": {},
   "source": [
    "###Comparing with Supreme Court Database's Topic Areas"
   ]
  },
  {
   "cell_type": "code",
   "execution_count": 10,
   "metadata": {
    "collapsed": false
   },
   "outputs": [
    {
     "name": "stdout",
     "output_type": "stream",
     "text": [
      "Number of documents per category: [238, 186, 84, 43, 10, 9, 56, 234, 126, 57, 10, 30, 4, 0]\n"
     ]
    }
   ],
   "source": [
    "# read in SC Database's issue areas from csv\n",
    "train_issue_areas = np.loadtxt(\"train_issue_areas.csv\", delimiter = \",\", dtype=\"int\")\n",
    "# zero-index the array\n",
    "train_issue_areas = train_issue_areas - 1\n",
    "print 'Number of documents per category:', [sum([x==i for x in train_issue_areas]) for i in range(14)]\n",
    "\n",
    "# convert the nx1 issue areas vector into a nx14 matrix of dummies, in case that's ever useful\n",
    "train_issue_areas_dummy = np.array(map(lambda area : np.eye(1,14,area)[0], train_issue_areas))"
   ]
  },
  {
   "cell_type": "markdown",
   "metadata": {},
   "source": [
    "####Assignment method 1: use the cluster assignments computed above to find the best SCDB category match"
   ]
  },
  {
   "cell_type": "code",
   "execution_count": 14,
   "metadata": {
    "collapsed": false
   },
   "outputs": [
    {
     "name": "stdout",
     "output_type": "stream",
     "text": [
      "[8, 6, 7, 1, 7, 7, 0, 10, 1, 7, 0, 0, 0, 2]\n",
      "[12, 8, 3, 5, 12, 0, 1, 9, 0, 7, 7, 2, 5, 0]\n"
     ]
    }
   ],
   "source": [
    "# create a 14x14 matrix (where each row is an NMF cluster and each column is an SCDB cluster) measuring the degree of\n",
    "# related-ness between each cluster pair\n",
    "compare_mat = map(lambda r : map(int, r), np.zeros((14,14)))\n",
    "# first, assign the (i,j) element in the matrix to the number of cases in NMF cluster i and SCDB cluster j, for each (i,j)\n",
    "for i,j in zip(clusters, train_issue_areas):\n",
    "    compare_mat[i][j] += 1\n",
    "# normalize each row to have a sum of 1\n",
    "compare_mat = map(lambda row : map(float,row) / sum(row), np.array(compare_mat))\n",
    "\n",
    "# assign each NMF cluster to a (not necessarily unique) SCDB cluster by picking the highest element of each row of compare_mat\n",
    "assignments = map(np.argmax, compare_mat)\n",
    "print assignments\n",
    "# this would be the equivalent way of assigning each SCDB cluster to an NMF cluster; this is printed here but not used anywhere\n",
    "print map(np.argmax, np.array(compare_mat).T)"
   ]
  },
  {
   "cell_type": "markdown",
   "metadata": {},
   "source": [
    "####Assignment method 2: use the rows of the W matrix (from NMF) to find the best SCDB category match for each cluster"
   ]
  },
  {
   "cell_type": "code",
   "execution_count": 12,
   "metadata": {
    "collapsed": false
   },
   "outputs": [
    {
     "name": "stdout",
     "output_type": "stream",
     "text": [
      "[8, 6, 7, 1, 7, 7, 0, 9, 1, 7, 0, 0, 0, 1]\n"
     ]
    }
   ],
   "source": [
    "# Difference compared to above: Instead of just thinking of each case as getting assigned to a single cluster (as we did above),\n",
    "# we can think of each case as having a coefficient for each cluster (from the W matrix), and increment entries of compare_mat\n",
    "# using those coefficients instead of just incrementing by 1.\n",
    "\n",
    "# create a 14x14 matrix (where each row is an SCDB cluster and each column is an NMF cluster) measuring the degree of\n",
    "# related-ness between each cluster pair\n",
    "compare_mat = np.zeros((14,14))\n",
    "for i,j in zip(W, train_issue_areas):\n",
    "    # increment the jth row of compare_mat by the entire row of W corresponding to the current case\n",
    "    compare_mat[j] = compare_mat[j] + i\n",
    "# transpose that matrix (so that it's in the same format as the matrix in assignment method 1 above)\n",
    "compare_mat = compare_mat.T\n",
    "\n",
    "# assign each NMF cluster to a (not necessarily unique) SCDB cluster by picking the highest element of each row of compare_mat\n",
    "assignments = map(np.argmax, compare_mat)\n",
    "print assignments"
   ]
  },
  {
   "cell_type": "markdown",
   "metadata": {},
   "source": [
    "####Assignment method 3: use Hungarian algorithm (which computes assignments that minimize cost) to assign each NMF cluster to an SCDB cluster (without any collisions)"
   ]
  },
  {
   "cell_type": "code",
   "execution_count": 13,
   "metadata": {
    "collapsed": false
   },
   "outputs": [
    {
     "name": "stdout",
     "output_type": "stream",
     "text": [
      "{0: 8, 1: 6, 2: 11, 3: 12, 4: 3, 5: 9, 6: 0, 7: 10, 8: 1, 9: 7, 10: 5, 11: 13, 12: 4, 13: 2}\n"
     ]
    }
   ],
   "source": [
    "### NOTE: probably don't run this -- it generates assignments that have very low accuracy\n",
    "import munkres\n",
    "m = munkres.Munkres()\n",
    "assignments = dict(m.compute(-np.array(compare_mat)))\n",
    "print assignments"
   ]
  },
  {
   "cell_type": "markdown",
   "metadata": {},
   "source": [
    "####Assign an SCDB category to each case, using an assignment array created above "
   ]
  },
  {
   "cell_type": "code",
   "execution_count": 15,
   "metadata": {
    "collapsed": false
   },
   "outputs": [
    {
     "name": "stdout",
     "output_type": "stream",
     "text": [
      "Accuracy: 0.500459981601\n"
     ]
    }
   ],
   "source": [
    "# use the assignments above to convert the clusters into equivalent SCDB categories for each document\n",
    "new_clusters = map(lambda cluster : assignments[cluster], clusters)\n",
    "# compute and output accuracy rate\n",
    "correct = map(lambda (c1,c2) : c1==c2, zip(new_clusters, train_issue_areas))\n",
    "print 'Accuracy:', float(sum(correct)) / len(correct)"
   ]
  },
  {
   "cell_type": "code",
   "execution_count": 18,
   "metadata": {
    "collapsed": false
   },
   "outputs": [
    {
     "data": {
      "text/plain": [
       "<matplotlib.axes._subplots.AxesSubplot at 0x2b8fc780>"
      ]
     },
     "execution_count": 18,
     "metadata": {},
     "output_type": "execute_result"
    },
    {
     "data": {
      "image/png": "[encoded data removed]",
      "text/plain": [
       "<matplotlib.figure.Figure at 0x256bc518>"
      ]
     },
     "metadata": {},
     "output_type": "display_data"
    }
   ],
   "source": [
    "compare_mat_new = np.zeros((14,14))\n",
    "for i,j in zip(new_clusters, train_issue_areas):\n",
    "    compare_mat_new[i][j] += 1\n",
    "# normalize each row to have a sum of 1\n",
    "#compare_mat_new = compare_mat_new.T\n",
    "compare_mat_new = map(lambda row : map(float,row) / sum(row) if sum(row) > 0 else map(float,row), np.array(compare_mat_new))\n",
    "#compare_mat_new = np.array(compare_mat_new).T\n",
    "\n",
    "sns.heatmap(compare_mat_new)"
   ]
  },
  {
   "cell_type": "markdown",
   "metadata": {},
   "source": [
    "###Use Rand Index to Compute Accuracy on Training Data"
   ]
  },
  {
   "cell_type": "markdown",
   "metadata": {},
   "source": [
    "We refer to a pair of documents as a true positive ($tp$) if the two documents end up in the same cluster correctly, a true negative ($tn$) if the documents end up in different clusters correctly, a false positive ($fp$) if the documents are placed in the same cluster but should have been in different clusters, and a false negative ($fn$) if the documents are placed in different clusters but should have been in the same cluster.\n",
    "\n",
    "The Rand Index (measuring the similarity between the NMF clustering and the SCDB categories) is defined as $\\frac{tp+tn}{tp+tn+fp+fn}$."
   ]
  },
  {
   "cell_type": "code",
   "execution_count": 185,
   "metadata": {
    "collapsed": false
   },
   "outputs": [
    {
     "name": "stdout",
     "output_type": "stream",
     "text": [
      "90524 841120 204358 96098\n",
      "0.756143170197\n",
      "Wall time: 1.35 s\n"
     ]
    }
   ],
   "source": [
    "%%time\n",
    "if 'cluster_pairs_model' in globals():\n",
    "    del cluster_pairs_model\n",
    "if 'cluster_pairs_actual' in globals():\n",
    "    del cluster_pairs_actual\n",
    "\n",
    "# use itertools to create pairs of documents, using the NMF clusters and SCDB categories\n",
    "cluster_pairs_model = itertools.product(new_clusters, new_clusters)\n",
    "cluster_pairs_actual = itertools.product(train_issue_areas, train_issue_areas)\n",
    "# loop through all document pairs to compute tp, tn, fp, and fn\n",
    "(tp,tn,fp,fn) = 0, 0, 0, 0\n",
    "for pair1,pair2 in zip(cluster_pairs_model, cluster_pairs_actual):\n",
    "    if (pair1[0]==pair1[1]):\n",
    "        if (pair2[0]==pair2[1]):\n",
    "            tp += 1\n",
    "        else:\n",
    "            fp += 1\n",
    "    else:\n",
    "        if (pair2[0]==pair2[1]):\n",
    "            fn += 1\n",
    "        else:\n",
    "            tn += 1\n",
    "\n",
    "# output tp, tn, fp, and fn\n",
    "print tp,tn,fp,fn\n",
    "# compute and output Rand Index using formula from above\n",
    "rand_index_train = float(tp+tn)/(tp+tn+fp+fn)\n",
    "print rand_index_train"
   ]
  },
  {
   "cell_type": "markdown",
   "metadata": {},
   "source": [
    "###Compute Optimal Number of Clusters on Training Data (based on SCDB)\n",
    "Note: In reality, we should do this using one or more validation sets; I've just done this for the time being."
   ]
  },
  {
   "cell_type": "code",
   "execution_count": 83,
   "metadata": {
    "collapsed": false
   },
   "outputs": [
    {
     "name": "stdout",
     "output_type": "stream",
     "text": [
      "Wall time: 21min 16s\n"
     ]
    }
   ],
   "source": [
    "%%time\n",
    "num_clusters_lst = [5, 10, 14, 15, 20, 25, 30]\n",
    "\n",
    "results = dict()\n",
    "for num_clusters in num_clusters_lst:\n",
    "    NMF_fit = sklearn.decomposition.NMF(n_components=num_clusters, init='nndsvda').fit(noun_train_mat)\n",
    "    H = NMF_fit.components_\n",
    "    W = NMF_fit.transform(noun_train_mat)\n",
    "    # contains a tuple (i,j) if document i is in cluster j, for each document\n",
    "    clusters = map(np.argmax, W)\n",
    "    # list of the documents in each cluster\n",
    "    cluster_lists = [[i for i,j in enumerate(clusters) if j==cluster] for cluster in range(num_clusters)]\n",
    "    \n",
    "    # find the 10 most important words for each category\n",
    "    num_best = 10\n",
    "    best_indices = map(lambda v : list(bn.argpartsort(-v,num_best)[0:num_best]), H)\n",
    "    best_words = [[id2noun[i] for i in lst] for lst in best_indices]\n",
    "    \n",
    "    # create a k x 14 matrix (where each row is an NMF cluster and each column is an SCDB cluster) measuring the degree of\n",
    "    # related-ness between each cluster pair\n",
    "    compare_mat = map(lambda r : map(int, r), np.zeros((num_clusters,14)))\n",
    "    # first, assign the (i,j) element in the matrix to the number of cases in NMF cluster i and SCDB cluster j, for each (i,j)\n",
    "    for i,j in zip(clusters, train_issue_areas):\n",
    "        compare_mat[i][j] += 1\n",
    "    # normalize each row to have a sum of 1\n",
    "    compare_mat = map(lambda row : map(float,row) / sum(row), np.array(compare_mat))\n",
    "    # assign each NMF cluster to a (not necessarily unique) SCDB cluster by picking the highest element of each row of compare_mat\n",
    "    assignments = map(np.argmax, compare_mat)\n",
    "    # use the assignments above to convert the clusters into equivalent SCDB categories for each document\n",
    "    new_clusters = map(lambda cluster : assignments[cluster], clusters)\n",
    "    # compute and output accuracy rate\n",
    "    correct = map(lambda (c1,c2) : c1==c2, zip(new_clusters, train_issue_areas))\n",
    "    accuracy = float(sum(correct)) / len(correct)\n",
    "\n",
    "    if 'cluster_pairs_model' in globals():\n",
    "        del cluster_pairs_model\n",
    "    if 'cluster_pairs_actual' in globals():\n",
    "        del cluster_pairs_actual\n",
    "    # use itertools to create pairs of documents, using the NMF clusters and SCDB categories\n",
    "    cluster_pairs_model = itertools.product(clusters, clusters)\n",
    "    cluster_pairs_actual = itertools.product(train_issue_areas, train_issue_areas)\n",
    "    # loop through all document pairs to compute tp, tn, fp, and fn\n",
    "    (tp,tn,fp,fn) = 0, 0, 0, 0\n",
    "    for pair1,pair2 in zip(cluster_pairs_model, cluster_pairs_actual):\n",
    "        if (pair1[0]==pair1[1]):\n",
    "            if (pair2[0]==pair2[1]):\n",
    "                tp += 1\n",
    "            else:\n",
    "                fp += 1\n",
    "        else:\n",
    "            if (pair2[0]==pair2[1]):\n",
    "                fn += 1\n",
    "            else:\n",
    "                tn += 1\n",
    "    # compute Rand Index using formula from above\n",
    "    rand_index = float(tp+tn)/(tp+tn+fp+fn)\n",
    "    \n",
    "    results[num_clusters] = (NMF_fit, clusters, cluster_lists, best_words, new_clusters, accuracy, (tp,tn,fp,fn), rand_index)\n"
   ]
  },
  {
   "cell_type": "code",
   "execution_count": 89,
   "metadata": {
    "collapsed": false
   },
   "outputs": [
    {
     "data": {
      "text/plain": [
       "[0.4315315315315315,\n",
       " 0.4828828828828829,\n",
       " 0.49099099099099097,\n",
       " 0.5198198198198198,\n",
       " 0.5423423423423424,\n",
       " 0.5423423423423424,\n",
       " 0.5387387387387388]"
      ]
     },
     "execution_count": 89,
     "metadata": {},
     "output_type": "execute_result"
    }
   ],
   "source": [
    "[results[num_clusters][5] for num_clusters in num_cluster_lst]"
   ]
  },
  {
   "cell_type": "markdown",
   "metadata": {},
   "source": [
    "##Precedents"
   ]
  },
  {
   "cell_type": "code",
   "execution_count": 22,
   "metadata": {
    "collapsed": false
   },
   "outputs": [
    {
     "name": "stdout",
     "output_type": "stream",
     "text": [
      "Wall time: 6.96 s\n"
     ]
    }
   ],
   "source": [
    "%%time\n",
    "# read in training data from csv\n",
    "prec_train_mat = np.loadtxt(\"prec_train_mat.csv\", delimiter = \",\")\n",
    "# use TF-IDF to scale each document's vector to have norm 1 and place a lower weight on very common words\n",
    "tf_idf_fit = sklearn.feature_extraction.text.TfidfTransformer().fit(prec_train_mat)\n",
    "prec_train_mat = tf_idf_fit.transform(prec_train_mat).toarray()"
   ]
  },
  {
   "cell_type": "code",
   "execution_count": 23,
   "metadata": {
    "collapsed": false
   },
   "outputs": [
    {
     "name": "stdout",
     "output_type": "stream",
     "text": [
      "Wall time: 3.76 s\n"
     ]
    }
   ],
   "source": [
    "%%time\n",
    "# compute NMF fit\n",
    "NMF_fit = sklearn.decomposition.NMF(n_components=14, init='nndsvda').fit(prec_train_mat)\n",
    "H = NMF_fit.components_\n",
    "W = NMF_fit.transform(prec_train_mat)\n",
    "# contains a tuple (i,j) if document i is in cluster j, for each document\n",
    "clusters = map(np.argmax, W)\n",
    "# list of the documents in each cluster\n",
    "cluster_lists = [[i for i,j in enumerate(clusters) if j==cluster] for cluster in range(14)]"
   ]
  },
  {
   "cell_type": "code",
   "execution_count": 24,
   "metadata": {
    "collapsed": false
   },
   "outputs": [
    {
     "name": "stdout",
     "output_type": "stream",
     "text": [
      "Number of documents per category: [201, 89, 6, 5, 8, 24, 17, 18, 115, 73, 114, 118, 126, 172]\n"
     ]
    }
   ],
   "source": [
    "# classify each document into the category that fits it best\n",
    "print 'Number of documents per category:', [sum([x==i for x in clusters]) for i in range(14)]"
   ]
  },
  {
   "cell_type": "code",
   "execution_count": 25,
   "metadata": {
    "collapsed": false,
    "scrolled": false
   },
   "outputs": [],
   "source": [
    "# load vocab from csv\n",
    "prec_vocab = np.genfromtxt(\"prec_vocab.csv\", delimiter=\",\", dtype=\"str\")\n",
    "#prec_vocab = dict(list(enumerate(prec_vocab)))\n",
    "prec_vocab = [(int(i),j) for i,j in prec_vocab]\n",
    "id2prec = dict(prec_vocab)"
   ]
  },
  {
   "cell_type": "code",
   "execution_count": 26,
   "metadata": {
    "collapsed": false
   },
   "outputs": [
    {
     "data": {
      "text/plain": [
       "[['co. v. national',\n",
       "  'states v. interstate',\n",
       "  'co. v. united',\n",
       "  'states v. el',\n",
       "  'corp. v. el'],\n",
       " ['states v. detroit',\n",
       "  'whitfield v. united',\n",
       "  'statessyllabuskloeckner v. solis;',\n",
       "  'association v. harris;',\n",
       "  'commission v. abercrombie'],\n",
       " ['in v. united',\n",
       "  'limitations.mcmahon v. united',\n",
       "  'corporation v. united',\n",
       "  'affirmed.pinkerton v. united',\n",
       "  'co. v. united'],\n",
       " ['states v. california;',\n",
       "  'trop v. dulles',\n",
       "  'states v. louisiana',\n",
       "  'lessee v. hagan;',\n",
       "  'coleman v. jiffy'],\n",
       " ['younger v. harris;',\n",
       "  'pennzoil v. texaco;',\n",
       "  'samuels v. mackell;',\n",
       "  'steffel v. thompson;',\n",
       "  'byrne v. karalexis'],\n",
       " ['brown v. board',\n",
       "  'green v. county',\n",
       "  'bolling v. sharpe',\n",
       "  'grutter v. bollinger;',\n",
       "  'in v. fcc;'],\n",
       " ['al. v. united',\n",
       "  'states v. mitchell;',\n",
       "  'bragdon v. abbott;',\n",
       "  'states v. grinnell',\n",
       "  'engel v. davenport;'],\n",
       " ['carroll v. united',\n",
       "  'florida v. whitecertiorari',\n",
       "  'corp. v. united',\n",
       "  'statute.fogarty v. united',\n",
       "  'corp. v. cbs;'],\n",
       " ['bivens v. six',\n",
       "  'monell v. new',\n",
       "  'afl-cio v. national',\n",
       "  'pembaur v. city',\n",
       "  'city v. tuttle'],\n",
       " ['corp. v. wages;',\n",
       "  'co. v. state',\n",
       "  'in v. brady;',\n",
       "  'ltd. v. county',\n",
       "  'co. v. bair;'],\n",
       " ['in v. commissioner',\n",
       "  'commissioner v. moore;',\n",
       "  '.commissioner v. glenshaw',\n",
       "  'in v. city',\n",
       "  'freedman v. maryland;'],\n",
       " ['strickland v. washington;',\n",
       "  'anders v. california;',\n",
       "  'williams v. taylor;',\n",
       "  'wiggins v. smith;',\n",
       "  'stone v. powell;'],\n",
       " ['security v. thomas',\n",
       "  'schools v. federal',\n",
       "  'bank v. united',\n",
       "  'in v. natural',\n",
       "  'al. v. brown'],\n",
       " ['apprendi v. new',\n",
       "  'taylor v. united',\n",
       "  'johnson v. united',\n",
       "  'james v. united',\n",
       "  'harris v. united']]"
      ]
     },
     "execution_count": 26,
     "metadata": {},
     "output_type": "execute_result"
    }
   ],
   "source": [
    "# find and output the 5 most important words for each category\n",
    "num_best = 5\n",
    "best_indices = map(lambda v : list(bn.argpartsort(-v,num_best)[0:num_best]), H)\n",
    "best_words = [[id2prec[i] for i in lst] for lst in best_indices]\n",
    "best_words"
   ]
  },
  {
   "cell_type": "code",
   "execution_count": 28,
   "metadata": {
    "collapsed": false
   },
   "outputs": [
    {
     "name": "stdout",
     "output_type": "stream",
     "text": [
      "[7, 0, 7, 9, 8, 2, 1, 0, 7, 7, 0, 0, 7, 0]\n",
      "[1, 6, 5, 6, 6, 13, 12, 2, 4, 3, 10, 2, 6, 0]\n"
     ]
    }
   ],
   "source": [
    "# create a 14x14 matrix (where each row is an NMF cluster and each column is an SCDB cluster) measuring the degree of\n",
    "# related-ness between each cluster pair\n",
    "compare_mat = map(lambda r : map(int, r), np.zeros((14,14)))\n",
    "# first, assign the (i,j) element in the matrix to the number of cases in NMF cluster i and SCDB cluster j, for each (i,j)\n",
    "for i,j in zip(clusters, train_issue_areas):\n",
    "    compare_mat[i][j] += 1\n",
    "# normalize each row to have a sum of 1\n",
    "compare_mat = map(lambda row : map(float,row) / sum(row), np.array(compare_mat))\n",
    "\n",
    "### commented out because I realized this method of assignment does the same thing as the one-line assignment below\n",
    "#assignments = -1 * np.ones(14)\n",
    "#compare_mat_flat = [x for lst in compare_mat for x in lst]\n",
    "#while min(assignments) == -1:\n",
    "#    max_ind = np.argmax(compare_mat_flat)\n",
    "#    row = max_ind / 14\n",
    "#    if assignments[row] == -1:\n",
    "#        column = max_ind - 14 * row\n",
    "#        assignments[row] = column\n",
    "#    else:\n",
    "#        compare_mat_flat[max_ind] = -1\n",
    "#assignments = map(int, assignments)\n",
    "#print assignments\n",
    "\n",
    "# assign each NMF cluster to a (not necessarily unique) SCDB cluster by picking the highest element of each row of compare_mat\n",
    "assignments = map(np.argmax, compare_mat)\n",
    "print assignments\n",
    "# this would be the equivalent way of assigning each SCDB cluster to an NMF cluster; this is printed here but not used anywhere\n",
    "print map(np.argmax, np.array(compare_mat).T)"
   ]
  },
  {
   "cell_type": "code",
   "execution_count": 29,
   "metadata": {
    "collapsed": false
   },
   "outputs": [
    {
     "name": "stdout",
     "output_type": "stream",
     "text": [
      "0.271639042357\n"
     ]
    }
   ],
   "source": [
    "# use the assignments above to convert the clusters into equivalent SCDB categories for each document\n",
    "new_clusters = map(lambda cluster : assignments[cluster], clusters)\n",
    "# compute and output accuracy rate\n",
    "correct = map(lambda (c1,c2) : c1==c2, zip(new_clusters, train_issue_areas))\n",
    "print float(sum(correct)) / len(correct)"
   ]
  },
  {
   "cell_type": "markdown",
   "metadata": {},
   "source": [
    "###Cross-Validation"
   ]
  },
  {
   "cell_type": "code",
   "execution_count": 30,
   "metadata": {
    "collapsed": true
   },
   "outputs": [],
   "source": [
    "def cv_results_unsupervised(predict, x, y, score_func, nfolds=5):\n",
    "    results = []\n",
    "    for train, test in KFold(len(y), nfolds):\n",
    "        pred = predict(x[train],y[train],x[test])#clf.fit(x[train]).transform(x[test])\n",
    "        results += [score_func(pred, y[test])] # evaluate score function on held-out data\n",
    "    return results"
   ]
  },
  {
   "cell_type": "code",
   "execution_count": 43,
   "metadata": {
    "collapsed": true
   },
   "outputs": [],
   "source": [
    "# Fits an NMF model with n_components clusters on the data in x_train and y_train, and use that to predict clusters for x_test.\n",
    "# (Since NMF is unsupervised, the data in y_train is only used to create a mapping from NMF clusters to SCDB clusters, not to\n",
    "# actually fit the model.)\n",
    "def fit_transform(x_train, y_train, x_test, n_components):\n",
    "    # compute an NMF fit on x_train, and produce\n",
    "    fit = sklearn.decomposition.NMF(n_components=n_components, init='nndsvda').fit(x_train)\n",
    "    W_train = fit.transform(x_train)\n",
    "    clusters_train = map(np.argmax, W_train)\n",
    "    \n",
    "    # create a 14x14 matrix (where each row is an NMF cluster and each column is an SCDB cluster) measuring the degree of\n",
    "    # related-ness between each cluster pair\n",
    "    compare_mat = map(lambda r : map(int, r), np.zeros((n_components,14)))\n",
    "    # first, assign the (i,j) element in the matrix to the number of cases in NMF cluster i and SCDB cluster j, for each (i,j)\n",
    "    for i,j in zip(clusters_train, y_train):\n",
    "        compare_mat[i][j] += 1\n",
    "    assignments = map(np.argmax, compare_mat)\n",
    "    \n",
    "    W_test = fit.transform(x_test)\n",
    "    clusters_test = map(np.argmax, W_test)\n",
    "    # use the assignments above to convert the clusters into equivalent SCDB categories for each document\n",
    "    new_clusters = map(lambda cluster : assignments[cluster], clusters_test)\n",
    "    return new_clusters"
   ]
  },
  {
   "cell_type": "code",
   "execution_count": 44,
   "metadata": {
    "collapsed": false
   },
   "outputs": [
    {
     "name": "stdout",
     "output_type": "stream",
     "text": [
      "Testing with 5 clusters\n",
      "Testing with 10 clusters\n",
      "Testing with 15 clusters\n",
      "Testing with 20 clusters\n",
      "Testing with 25 clusters\n",
      "Testing with 30 clusters\n"
     ]
    }
   ],
   "source": [
    "%%time\n",
    "num_clusters_lst = [5, 10, 15, 20, 25, 30]\n",
    "\n",
    "results = dict()\n",
    "for k in num_clusters_lst:\n",
    "    print 'Testing with %d clusters' % k\n",
    "    results[k] = cv_results_unsupervised(lambda x,y,z : fit_transform(x,y,z,k), noun_train_mat, train_issue_areas,\n",
    "                                         lambda pred,act : (accuracy(pred,act), rand_index(pred,act)), nfolds=5)"
   ]
  },
  {
   "cell_type": "code",
   "execution_count": 130,
   "metadata": {
    "collapsed": false
   },
   "outputs": [
    {
     "name": "stdout",
     "output_type": "stream",
     "text": [
      "{5: 0.42612612612612616, 10: 0.463963963963964, 15: 0.49279279279279276, 20: 0.51891891891891895, 25: 0.51081081081081092, 30: 0.5}\n",
      "{5: 0.68445743040337637, 10: 0.7381624868111355, 15: 0.7727944160376593, 20: 0.78395422449476515, 25: 0.78098368638909177, 30: 0.77091145199253297}\n"
     ]
    }
   ],
   "source": [
    "results_accuracies = dict()\n",
    "results_rand_ind = dict()\n",
    "for k in results.keys():\n",
    "    accuracy_k, rand_index_k = zip(*results[k])\n",
    "    results_accuracies[k] = np.mean(accuracy_k)\n",
    "    results_rand_ind[k] = np.mean(rand_index_k)\n",
    "print results_accuracies\n",
    "print results_rand_ind"
   ]
  },
  {
   "cell_type": "markdown",
   "metadata": {},
   "source": [
    "##Choose Best Model and Run on Test Data"
   ]
  },
  {
   "cell_type": "markdown",
   "metadata": {},
   "source": [
    "###Choose Optimal Number of Clusters and Categorize Test Data"
   ]
  },
  {
   "cell_type": "markdown",
   "metadata": {},
   "source": [
    "####Option 1: Choose optimal n_clusters using average accuracy rate"
   ]
  },
  {
   "cell_type": "code",
   "execution_count": 127,
   "metadata": {
    "collapsed": false
   },
   "outputs": [
    {
     "data": {
      "text/plain": [
       "20"
      ]
     },
     "execution_count": 127,
     "metadata": {},
     "output_type": "execute_result"
    }
   ],
   "source": [
    "n_clusters = results_accuracies.keys()[np.argmax(results_accuracies.values())]\n",
    "n_clusters"
   ]
  },
  {
   "cell_type": "markdown",
   "metadata": {},
   "source": [
    "####Option 2: Choose optimal n_clusters using average Rand Index"
   ]
  },
  {
   "cell_type": "code",
   "execution_count": 128,
   "metadata": {
    "collapsed": false
   },
   "outputs": [
    {
     "data": {
      "text/plain": [
       "20"
      ]
     },
     "execution_count": 128,
     "metadata": {},
     "output_type": "execute_result"
    }
   ],
   "source": [
    "n_clusters = results_rand_ind.keys()[np.argmax(results_rand_ind.values())]\n",
    "n_clusters"
   ]
  },
  {
   "cell_type": "markdown",
   "metadata": {},
   "source": [
    "###Fit Model with Optimal Parameter and Apply to Test Data"
   ]
  },
  {
   "cell_type": "code",
   "execution_count": 123,
   "metadata": {
    "collapsed": false
   },
   "outputs": [
    {
     "name": "stdout",
     "output_type": "stream",
     "text": [
      "Wall time: 19.6 s\n"
     ]
    }
   ],
   "source": [
    "%%time\n",
    "# read in test data from csv\n",
    "noun_test_mat = np.loadtxt(\"noun_test_mat.csv\", delimiter = \",\")\n",
    "# use TF-IDF fit from training data to scale each document's vector to have norm 1 and place a lower weight on very common words\n",
    "noun_test_mat = tf_idf_fit.transform(noun_test_mat).toarray()"
   ]
  },
  {
   "cell_type": "code",
   "execution_count": 142,
   "metadata": {
    "collapsed": false
   },
   "outputs": [
    {
     "name": "stdout",
     "output_type": "stream",
     "text": [
      "Wall time: 35.6 s\n"
     ]
    }
   ],
   "source": [
    "%%time\n",
    "clusters_test = fit_transform(noun_train_mat, train_issue_areas, noun_test_mat, n_clusters)\n",
    "cluster_lists_test = [[i for i,j in enumerate(clusters_test) if j==cluster] for cluster in range(14)]"
   ]
  },
  {
   "cell_type": "markdown",
   "metadata": {},
   "source": [
    "###Evaluate Test Data Results Using SC Database Categories"
   ]
  },
  {
   "cell_type": "code",
   "execution_count": 143,
   "metadata": {
    "collapsed": false
   },
   "outputs": [
    {
     "name": "stdout",
     "output_type": "stream",
     "text": [
      "Number of documents per category: [104, 95, 26, 22, 3, 7, 18, 96, 63, 25, 5, 17, 4, 0]\n"
     ]
    }
   ],
   "source": [
    "# read in SC Database's issue areas from csv\n",
    "test_issue_areas = np.loadtxt(\"test_issue_areas.csv\", delimiter = \",\", dtype=\"int\")\n",
    "# zero-index the array\n",
    "test_issue_areas = test_issue_areas - 1\n",
    "print 'Number of documents per category:', [sum([x==i for x in test_issue_areas]) for i in range(14)]"
   ]
  },
  {
   "cell_type": "code",
   "execution_count": 144,
   "metadata": {
    "collapsed": false
   },
   "outputs": [
    {
     "name": "stdout",
     "output_type": "stream",
     "text": [
      "Accuracy: 0.496907216495\n",
      "Rand Index: 0.780278456797\n"
     ]
    }
   ],
   "source": [
    "print 'Accuracy:', accuracy(clusters_test, test_issue_areas)\n",
    "print 'Rand Index:', rand_index(clusters_test, test_issue_areas)"
   ]
  },
  {
   "cell_type": "code",
   "execution_count": 148,
   "metadata": {
    "collapsed": false
   },
   "outputs": [
    {
     "data": {
      "text/plain": [
       "<matplotlib.axes._subplots.AxesSubplot at 0x2cc1b668>"
      ]
     },
     "execution_count": 148,
     "metadata": {},
     "output_type": "execute_result"
    },
    {
     "data": {
      "image/png": "[encoded data removed]",
      "text/plain": [
       "<matplotlib.figure.Figure at 0x2cc1b470>"
      ]
     },
     "metadata": {},
     "output_type": "display_data"
    }
   ],
   "source": [
    "compare_mat_test = np.zeros((14,14))\n",
    "for i,j in zip(clusters_test, test_issue_areas):\n",
    "    compare_mat_test[i][j] = compare_mat_test[i][j] + 1\n",
    "sns.heatmap(compare_mat_test)"
   ]
  },
  {
   "cell_type": "code",
   "execution_count": 6,
   "metadata": {
    "collapsed": true
   },
   "outputs": [],
   "source": [
    "# this all-in-one function takes 3 inputs: (1) a list of csv's to retrieve a matrix of \n",
    "def evaluate(x_files, y_data, n_clusters):\n",
    "    # read in text data\n",
    "    x_data = map(lambda x_file : np.loadtxt(x_file, delimiter=','), x_files)\n",
    "    x_data = reduce(lambda x1,x2 : np.concatenate((x1,x2),1), x_data)\n",
    "    # read in issue areas\n",
    "    #y_data = np.loadtxt(y_file, delimiter = ',', dtype='int')\n",
    "    # zero-index the array\n",
    "    #y_data = y_data - 1\n",
    "    \n",
    "    # use TF-IDF to scale each document's vector to have norm 1 and place a lower weight on very common words\n",
    "    tf_idf_fit = sklearn.feature_extraction.text.TfidfTransformer().fit(x_data)\n",
    "    x_data = tf_idf_fit.transform(x_data).toarray()\n",
    "    \n",
    "    # compute NMF fit\n",
    "    NMF_fit = sklearn.decomposition.NMF(n_components=n_clusters, init='nndsvda').fit(x_data)\n",
    "    H = NMF_fit.components_\n",
    "    W = NMF_fit.transform(x_data)\n",
    "    # contains a tuple (i,j) if document i is in cluster j, for each document\n",
    "    clusters = map(np.argmax, W)\n",
    "    \n",
    "    # create a 14x14 matrix (where each row is an NMF cluster and each column is an SCDB cluster) measuring the degree of\n",
    "    # related-ness between each cluster pair\n",
    "    compare_mat = map(lambda r : map(int, r), np.zeros((n_clusters,14)))\n",
    "    # first, assign the (i,j) element in the matrix to the number of cases in NMF cluster i and SCDB cluster j, for each (i,j)\n",
    "    for i,j in zip(clusters, y_data):\n",
    "        compare_mat[i][j] += 1\n",
    "    # normalize each row to have a sum of 1\n",
    "    compare_mat = map(lambda row : map(float,row) / sum(row) if sum(row) > 0 else map(float,row), np.array(compare_mat))\n",
    "\n",
    "    # assign each NMF cluster to a SCDB cluster by picking the highest element of each row of compare_mat\n",
    "    assignments = map(np.argmax, compare_mat)\n",
    "    \n",
    "    # use the assignments above to convert the clusters into equivalent SCDB categories for each document\n",
    "    new_clusters = map(lambda cluster : assignments[cluster], clusters)\n",
    "    \n",
    "    return (accuracy(new_clusters, y_data), rand_index(new_clusters, y_data))"
   ]
  },
  {
   "cell_type": "code",
   "execution_count": 9,
   "metadata": {
    "collapsed": false
   },
   "outputs": [
    {
     "name": "stdout",
     "output_type": "stream",
     "text": [
      "Wall time: 2min 4s\n"
     ]
    },
    {
     "data": {
      "text/plain": [
       "(0.49954001839926404, 0.7721910442809519)"
      ]
     },
     "execution_count": 9,
     "metadata": {},
     "output_type": "execute_result"
    }
   ],
   "source": [
    "%%time\n",
    "evaluate(['noun_train_mat.csv','verb_train_mat.csv','adj_train_mat.csv','for_train_mat.csv','prec_train_mat.csv'],\n",
    "         train_issue_areas, n_clusters=20)"
   ]
  }
 ],
 "metadata": {
  "kernelspec": {
   "display_name": "Python 2",
   "language": "python",
   "name": "python2"
  },
  "language_info": {
   "codemirror_mode": {
    "name": "ipython",
    "version": 2
   },
   "file_extension": ".py",
   "mimetype": "text/x-python",
   "name": "python",
   "nbconvert_exporter": "python",
   "pygments_lexer": "ipython2",
   "version": "2.7.10"
  }
 },
 "nbformat": 4,
 "nbformat_minor": 0
}
