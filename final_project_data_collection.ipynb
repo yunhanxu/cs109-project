{
 "cells": [
  {
   "cell_type": "markdown",
   "metadata": {},
   "source": [
    "# Final Project\n",
    "\n",
    "CS 109 <br>\n",
    "Madhu, Max, and Yunhan"
   ]
  },
  {
   "cell_type": "markdown",
   "metadata": {},
   "source": [
    "## Data Collection | Yunhan\n",
    "\n",
    "We collected all of the unstructured text of Supreme Court opinions using the CourtListener API. We decided to use the Bulk Data API instead of the REST API since the latter would have required upwards of 60,000 requests. "
   ]
  },
  {
   "cell_type": "code",
   "execution_count": 1,
   "metadata": {
    "collapsed": true
   },
   "outputs": [],
   "source": [
    "%matplotlib inline\n",
    "import numpy as np\n",
    "import scipy as sp\n",
    "import matplotlib as mpl\n",
    "import matplotlib.cm as cm\n",
    "import matplotlib.pyplot as plt\n",
    "import pandas as pd\n",
    "import time\n",
    "pd.set_option(\"display.width\", 500)\n",
    "pd.set_option(\"display.max_columns\", 100)\n",
    "pd.set_option(\"display.notebook_repr_html\", True)\n",
    "import seaborn as sns\n",
    "sns.set_style(\"darkgrid\")\n",
    "sns.set_context(\"poster\")"
   ]
  },
  {
   "cell_type": "code",
   "execution_count": 2,
   "metadata": {
    "collapsed": false,
    "scrolled": false
   },
   "outputs": [
    {
     "name": "stdout",
     "output_type": "stream",
     "text": [
      "CPU times: user 42.1 s, sys: 16.2 s, total: 58.3 s\n",
      "Wall time: 1min 26s\n"
     ]
    }
   ],
   "source": [
    "%%time\n",
    "\n",
    "# ------ use this URL to download all opinions as multiple json files ------\n",
    "# https://www.courtlistener.com/api/bulk-data/document/scotus.tar.gz\n",
    "\n",
    "# ------ turn json files into pandas dataframe ------\n",
    "import os\n",
    "import glob\n",
    "import json\n",
    "\n",
    "# lists for pandas dataframe cols\n",
    "raw_dict = {}\n",
    "list_name,list_blocked,list_id,list_date,list_url,list_text = [],[],[],[],[],[]\n",
    "\n",
    "# iterate through each json file, append data to col lists\n",
    "for filename in glob.glob(\"*.json\"):\n",
    "    with open(filename) as json_file:\n",
    "        json_data = json.load(json_file)\n",
    "        list_name.append(json_data[\"citation\"][\"case_name\"])\n",
    "        list_blocked.append(json_data[\"blocked\"])\n",
    "        list_id.append(json_data[\"id\"])\n",
    "        list_date.append(json_data[\"date_filed\"])\n",
    "        if json_data[\"download_url\"] != \"\":\n",
    "            list_url.append(json_data[\"download_url\"])\n",
    "        else:\n",
    "            list_url.append(json_data[\"citation\"][\"resource_uri\"])\n",
    "        if json_data[\"plain_text\"] != \"\":\n",
    "            list_text.append(json_data[\"plain_text\"])\n",
    "        else:\n",
    "            list_text.append(json_data[\"html_with_citations\"])\n",
    "\n",
    "raw_dict[\"name\"] = list_name\n",
    "raw_dict[\"blocked\"] = list_blocked\n",
    "raw_dict[\"id\"] = list_id\n",
    "raw_dict[\"date\"] = list_date\n",
    "raw_dict[\"url\"] = list_url\n",
    "raw_dict[\"text\"] = list_text"
   ]
  },
  {
   "cell_type": "code",
   "execution_count": 3,
   "metadata": {
    "collapsed": false
   },
   "outputs": [
    {
     "name": "stdout",
     "output_type": "stream",
     "text": [
      "CPU times: user 5min 43s, sys: 11.5 s, total: 5min 55s\n",
      "Wall time: 6min 22s\n"
     ]
    },
    {
     "name": "stderr",
     "output_type": "stream",
     "text": [
      "/Users/yunhanxu/anaconda/lib/python2.7/site-packages/bs4/__init__.py:166: UserWarning: No parser was explicitly specified, so I'm using the best available HTML parser for this system (\"lxml\"). This usually isn't a problem, but if you run this code on another system, or in a different virtual environment, it may use a different parser and behave differently.\n",
      "\n",
      "To get rid of this warning, change this:\n",
      "\n",
      " BeautifulSoup([your markup])\n",
      "\n",
      "to this:\n",
      "\n",
      " BeautifulSoup([your markup], \"lxml\")\n",
      "\n",
      "  markup_type=markup_type))\n"
     ]
    }
   ],
   "source": [
    "%%time\n",
    "\n",
    "# strip html tags from text\n",
    "from bs4 import BeautifulSoup\n",
    "\n",
    "list_cleantext = []\n",
    "for rawtext in list_text:\n",
    "    list_cleantext.append(BeautifulSoup(rawtext).text.replace(\"\\n\",\"\"))\n",
    "\n",
    "raw_dict[\"text\"] = list_cleantext"
   ]
  },
  {
   "cell_type": "code",
   "execution_count": 4,
   "metadata": {
    "collapsed": false
   },
   "outputs": [],
   "source": [
    "raw_df = pd.DataFrame(raw_dict)"
   ]
  },
  {
   "cell_type": "code",
   "execution_count": 5,
   "metadata": {
    "collapsed": false
   },
   "outputs": [
    {
     "data": {
      "text/html": [
       "<div>\n",
       "<table border=\"1\" class=\"dataframe\">\n",
       "  <thead>\n",
       "    <tr style=\"text-align: right;\">\n",
       "      <th></th>\n",
       "      <th>blocked</th>\n",
       "      <th>date</th>\n",
       "      <th>id</th>\n",
       "      <th>name</th>\n",
       "      <th>text</th>\n",
       "      <th>url</th>\n",
       "    </tr>\n",
       "  </thead>\n",
       "  <tbody>\n",
       "    <tr>\n",
       "      <th>0</th>\n",
       "      <td>False</td>\n",
       "      <td>1922-05-29</td>\n",
       "      <td>100000</td>\n",
       "      <td>Morrisdale Coal Co. v. United States</td>\n",
       "      <td>259 U.S. 188 (1922)MORRISDALE COAL COMPANYv.UN...</td>\n",
       "      <td>None</td>\n",
       "    </tr>\n",
       "    <tr>\n",
       "      <th>1</th>\n",
       "      <td>False</td>\n",
       "      <td>1922-05-29</td>\n",
       "      <td>100001</td>\n",
       "      <td>Pine Hill Coal Co. v. United States</td>\n",
       "      <td>259 U.S. 191 (1922)PINE HILL COAL COMPANY, INC...</td>\n",
       "      <td>None</td>\n",
       "    </tr>\n",
       "    <tr>\n",
       "      <th>2</th>\n",
       "      <td>False</td>\n",
       "      <td>1922-05-29</td>\n",
       "      <td>100002</td>\n",
       "      <td>Santa Fe Pacific R. Co. v. Fall</td>\n",
       "      <td>259 U.S. 197 (1922)SANTA FE PACIFIC RAILROAD C...</td>\n",
       "      <td>None</td>\n",
       "    </tr>\n",
       "    <tr>\n",
       "      <th>3</th>\n",
       "      <td>False</td>\n",
       "      <td>1922-05-29</td>\n",
       "      <td>100003</td>\n",
       "      <td>Federal Baseball Club of Baltimore, Inc. v. Na...</td>\n",
       "      <td>259 U.S. 200 (1922)FEDERAL BASEBALL CLUB OF BA...</td>\n",
       "      <td>None</td>\n",
       "    </tr>\n",
       "    <tr>\n",
       "      <th>4</th>\n",
       "      <td>False</td>\n",
       "      <td>1922-05-29</td>\n",
       "      <td>100004</td>\n",
       "      <td>Mutual Life Ins. Co. of NY v. Liebing</td>\n",
       "      <td>259 U.S. 209 (1922)MUTUAL LIFE INSURANCE COMPA...</td>\n",
       "      <td>None</td>\n",
       "    </tr>\n",
       "  </tbody>\n",
       "</table>\n",
       "</div>"
      ],
      "text/plain": [
       "  blocked        date      id                                               name                                               text   url\n",
       "0   False  1922-05-29  100000               Morrisdale Coal Co. v. United States  259 U.S. 188 (1922)MORRISDALE COAL COMPANYv.UN...  None\n",
       "1   False  1922-05-29  100001                Pine Hill Coal Co. v. United States  259 U.S. 191 (1922)PINE HILL COAL COMPANY, INC...  None\n",
       "2   False  1922-05-29  100002                    Santa Fe Pacific R. Co. v. Fall  259 U.S. 197 (1922)SANTA FE PACIFIC RAILROAD C...  None\n",
       "3   False  1922-05-29  100003  Federal Baseball Club of Baltimore, Inc. v. Na...  259 U.S. 200 (1922)FEDERAL BASEBALL CLUB OF BA...  None\n",
       "4   False  1922-05-29  100004              Mutual Life Ins. Co. of NY v. Liebing  259 U.S. 209 (1922)MUTUAL LIFE INSURANCE COMPA...  None"
      ]
     },
     "execution_count": 5,
     "metadata": {},
     "output_type": "execute_result"
    }
   ],
   "source": [
    "raw_df.head()"
   ]
  },
  {
   "cell_type": "code",
   "execution_count": 7,
   "metadata": {
    "collapsed": false
   },
   "outputs": [],
   "source": [
    "raw_df.to_csv(\"raw_clistener_data.csv\", sep='\\t', encoding=\"utf-8\")"
   ]
  },
  {
   "cell_type": "code",
   "execution_count": null,
   "metadata": {
    "collapsed": true
   },
   "outputs": [],
   "source": []
  }
 ],
 "metadata": {
  "kernelspec": {
   "display_name": "Python 2",
   "language": "python",
   "name": "python2"
  },
  "language_info": {
   "codemirror_mode": {
    "name": "ipython",
    "version": 2
   },
   "file_extension": ".py",
   "mimetype": "text/x-python",
   "name": "python",
   "nbconvert_exporter": "python",
   "pygments_lexer": "ipython2",
   "version": "2.7.10"
  }
 },
 "nbformat": 4,
 "nbformat_minor": 0
}
